{
 "cells": [
  {
   "cell_type": "markdown",
   "metadata": {},
   "source": [
    "# needed\n",
    "\n",
    "# database with college football teams, colors, logos, game info (https://collegefootballdata.com/exporter)\n",
    "\n",
    "# open ai key so I can use their image generation (https://www.geeksforgeeks.org/generate-images-with-openai-in-python/)\n",
    "\n",
    "# s3 so I can save designs\n",
    "\n",
    " \n"
   ]
  },
  {
   "cell_type": "code",
   "execution_count": 17,
   "metadata": {},
   "outputs": [],
   "source": [
    "import boto3\n",
    "\n",
    "import aws\n",
    "import pandas as pd\n",
    "\n",
    "from io import StringIO"
   ]
  },
  {
   "cell_type": "code",
   "execution_count": 23,
   "metadata": {},
   "outputs": [],
   "source": [
    "test = pd.read_csv('gf.csv',index_col=0)"
   ]
  },
  {
   "cell_type": "code",
   "execution_count": 22,
   "metadata": {},
   "outputs": [],
   "source": [
    "def pd_to_s3(file,s3_name):\n",
    "    s3 = boto3.client('s3')\n",
    "    csv_buffer = StringIO()\n",
    "    file.to_csv(csv_buffer)\n",
    "    response = s3.put_object(Bucket='lm-myfreebucket', Body=csv_buffer.getvalue(), Key=s3_name)\n"
   ]
  },
  {
   "cell_type": "code",
   "execution_count": null,
   "metadata": {},
   "outputs": [],
   "source": []
  },
  {
   "cell_type": "code",
   "execution_count": 24,
   "metadata": {},
   "outputs": [],
   "source": [
    "pd_to_s3(test,'CFB_shirt/data/games/all_games_2023_past.csv')"
   ]
  },
  {
   "cell_type": "code",
   "execution_count": 1,
   "metadata": {},
   "outputs": [],
   "source": [
    "\n",
    "from PIL import Image, ImageOps, ImageDraw, ImageFont\n",
    "import warnings\n",
    "import requests\n",
    "import pandas as pd\n",
    "import json\n",
    "import datetime as dt\n",
    "import cfbd\n",
    "import helpers as hf\n",
    "warnings.filterwarnings(\"ignore\", category=DeprecationWarning) \n",
    "import yaml\n",
    "import random\n",
    "import base64\n"
   ]
  },
  {
   "cell_type": "code",
   "execution_count": 2,
   "metadata": {},
   "outputs": [],
   "source": [
    "def monday_run(test=False):\n",
    "    base_config,shop_config = hf.get_config()\n",
    "    cfbd_loader = hf.cfbp_handler(base_config['cfbd_api'])\n",
    "\n",
    "    # refresh teams if new season\n",
    "    if hf.new_football_season():\n",
    "        cfbd_loader.get_team_info()\n",
    "\n",
    "    # get my df of teams\n",
    "    teams = cfbd_loader.load_teams_table()\n",
    "    \n",
    "    # get new schedule info and return list of games i need to do\n",
    "    to_do_new,to_do_upcoming,all_games = cfbd_loader.get_schedule(2023)\n",
    "\n",
    "    print(f'New games to do {len(to_do_new)}')\n",
    "    print(f'Upcoming games to do {len(to_do_upcoming)}')\n",
    "\n",
    "    # have to line image path for config up with\n",
    "    print('new games')\n",
    "    for game in to_do_new:\n",
    "        print(f'    generating game {game} image')\n",
    "        game_config = hf.parse_game(game,teams)\n",
    "        game_config['path'] = rf\"data/images/{game}_pre.csv\"\n",
    "        game_config['game_id'] = {game}\n",
    "        config = hf.combine_configs(base_config,game_config)\n",
    "        design = hf.build_design(config,test=False)\n",
    "\n",
    "        if not test:\n",
    "            hf.post(design)\n",
    "    print('upcoming games')\n",
    "    for game_id in to_do_upcoming:\n",
    "        game = all_games.loc[all_games.id==game_id].to_dict('list')\n",
    "        for k in game.keys():\n",
    "            game[k] = game[k][0]\n",
    "        print(f'    generating game {game_id} image')\n",
    "        game_config = hf.parse_game(game,teams)\n",
    "        game_config['path'] = rf\"data/images/{game_id}_post.csv\"\n",
    "        game_config['game_id'] = {game_id}\n",
    "        config = hf.combine_configs(base_config,game_config)\n",
    "        design = hf.build_design(config,test=False)\n",
    "\n",
    "        if not test:\n",
    "            hf.post(design)"
   ]
  },
  {
   "cell_type": "code",
   "execution_count": 3,
   "metadata": {},
   "outputs": [
    {
     "name": "stdout",
     "output_type": "stream",
     "text": [
      "New games to do 0\n",
      "Upcoming games to do 12\n",
      "new games\n",
      "upcoming games\n",
      "    generating game 401618179 image\n",
      "NCAA football University Of South Dakota State Jackrabbits mascot beating University Of Albany Great Danes mascot\n",
      "generating image\n"
     ]
    },
    {
     "ename": "KeyError",
     "evalue": "'output'",
     "output_type": "error",
     "traceback": [
      "\u001b[0;31m---------------------------------------------------------------------------\u001b[0m",
      "\u001b[0;31mKeyError\u001b[0m                                  Traceback (most recent call last)",
      "Cell \u001b[0;32mIn[3], line 1\u001b[0m\n\u001b[0;32m----> 1\u001b[0m \u001b[43mmonday_run\u001b[49m\u001b[43m(\u001b[49m\u001b[43mtest\u001b[49m\u001b[38;5;241;43m=\u001b[39;49m\u001b[38;5;28;43;01mTrue\u001b[39;49;00m\u001b[43m)\u001b[49m\n",
      "Cell \u001b[0;32mIn[2], line 40\u001b[0m, in \u001b[0;36mmonday_run\u001b[0;34m(test)\u001b[0m\n\u001b[1;32m     38\u001b[0m game_config[\u001b[38;5;124m'\u001b[39m\u001b[38;5;124mgame_id\u001b[39m\u001b[38;5;124m'\u001b[39m] \u001b[38;5;241m=\u001b[39m {game_id}\n\u001b[1;32m     39\u001b[0m config \u001b[38;5;241m=\u001b[39m hf\u001b[38;5;241m.\u001b[39mcombine_configs(base_config,game_config)\n\u001b[0;32m---> 40\u001b[0m design \u001b[38;5;241m=\u001b[39m \u001b[43mhf\u001b[49m\u001b[38;5;241;43m.\u001b[39;49m\u001b[43mbuild_design\u001b[49m\u001b[43m(\u001b[49m\u001b[43mconfig\u001b[49m\u001b[43m,\u001b[49m\u001b[43mtest\u001b[49m\u001b[38;5;241;43m=\u001b[39;49m\u001b[38;5;28;43;01mFalse\u001b[39;49;00m\u001b[43m)\u001b[49m\n\u001b[1;32m     42\u001b[0m \u001b[38;5;28;01mif\u001b[39;00m \u001b[38;5;129;01mnot\u001b[39;00m test:\n\u001b[1;32m     43\u001b[0m     hf\u001b[38;5;241m.\u001b[39mpost(design)\n",
      "File \u001b[0;32m~/Desktop/DS_portoflio.nosync/shirts/helpers/assemble.py:78\u001b[0m, in \u001b[0;36mbuild_design\u001b[0;34m(config, test)\u001b[0m\n\u001b[1;32m     74\u001b[0m     bg \u001b[38;5;241m=\u001b[39m Image\u001b[38;5;241m.\u001b[39mnew(\u001b[38;5;124m'\u001b[39m\u001b[38;5;124mRGBA\u001b[39m\u001b[38;5;124m'\u001b[39m, (W, H))\n\u001b[1;32m     76\u001b[0m bg \u001b[38;5;241m=\u001b[39m ImageOps\u001b[38;5;241m.\u001b[39mexpand(bg,border\u001b[38;5;241m=\u001b[39m\u001b[38;5;241m1\u001b[39m,fill\u001b[38;5;241m=\u001b[39m\u001b[38;5;124m'\u001b[39m\u001b[38;5;124mblack\u001b[39m\u001b[38;5;124m'\u001b[39m)\n\u001b[0;32m---> 78\u001b[0m main_image \u001b[38;5;241m=\u001b[39m \u001b[43mgenerate_main\u001b[49m\u001b[43m(\u001b[49m\u001b[43mconfig\u001b[49m\u001b[43m[\u001b[49m\u001b[38;5;124;43m'\u001b[39;49m\u001b[38;5;124;43mgame_id\u001b[39;49m\u001b[38;5;124;43m'\u001b[39;49m\u001b[43m]\u001b[49m\u001b[43m,\u001b[49m\u001b[43msfx\u001b[49m\u001b[43m,\u001b[49m\u001b[43mprompt\u001b[49m\u001b[43m,\u001b[49m\u001b[43mconfig\u001b[49m\u001b[43m[\u001b[49m\u001b[38;5;124;43m'\u001b[39;49m\u001b[38;5;124;43msd_api\u001b[39;49m\u001b[38;5;124;43m'\u001b[39;49m\u001b[43m]\u001b[49m\u001b[43m,\u001b[49m\u001b[43mtest\u001b[49m\u001b[38;5;241;43m=\u001b[39;49m\u001b[43mtest\u001b[49m\u001b[43m)\u001b[49m\u001b[38;5;241m.\u001b[39mresize((iw,ih))\n\u001b[1;32m     80\u001b[0m logo1 \u001b[38;5;241m=\u001b[39m Image\u001b[38;5;241m.\u001b[39mopen(requests\u001b[38;5;241m.\u001b[39mget(config[\u001b[38;5;124m'\u001b[39m\u001b[38;5;124mhome_team\u001b[39m\u001b[38;5;124m'\u001b[39m][\u001b[38;5;124m'\u001b[39m\u001b[38;5;124mlogo\u001b[39m\u001b[38;5;124m'\u001b[39m], stream\u001b[38;5;241m=\u001b[39m\u001b[38;5;28;01mTrue\u001b[39;00m)\u001b[38;5;241m.\u001b[39mraw)\u001b[38;5;241m.\u001b[39mresize((lw,lh))\n\u001b[1;32m     82\u001b[0m logo2 \u001b[38;5;241m=\u001b[39m Image\u001b[38;5;241m.\u001b[39mopen(requests\u001b[38;5;241m.\u001b[39mget(config[\u001b[38;5;124m'\u001b[39m\u001b[38;5;124maway_team\u001b[39m\u001b[38;5;124m'\u001b[39m][\u001b[38;5;124m'\u001b[39m\u001b[38;5;124mlogo\u001b[39m\u001b[38;5;124m'\u001b[39m], stream\u001b[38;5;241m=\u001b[39m\u001b[38;5;28;01mTrue\u001b[39;00m)\u001b[38;5;241m.\u001b[39mraw)\u001b[38;5;241m.\u001b[39mresize((lw,lh))\n",
      "File \u001b[0;32m~/Desktop/DS_portoflio.nosync/shirts/helpers/image_generation.py:41\u001b[0m, in \u001b[0;36mgenerate_main\u001b[0;34m(game_id, sfx, prompt, sdapi, test)\u001b[0m\n\u001b[1;32m     38\u001b[0m response \u001b[38;5;241m=\u001b[39m requests\u001b[38;5;241m.\u001b[39mpost(url, headers\u001b[38;5;241m=\u001b[39mheaders, data\u001b[38;5;241m=\u001b[39mpayload)\n\u001b[1;32m     40\u001b[0m \u001b[38;5;66;03m# output[0] is a png\u001b[39;00m\n\u001b[0;32m---> 41\u001b[0m img \u001b[38;5;241m=\u001b[39m \u001b[43mjson\u001b[49m\u001b[38;5;241;43m.\u001b[39;49m\u001b[43mloads\u001b[49m\u001b[43m(\u001b[49m\u001b[43mresponse\u001b[49m\u001b[38;5;241;43m.\u001b[39;49m\u001b[43mtext\u001b[49m\u001b[43m)\u001b[49m\u001b[43m[\u001b[49m\u001b[38;5;124;43m\"\u001b[39;49m\u001b[38;5;124;43moutput\u001b[39;49m\u001b[38;5;124;43m\"\u001b[39;49m\u001b[43m]\u001b[49m[\u001b[38;5;241m0\u001b[39m]\n\u001b[1;32m     42\u001b[0m main_image \u001b[38;5;241m=\u001b[39m Image\u001b[38;5;241m.\u001b[39mopen(requests\u001b[38;5;241m.\u001b[39mget(img, stream\u001b[38;5;241m=\u001b[39m\u001b[38;5;28;01mTrue\u001b[39;00m)\u001b[38;5;241m.\u001b[39mraw)\n\u001b[1;32m     43\u001b[0m title \u001b[38;5;241m=\u001b[39m \u001b[38;5;124mrf\u001b[39m\u001b[38;5;124m\"\u001b[39m\u001b[38;5;124mfake_s3/data/images\u001b[39m\u001b[38;5;132;01m{\u001b[39;00mgame_id\u001b[38;5;132;01m}\u001b[39;00m\u001b[38;5;124m_\u001b[39m\u001b[38;5;132;01m{\u001b[39;00msfx\u001b[38;5;132;01m}\u001b[39;00m\u001b[38;5;124m\"\u001b[39m\n",
      "\u001b[0;31mKeyError\u001b[0m: 'output'"
     ]
    }
   ],
   "source": [
    "monday_run(test=True)"
   ]
  },
  {
   "cell_type": "markdown",
   "metadata": {},
   "source": [
    "- handle nan in teams table\n",
    "- font auto sizing"
   ]
  },
  {
   "cell_type": "code",
   "execution_count": 4,
   "metadata": {},
   "outputs": [],
   "source": [
    "#automate adding shirts to printfy/shopify"
   ]
  },
  {
   "cell_type": "code",
   "execution_count": 67,
   "metadata": {},
   "outputs": [],
   "source": [
    "\n",
    "def post(post_dict,publish=False):\n",
    "    upload_url = f\"{post_dict['base_url']}/uploads/images.json\"\n",
    "    product_url = f\"{post_dict['base_url']}/shops/{post_dict['shop_id']}/products.json\"\n",
    "\n",
    "    headers = {\n",
    "    \"Authorization\": f\"Bearer {post_dict['printify_access']}\",\n",
    "    \"Content-Type\": \"application/json\"\n",
    "    }\n",
    "\n",
    "\n",
    "    # this posts a design, but doesnt publish it\n",
    "\n",
    "    with open(post_dict['path'], \"rb\") as img_file:\n",
    "        img_b64 = base64.b64encode(img_file.read()).decode('utf-8')\n",
    "\n",
    "    # Upload the image to the Printify media library\n",
    "    data = {\n",
    "    \"file_name\": post_dict['title'],\n",
    "    \"contents\": img_b64\n",
    "    }\n",
    "    response = requests.post(upload_url, headers=headers, json=data)\n",
    "    if response.status_code == 200:\n",
    "        print('image sent to printify')\n",
    "        image_id = response.json()[\"id\"]\n",
    "        variants = [{\"id\":id,\"price\":post_dict['price'],\"is_enabled\": True} for id in post_dict['variant_ids']]\n",
    "\n",
    "        data = {\n",
    "            \"title\": post_dict['title'],\n",
    "            \"description\": post_dict['description'],\n",
    "            \"tags\": post_dict['tags'].split(', '),  # Assuming tags are comma-separated in the CSV\n",
    "            \"blueprint_id\": post_dict['blueprint_id'],\n",
    "            \"print_provider_id\": post_dict['print_provider_id'],\n",
    "            \"variants\": variants,\n",
    "            \"print_areas\": [\n",
    "                {\n",
    "                    \"variant_ids\": post_dict['variant_ids'],  # Replace with the actual variant ID\n",
    "                    \"placeholders\": [\n",
    "                        {\n",
    "                            \"position\": \"back\", # post to back of shirt, put a lil one on front with just date team score\n",
    "                            \"images\": [\n",
    "                                {\n",
    "                                    \"id\": image_id,\n",
    "                                    \"x\": 0.5,\n",
    "                                    \"y\": 0.5,\n",
    "                                    \"scale\": 1,\n",
    "                                    \"angle\": 0\n",
    "                                }\n",
    "                            ]\n",
    "                        }\n",
    "                    ]\n",
    "                }\n",
    "            ]\n",
    "        }\n",
    "\n",
    "        response1 = requests.post(product_url, headers=headers, json=data)\n",
    "        if response1.status_code == 200:\n",
    "            print(\"Product posted successfully in Printify\")\n",
    "        else:\n",
    "            print(\"Failed to post product in Printify\")\n",
    "\n",
    "        if publish:\n",
    "            # this part does the publishing\n",
    "            printify_publish = f\"{post_dict['base_url']}/shops/{post_dict['shop_id']}/products/{json.loads(response1.text)['id']}/publish.json\"\n",
    "\n",
    "            update_data = {\n",
    "                \"title\": True,\n",
    "                \"description\": True,\n",
    "                \"images\": True,\n",
    "                \"variants\": True,\n",
    "                \"tags\": True,\n",
    "                \"keyFeatures\": True,\n",
    "                \"shipping_template\": True\n",
    "            }\n",
    "\n",
    "            # Patch request to update the product status\n",
    "            response2 = requests.post(printify_publish, headers=headers, json=update_data)\n",
    "            if response2.status_code == 200:\n",
    "                print(\"Product published successfully in Printify\")\n",
    "            else:\n",
    "                print(\"Failed to publish product in Printify\")\n",
    "    else:\n",
    "        print('unable to send image to printify')"
   ]
  },
  {
   "cell_type": "code",
   "execution_count": 68,
   "metadata": {},
   "outputs": [
    {
     "name": "stdout",
     "output_type": "stream",
     "text": [
      "image sent to printify\n",
      "Product posted successfully in Printify\n",
      "Product published successfully in Printify\n"
     ]
    }
   ],
   "source": [
    "post(shop_config,publish=True)"
   ]
  },
  {
   "cell_type": "code",
   "execution_count": 69,
   "metadata": {},
   "outputs": [],
   "source": [
    "def get_items(created, post_dict):\n",
    "    '''\n",
    "    get items, so we can filter by name to get shopify id to add to collection\n",
    "    created is a list of all the things we just made to add to the list\n",
    "    '''\n",
    "    shopify_headers ={\n",
    "    \"X-Shopify-Access-Token\": post_dict[\"shopify_access\"],\n",
    "    \"Content-Type\": \"application/json\",\n",
    "    }\n",
    "    products_link = f\"https://{post_dict['shop_name']}.myshopify.com/admin/api/2024-01/products.json\"\n",
    "\n",
    "    response1 = requests.get(products_link, headers=shopify_headers)\n",
    "    print('got all items')\n",
    "    id_list=[]\n",
    "    for product in response1.json()['products']:\n",
    "        if product['title'] in created:\n",
    "            id_list.append(product['id'])\n",
    "    print('filtered list for just this collection')\n",
    "    return id_list"
   ]
  },
  {
   "cell_type": "code",
   "execution_count": 70,
   "metadata": {},
   "outputs": [],
   "source": [
    "def create_collection(created,week,year,post_dict):\n",
    "    '''\n",
    "    give this a list of product names (created) and it will add them to a collection for the week\n",
    "\n",
    "    add something for the whole has the game happened yet aspect\n",
    "    '''\n",
    "    shopify_headers ={\n",
    "    \"X-Shopify-Access-Token\": post_dict[\"shopify_access\"],\n",
    "    \"Content-Type\": \"application/json\",\n",
    "    }\n",
    "    collection_link = f\"https://{post_dict['shop_name']}.myshopify.com/admin/api/2023-04/custom_collections.json\"\n",
    "\n",
    "    id_list = get_items(created, post_dict)\n",
    "    collects = [{\"product_id\":x} for x in id_list]\n",
    "    collection_data = {\n",
    "    \"custom_collection\":{\n",
    "        \"title\":f\"Week {week}, {year}\",\n",
    "        \"collects\":collects\n",
    "        }\n",
    "    }\n",
    "    response1 = requests.post(collection_link, headers=shopify_headers, json = collection_data)\n",
    "    if response1.status_code==201:\n",
    "        print(\"collection created\")\n",
    "    else:\n",
    "        print(\"could not create collection\")\n",
    "        print(json.loads(response1.text))"
   ]
  },
  {
   "cell_type": "code",
   "execution_count": 71,
   "metadata": {},
   "outputs": [
    {
     "name": "stdout",
     "output_type": "stream",
     "text": [
      "got all items\n",
      "filtered list for just this collection\n",
      "collection created\n"
     ]
    }
   ],
   "source": [
    "create_collection([shop_config['title']],1,2023,shop_config)"
   ]
  }
 ],
 "metadata": {
  "kernelspec": {
   "display_name": "Python 3",
   "language": "python",
   "name": "python3"
  },
  "language_info": {
   "codemirror_mode": {
    "name": "ipython",
    "version": 3
   },
   "file_extension": ".py",
   "mimetype": "text/x-python",
   "name": "python",
   "nbconvert_exporter": "python",
   "pygments_lexer": "ipython3",
   "version": "3.10.4"
  }
 },
 "nbformat": 4,
 "nbformat_minor": 2
}
