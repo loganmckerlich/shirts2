{
 "cells": [
  {
   "cell_type": "markdown",
   "metadata": {},
   "source": [
    "# needed\n",
    "\n",
    "# database with college football teams, colors, logos, game info (https://collegefootballdata.com/exporter)\n",
    "\n",
    "# open ai key so I can use their image generation (https://www.geeksforgeeks.org/generate-images-with-openai-in-python/)\n",
    "\n",
    "# s3 so I can save designs\n",
    "\n",
    " \n"
   ]
  },
  {
   "cell_type": "code",
   "execution_count": 8,
   "metadata": {},
   "outputs": [],
   "source": [
    "\n",
    "from PIL import Image, ImageOps, ImageDraw, ImageFont\n",
    "import warnings\n",
    "import requests\n",
    "import pandas as pd\n",
    "import json\n",
    "import datetime as dt\n",
    "import cfbd\n",
    "import helpers as hf\n",
    "warnings.filterwarnings(\"ignore\", category=DeprecationWarning) \n",
    "import yaml\n",
    "import random\n",
    "import base64\n"
   ]
  },
  {
   "cell_type": "code",
   "execution_count": 2,
   "metadata": {},
   "outputs": [],
   "source": [
    "def monday_run(test=False):\n",
    "    base_config,post_config = hf.get_config()\n",
    "    cfbd_loader = hf.cfbp_handler(base_config['cfbd_api'])\n",
    "    s3_mover = hf.s3_mover()\n",
    "    yr = dt.date.today().year\n",
    "\n",
    "    # refresh teams if new season, could also add something to check if any teams exist\n",
    "    if hf.new_football_season():\n",
    "        teams = cfbd_loader.get_team_info()\n",
    "        s3_mover.pd_to_s3(teams,f'teams/all_teams_{yr}')\n",
    "    else:\n",
    "        # get my df of teams\n",
    "        teams = s3_mover.s3_to_pd(f'teams/all_teams_{yr}')\n",
    "    \n",
    "    # get new schedule info and return list of games i need to do\n",
    "    to_do_new,to_do_upcoming,all_games = cfbd_loader.get_schedule(yr)\n",
    "\n",
    "    print(f'New games to do {len(to_do_new)}')\n",
    "    print(f'Upcoming games to do {len(to_do_upcoming)}')\n",
    "\n",
    "    # have to line image path for config up with\n",
    "    print('new games')\n",
    "    for game in to_do_new:\n",
    "        print(f'    generating game {game} image')\n",
    "        game_config = hf.parse_game(game,teams)\n",
    "        game_config['path'] = rf\"images/pre_{game}.png\"\n",
    "        game_config['game_id'] = {game}\n",
    "        config = hf.combine_configs(base_config,game_config)\n",
    "        design = hf.build_design(config,test=False)\n",
    "\n",
    "        # do I need to save all my images to s3?\n",
    "        s3_mover.image_to_s3(design,rf\"post/{game_config['home_team']['shortn']}_v_{game_config['away_team']['shortn']}_{game_id}.csv\")\n",
    "\n",
    "        if not test:\n",
    "            post_config['image'] = design\n",
    "            hf.post(post_config)\n",
    "    print('upcoming games')\n",
    "    for game_id in to_do_upcoming:\n",
    "        game = all_games.loc[all_games.id==game_id].to_dict('list')\n",
    "        for k in game.keys():\n",
    "            game[k] = game[k][0]\n",
    "        print(f'    generating game {game_id} image')\n",
    "        game_config = hf.parse_game(game,teams)\n",
    "        game_config['game_id'] = game_id\n",
    "        config = hf.combine_configs(base_config,game_config)\n",
    "        design = hf.build_design(config,test=False)\n",
    "        \n",
    "        # do I need to save all my images to s3?\n",
    "        s3_mover.image_to_s3(design,rf\"pre/{game_config['home_team']['shortn']}_v_{game_config['away_team']['shortn']}_{game_id}.csv\")\n",
    "\n",
    "        if not test:\n",
    "            post_config['image'] = design\n",
    "            hf.post(post_config)"
   ]
  },
  {
   "cell_type": "code",
   "execution_count": 5,
   "metadata": {},
   "outputs": [],
   "source": [
    "# monday_run(test=True)"
   ]
  },
  {
   "cell_type": "markdown",
   "metadata": {},
   "source": [
    "- handle nan in teams table\n",
    "- font auto sizing"
   ]
  },
  {
   "cell_type": "code",
   "execution_count": 4,
   "metadata": {},
   "outputs": [],
   "source": [
    "#automate adding shirts to printfy/shopify"
   ]
  },
  {
   "cell_type": "code",
   "execution_count": 67,
   "metadata": {},
   "outputs": [],
   "source": [
    "\n",
    "def post(post_dict,publish=False):\n",
    "    upload_url = f\"{post_dict['base_url']}/uploads/images.json\"\n",
    "    product_url = f\"{post_dict['base_url']}/shops/{post_dict['shop_id']}/products.json\"\n",
    "\n",
    "    headers = {\n",
    "    \"Authorization\": f\"Bearer {post_dict['printify_access']}\",\n",
    "    \"Content-Type\": \"application/json\"\n",
    "    }\n",
    "\n",
    "    # this posts a design, but doesnt publish it\n",
    "    img = post_dict['design']\n",
    "\n",
    "    # Upload the image to the Printify media library\n",
    "    data = {\n",
    "    \"file_name\": post_dict['title'],\n",
    "    \"contents\": img\n",
    "    }\n",
    "    response = requests.post(upload_url, headers=headers, json=data)\n",
    "    if response.status_code == 200:\n",
    "        print('image sent to printify')\n",
    "        image_id = response.json()[\"id\"]\n",
    "        variants = [{\"id\":id,\"price\":post_dict['price'],\"is_enabled\": True} for id in post_dict['variant_ids']]\n",
    "\n",
    "        data = {\n",
    "            \"title\": post_dict['title'],\n",
    "            \"description\": post_dict['description'],\n",
    "            \"tags\": post_dict['tags'].split(', '),  # Assuming tags are comma-separated in the CSV\n",
    "            \"blueprint_id\": post_dict['blueprint_id'],\n",
    "            \"print_provider_id\": post_dict['print_provider_id'],\n",
    "            \"variants\": variants,\n",
    "            \"print_areas\": [\n",
    "                {\n",
    "                    \"variant_ids\": post_dict['variant_ids'],  # Replace with the actual variant ID\n",
    "                    \"placeholders\": [\n",
    "                        {\n",
    "                            \"position\": \"back\", # post to back of shirt, put a lil one on front with just date team score\n",
    "                            \"images\": [\n",
    "                                {\n",
    "                                    \"id\": image_id,\n",
    "                                    \"x\": 0.5,\n",
    "                                    \"y\": 0.5,\n",
    "                                    \"scale\": 1,\n",
    "                                    \"angle\": 0\n",
    "                                }\n",
    "                            ]\n",
    "                        }\n",
    "                    ]\n",
    "                }\n",
    "            ]\n",
    "        }\n",
    "\n",
    "        response1 = requests.post(product_url, headers=headers, json=data)\n",
    "        if response1.status_code == 200:\n",
    "            print(\"Product posted successfully in Printify\")\n",
    "        else:\n",
    "            print(\"Failed to post product in Printify\")\n",
    "\n",
    "        if publish:\n",
    "            # this part does the publishing\n",
    "            printify_publish = f\"{post_dict['base_url']}/shops/{post_dict['shop_id']}/products/{json.loads(response1.text)['id']}/publish.json\"\n",
    "\n",
    "            update_data = {\n",
    "                \"title\": True,\n",
    "                \"description\": True,\n",
    "                \"images\": True,\n",
    "                \"variants\": True,\n",
    "                \"tags\": True,\n",
    "                \"keyFeatures\": True,\n",
    "                \"shipping_template\": True\n",
    "            }\n",
    "\n",
    "            # Patch request to update the product status\n",
    "            response2 = requests.post(printify_publish, headers=headers, json=update_data)\n",
    "            if response2.status_code == 200:\n",
    "                print(\"Product published successfully in Printify\")\n",
    "            else:\n",
    "                print(\"Failed to publish product in Printify\")\n",
    "    else:\n",
    "        print('unable to send image to printify')"
   ]
  },
  {
   "cell_type": "code",
   "execution_count": 68,
   "metadata": {},
   "outputs": [
    {
     "name": "stdout",
     "output_type": "stream",
     "text": [
      "image sent to printify\n",
      "Product posted successfully in Printify\n",
      "Product published successfully in Printify\n"
     ]
    }
   ],
   "source": [
    "post(shop_config,publish=True)"
   ]
  },
  {
   "cell_type": "code",
   "execution_count": 69,
   "metadata": {},
   "outputs": [],
   "source": [
    "def get_items(created, post_dict):\n",
    "    '''\n",
    "    get items, so we can filter by name to get shopify id to add to collection\n",
    "    created is a list of all the things we just made to add to the list\n",
    "    '''\n",
    "    shopify_headers ={\n",
    "    \"X-Shopify-Access-Token\": post_dict[\"shopify_access\"],\n",
    "    \"Content-Type\": \"application/json\",\n",
    "    }\n",
    "    products_link = f\"https://{post_dict['shop_name']}.myshopify.com/admin/api/2024-01/products.json\"\n",
    "\n",
    "    response1 = requests.get(products_link, headers=shopify_headers)\n",
    "    print('got all items')\n",
    "    id_list=[]\n",
    "    for product in response1.json()['products']:\n",
    "        if product['title'] in created:\n",
    "            id_list.append(product['id'])\n",
    "    print('filtered list for just this collection')\n",
    "    return id_list"
   ]
  },
  {
   "cell_type": "code",
   "execution_count": 70,
   "metadata": {},
   "outputs": [],
   "source": [
    "def create_collection(created,week,year,post_dict):\n",
    "    '''\n",
    "    give this a list of product names (created) and it will add them to a collection for the week\n",
    "\n",
    "    add something for the whole has the game happened yet aspect\n",
    "    '''\n",
    "    shopify_headers ={\n",
    "    \"X-Shopify-Access-Token\": post_dict[\"shopify_access\"],\n",
    "    \"Content-Type\": \"application/json\",\n",
    "    }\n",
    "    collection_link = f\"https://{post_dict['shop_name']}.myshopify.com/admin/api/2023-04/custom_collections.json\"\n",
    "\n",
    "    id_list = get_items(created, post_dict)\n",
    "    collects = [{\"product_id\":x} for x in id_list]\n",
    "    collection_data = {\n",
    "    \"custom_collection\":{\n",
    "        \"title\":f\"Week {week}, {year}\",\n",
    "        \"collects\":collects\n",
    "        }\n",
    "    }\n",
    "    response1 = requests.post(collection_link, headers=shopify_headers, json = collection_data)\n",
    "    if response1.status_code==201:\n",
    "        print(\"collection created\")\n",
    "    else:\n",
    "        print(\"could not create collection\")\n",
    "        print(json.loads(response1.text))"
   ]
  },
  {
   "cell_type": "code",
   "execution_count": 71,
   "metadata": {},
   "outputs": [
    {
     "name": "stdout",
     "output_type": "stream",
     "text": [
      "got all items\n",
      "filtered list for just this collection\n",
      "collection created\n"
     ]
    }
   ],
   "source": [
    "create_collection([shop_config['title']],1,2023,shop_config)"
   ]
  }
 ],
 "metadata": {
  "kernelspec": {
   "display_name": "Python 3",
   "language": "python",
   "name": "python3"
  },
  "language_info": {
   "codemirror_mode": {
    "name": "ipython",
    "version": 3
   },
   "file_extension": ".py",
   "mimetype": "text/x-python",
   "name": "python",
   "nbconvert_exporter": "python",
   "pygments_lexer": "ipython3",
   "version": "3.10.4"
  }
 },
 "nbformat": 4,
 "nbformat_minor": 2
}
