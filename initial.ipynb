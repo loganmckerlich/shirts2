{
 "cells": [
  {
   "cell_type": "markdown",
   "metadata": {},
   "source": [
    "# needed\n",
    "\n",
    "# database with college football teams, colors, logos, game info (https://collegefootballdata.com/exporter)\n",
    "\n",
    "# open ai key so I can use their image generation (https://www.geeksforgeeks.org/generate-images-with-openai-in-python/)\n",
    "\n",
    "# s3 so I can save designs\n",
    "\n",
    " \n"
   ]
  },
  {
   "cell_type": "code",
   "execution_count": 1,
   "metadata": {},
   "outputs": [],
   "source": [
    "\n",
    "from PIL import Image, ImageOps, ImageDraw, ImageFont\n",
    "import warnings\n",
    "import requests\n",
    "import pandas as pd\n",
    "import json\n",
    "import datetime as dt\n",
    "import cfbd\n",
    "import helpers as hf\n",
    "warnings.filterwarnings(\"ignore\", category=DeprecationWarning) \n",
    "import yaml\n",
    "import random\n",
    "import base64\n"
   ]
  },
  {
   "cell_type": "code",
   "execution_count": 2,
   "metadata": {},
   "outputs": [],
   "source": [
    "base_config,shop_config = hf.get_config()\n"
   ]
  },
  {
   "cell_type": "code",
   "execution_count": 3,
   "metadata": {},
   "outputs": [],
   "source": [
    "def monday_run():\n",
    "    base_config = hf.get_config()\n",
    "    cfbd_loader = hf.cfbp_handler(base_config['cfbd_api'])\n",
    "\n",
    "    if hf.new_football_season():\n",
    "        cfbd_loader.get_team_info()\n",
    "\n",
    "    teams = hf.load_teams_table()\n",
    "    # find a way to determine which ones are new\n",
    "    cfbd_loader.get_schedule(2023)\n",
    "\n",
    "    # this is a list of all the new shirts to design\n",
    "    to_do = hf.to_do_list()\n",
    "    for game in to_do:\n",
    "        game_config = hf.parse_game(game,teams)\n",
    "        config = hf.combine_configs(base_config,game_config)\n",
    "        design = hf.build_design(config,test=False)\n",
    "\n",
    "        hf.post(design)\n"
   ]
  },
  {
   "cell_type": "markdown",
   "metadata": {},
   "source": [
    "- handle nan in teams table\n",
    "- font auto sizing"
   ]
  },
  {
   "cell_type": "code",
   "execution_count": 4,
   "metadata": {},
   "outputs": [],
   "source": [
    "#automate adding shirts to printfy/shopify"
   ]
  },
  {
   "cell_type": "code",
   "execution_count": 7,
   "metadata": {},
   "outputs": [],
   "source": [
    "\n",
    "def post(post_dict,publish=False):\n",
    "    upload_url = f\"{post_dict['base_url']}/uploads/images.json\"\n",
    "    product_url = f\"{post_dict['base_url']}/shops/{post_dict['shop_id']}/products.json\"\n",
    "\n",
    "    headers = {\n",
    "    \"Authorization\": f\"Bearer {post_dict['printify_access']}\",\n",
    "    \"Content-Type\": \"application/json\"\n",
    "    }\n",
    "\n",
    "\n",
    "    # this posts a design, but doesnt publish it\n",
    "\n",
    "    with open(post_dict['path'], \"rb\") as img_file:\n",
    "        img_b64 = base64.b64encode(img_file.read()).decode('utf-8')\n",
    "\n",
    "    # Upload the image to the Printify media library\n",
    "    data = {\n",
    "    \"file_name\": post_dict['title'],\n",
    "    \"contents\": img_b64\n",
    "    }\n",
    "    response = requests.post(upload_url, headers=headers, json=data)\n",
    "    if response.status_code == 200:\n",
    "        print('image sent to printify')\n",
    "        image_id = response.json()[\"id\"]\n",
    "        variants = [{\"id\":id,\"price\":post_dict['price'],\"is_enabled\": True} for id in post_dict['variant_ids']]\n",
    "\n",
    "        data = {\n",
    "            \"title\": post_dict['title'],\n",
    "            \"description\": post_dict['description'],\n",
    "            \"tags\": post_dict['tags'].split(', '),  # Assuming tags are comma-separated in the CSV\n",
    "            \"blueprint_id\": post_dict['blueprint_id'],\n",
    "            \"print_provider_id\": post_dict['print_provider_id'],\n",
    "            \"variants\": variants,\n",
    "            \"print_areas\": [\n",
    "                {\n",
    "                    \"variant_ids\": post_dict['variant_ids'],  # Replace with the actual variant ID\n",
    "                    \"placeholders\": [\n",
    "                        {\n",
    "                            \"position\": \"back\", # post to back of shirt, put a lil one on front with just date team score\n",
    "                            \"images\": [\n",
    "                                {\n",
    "                                    \"id\": image_id,\n",
    "                                    \"x\": 0.5,\n",
    "                                    \"y\": 0.5,\n",
    "                                    \"scale\": 1,\n",
    "                                    \"angle\": 0\n",
    "                                }\n",
    "                            ]\n",
    "                        }\n",
    "                    ]\n",
    "                }\n",
    "            ]\n",
    "        }\n",
    "\n",
    "        response1 = requests.post(product_url, headers=headers, json=data)\n",
    "        if response1.status_code == 200:\n",
    "            print(\"Product posted successfully in Printify\")\n",
    "        else:\n",
    "            print(\"Failed to post product in Printify\")\n",
    "\n",
    "        if publish:\n",
    "            # this part does the publishing\n",
    "            printify_publish = f\"{post_dict['base_url']}/shops/{post_dict['shop_id']}/products/{json.loads(response1.text)['id']}/publish.json\"\n",
    "\n",
    "            update_data = {\n",
    "                \"title\": True,\n",
    "                \"description\": True,\n",
    "                \"images\": True,\n",
    "                \"variants\": True,\n",
    "                \"tags\": True,\n",
    "                \"keyFeatures\": True,\n",
    "                \"shipping_template\": True\n",
    "            }\n",
    "\n",
    "            # Patch request to update the product status\n",
    "            response2 = requests.post(printify_publish, headers=headers, json=update_data)\n",
    "            if response2.status_code == 200:\n",
    "                print(\"Product published successfully in Printify\")\n",
    "            else:\n",
    "                print(\"Failed to publish product in Printify\")\n",
    "        else:\n",
    "            print('unable to send image to printify')"
   ]
  },
  {
   "cell_type": "code",
   "execution_count": 8,
   "metadata": {},
   "outputs": [
    {
     "name": "stdout",
     "output_type": "stream",
     "text": [
      "200\n",
      "Product posted successfully in Printify\n",
      "Product published successfully in Printify\n"
     ]
    }
   ],
   "source": [
    "post(shop_config,publish=True)"
   ]
  },
  {
   "cell_type": "code",
   "execution_count": null,
   "metadata": {},
   "outputs": [],
   "source": [
    "def create_collection(ids,week,year,post_dict):\n",
    "    '''\n",
    "    give this a list of product ids and it will add them to a collection for the week\n",
    "\n",
    "    add something for the whole has the game happened yet aspect\n",
    "    '''\n",
    "    shopify_headers ={\n",
    "    \"X-Shopify-Access-Token\": post_dict[\"shopify_access\"],\n",
    "    \"Content-Type\": \"application/json\",\n",
    "    }\n",
    "    collection_link = f\"https://{post_dict['shop_name']}.myshopify.com/admin/api/2023-04/custom_collections.json\"\n",
    "\n",
    "    collects = [{\"product_id\":x} for x in ids]\n",
    "    collection_data = {\n",
    "    \"custom_collection\":{\n",
    "        \"title\":f\"Week {week}, {year}\",\n",
    "        \"collects\":collects\n",
    "        }\n",
    "    }\n",
    "    response1 = requests.post(collection_link, headers=shopify_headers, json = collection_data)\n",
    "    if response1.status_code==201:\n",
    "        print(\"collection created\")\n",
    "    else:\n",
    "        print(\"could not create collection\")"
   ]
  }
 ],
 "metadata": {
  "kernelspec": {
   "display_name": "Python 3",
   "language": "python",
   "name": "python3"
  },
  "language_info": {
   "codemirror_mode": {
    "name": "ipython",
    "version": 3
   },
   "file_extension": ".py",
   "mimetype": "text/x-python",
   "name": "python",
   "nbconvert_exporter": "python",
   "pygments_lexer": "ipython3",
   "version": "3.10.4"
  }
 },
 "nbformat": 4,
 "nbformat_minor": 2
}
