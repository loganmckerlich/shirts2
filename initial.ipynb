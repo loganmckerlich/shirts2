{
 "cells": [
  {
   "cell_type": "markdown",
   "metadata": {},
   "source": [
    "# needed\n",
    "\n",
    "# database with college football teams, colors, logos, game info (https://collegefootballdata.com/exporter)\n",
    "\n",
    "# open ai key so I can use their image generation (https://www.geeksforgeeks.org/generate-images-with-openai-in-python/)\n",
    "\n",
    "# s3 so I can save designs\n",
    "\n",
    " \n"
   ]
  },
  {
   "cell_type": "code",
   "execution_count": 1,
   "metadata": {},
   "outputs": [],
   "source": [
    "\n",
    "from PIL import Image, ImageOps, ImageDraw, ImageFont\n",
    "import numpy as np\n",
    "import warnings\n",
    "import requests\n",
    "import pandas as pd\n",
    "import json\n",
    "import datetime as dt\n",
    "import cfbd\n",
    "import helpers as hf\n",
    "warnings.filterwarnings(\"ignore\", category=DeprecationWarning) \n",
    "import yaml\n",
    "import random\n",
    "import base64\n",
    "import svgwrite\n",
    "from io import BytesIO"
   ]
  },
  {
   "cell_type": "code",
   "execution_count": 2,
   "metadata": {},
   "outputs": [],
   "source": [
    "# head = {\n",
    "# \"Authorization\": 'Bearer',\n",
    "# \"Content-Type\": \"application/json\"\n",
    "# }\n",
    "\n",
    "# url = \"https://api.printify.com/v1/shops/13647323/products/65a37b41feca5ad9cb0c1a22.json\"\n",
    "\n",
    "# resp = requests.get(url = url, headers=head)\n"
   ]
  },
  {
   "cell_type": "code",
   "execution_count": 3,
   "metadata": {},
   "outputs": [],
   "source": [
    "# json.loads(resp.text)"
   ]
  },
  {
   "cell_type": "code",
   "execution_count": 4,
   "metadata": {},
   "outputs": [],
   "source": [
    "def process_game(game,teams,design_config,s3_mover,game_id,test,shop_config,pref):\n",
    "    print(f'    generating game image')\n",
    "    game = game.to_dict('records')[0]\n",
    "    game_config = hf.parse_game(game,teams)\n",
    "    game_config['game_id'] = game\n",
    "    config = hf.combine_configs(design_config,game_config)\n",
    "    design,text = hf.build_design(config,test=False)\n",
    "\n",
    "    # do I need to save all my images to s3?\n",
    "    s3_mover.image_to_s3(design,rf\"{pref}/{game_config['home_team']['shortn']}_v_{game_config['away_team']['shortn']}_{game_id}\")\n",
    "\n",
    "    if not test:\n",
    "        title,description,tags=hf.generate_t_d_t(game_config)\n",
    "        shop_config['image'] = design\n",
    "        shop_config['title'] = title\n",
    "        shop_config['description'] =  description\n",
    "        shop_config['tags'] =  tags\n",
    "        shop_config['design'] = design\n",
    "        shop_config['text'] = text\n",
    "        hf.post(shop_config,publish=True)"
   ]
  },
  {
   "cell_type": "code",
   "execution_count": null,
   "metadata": {},
   "outputs": [],
   "source": [
    "import time"
   ]
  },
  {
   "cell_type": "code",
   "execution_count": 5,
   "metadata": {},
   "outputs": [],
   "source": [
    "def monday_run(test=False,specific_game = None):\n",
    "    design_config,shop_config = hf.get_config()\n",
    "    s3_mover = hf.s3_mover()\n",
    "    cfbd_loader = hf.cfbp_handler(design_config['cfbd_api'],'09-6-2023')\n",
    "    yr = dt.date.today().year\n",
    "    yr=2023\n",
    "\n",
    "    # refresh teams if new season, could also add something to check if any teams exist\n",
    "    if hf.new_football_season():\n",
    "        teams = cfbd_loader.get_team_info()\n",
    "        s3_mover.pd_to_s3(teams,f'teams/all_teams_{yr}')\n",
    "    else:\n",
    "        # get my df of teams\n",
    "        teams = s3_mover.s3_to_pd(f'teams/all_teams_{yr}')\n",
    "    \n",
    "    # get new schedule info and return list of games i need to do\n",
    "    all_games = cfbd_loader.get_schedule(yr)\n",
    "    old_games = s3_mover.s3_to_pd(s3_name=f'old/all_games_{yr}')\n",
    "    to_do_new,to_do_upcoming = cfbd_loader.determine_to_do(old_games)\n",
    "\n",
    "    if specific_game is not None:\n",
    "        to_do_new = []\n",
    "        to_do_upcoming = [specific_game]\n",
    "\n",
    "    print(f'New games to do {len(to_do_new)}')\n",
    "    print(f'Upcoming games to do {len(to_do_upcoming)}')\n",
    "\n",
    "    to_do_upcoming = to_do_upcoming[:10]\n",
    "\n",
    "    # have to line image path for config up with\n",
    "    if len(to_do_new)>1:\n",
    "        print('new games')\n",
    "        game_weeks = []\n",
    "        for game_id in to_do_new:\n",
    "            game = all_games.loc[all_games.id == game_id]\n",
    "            if game.game_type.values[0] == 'regular':\n",
    "                game_weeks.append(game.week.values[0])\n",
    "            else: \n",
    "                wk = game.game_type.values[0]+str(game.week.values[0])\n",
    "                game_weeks.append(wk)\n",
    "            process_game(game,teams,design_config,s3_mover,game_id,test,shop_config,pref='post')\n",
    "        week = hf.most_frequent(game_weeks)\n",
    "\n",
    "    if len(to_do_upcoming):\n",
    "        print('upcoming games')\n",
    "        game_weeks = []\n",
    "        for game_id in to_do_upcoming:\n",
    "            game = all_games.loc[all_games.id == game_id]\n",
    "            if game.game_type.values[0] == 'regular':\n",
    "                game_weeks.append(game.week.values[0])\n",
    "            else: \n",
    "                wk = game.game_type.values[0]+''+str(game.week.values[0])\n",
    "                game_weeks.append(wk)\n",
    "            process_game(game,teams,design_config,s3_mover,game_id,test,shop_config,pref='pre')\n",
    "        week_upcoming = hf.most_frequent(game_weeks)\n",
    "    \n",
    "    time.sleep(10*60)\n",
    "    hf.create_collection(to_do_new,week,yr,shop_config,pref='post')\n",
    "    hf.create_collection(to_do_upcoming,week_upcoming,yr,shop_config,pref='pre')\n",
    "    s3_mover.pd_to_s3(all_games,s3_name=f'old/all_games_{yr}')"
   ]
  },
  {
   "cell_type": "code",
   "execution_count": 9,
   "metadata": {},
   "outputs": [
    {
     "name": "stdout",
     "output_type": "stream",
     "text": [
      "artificially setting to monday past date\n",
      "New games to do 0\n",
      "Upcoming games to do 1\n",
      "upcoming games\n",
      "    generating game image\n",
      "NCAA football University Of Washington Huskies mascot beating University Of Texas Longhorns mascot\n",
      "using saved image because test mode\n",
      "image and text sent to printify\n",
      "Product posted successfully in Printify\n",
      "Product published successfully in Printify\n",
      "['postseason1']\n",
      "got all items\n",
      "filtered list for just this collection\n",
      "collection created\n"
     ]
    }
   ],
   "source": [
    "monday_run(test=False,specific_game=401551788)"
   ]
  },
  {
   "cell_type": "markdown",
   "metadata": {},
   "source": [
    "- handle nan in teams table\n",
    "- font auto sizing"
   ]
  },
  {
   "cell_type": "code",
   "execution_count": 7,
   "metadata": {},
   "outputs": [],
   "source": [
    "test = pd.read_csv(r'/Users/loganmckerlich/Downloads/all_games_2023 __.csv',index_col=0)"
   ]
  }
 ],
 "metadata": {
  "kernelspec": {
   "display_name": "Python 3",
   "language": "python",
   "name": "python3"
  },
  "language_info": {
   "codemirror_mode": {
    "name": "ipython",
    "version": 3
   },
   "file_extension": ".py",
   "mimetype": "text/x-python",
   "name": "python",
   "nbconvert_exporter": "python",
   "pygments_lexer": "ipython3",
   "version": "3.10.4"
  }
 },
 "nbformat": 4,
 "nbformat_minor": 2
}
