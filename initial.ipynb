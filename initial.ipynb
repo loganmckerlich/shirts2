{
 "cells": [
  {
   "cell_type": "markdown",
   "metadata": {},
   "source": [
    "# needed\n",
    "\n",
    "# database with college football teams, colors, logos, game info (https://collegefootballdata.com/exporter)\n",
    "\n",
    "# open ai key so I can use their image generation (https://www.geeksforgeeks.org/generate-images-with-openai-in-python/)\n",
    "\n",
    "# s3 so I can save designs\n",
    "\n",
    " \n"
   ]
  },
  {
   "cell_type": "code",
   "execution_count": 15,
   "metadata": {},
   "outputs": [],
   "source": [
    "\n",
    "from PIL import Image, ImageOps, ImageDraw, ImageFont\n",
    "import numpy as np\n",
    "import warnings\n",
    "import requests\n",
    "import pandas as pd\n",
    "import json\n",
    "import datetime as dt\n",
    "import cfbd\n",
    "import helpers as hf\n",
    "warnings.filterwarnings(\"ignore\", category=DeprecationWarning) \n",
    "import yaml\n",
    "import random\n",
    "import base64\n",
    "import svgwrite\n",
    "from io import BytesIO"
   ]
  },
  {
   "cell_type": "code",
   "execution_count": 278,
   "metadata": {},
   "outputs": [],
   "source": [
    "with open(\"private.yml\", \"r\") as f:\n",
    "    private_yml = yaml.safe_load(f)\n",
    "\n",
    "\n",
    "head = {\n",
    "\"Authorization\": f'Bearer {private_yml[\"printify_access\"]}',\n",
    "\"Content-Type\": \"application/json\"\n",
    "}\n",
    "\n",
    "url = \"https://api.printify.com/v1/shops/13647323/products.json\"\n",
    "\n",
    "\n",
    "resp = requests.get(url = url, headers=head)\n",
    "\n",
    "response = json.loads(resp.text)"
   ]
  },
  {
   "cell_type": "code",
   "execution_count": 279,
   "metadata": {},
   "outputs": [
    {
     "data": {
      "text/plain": [
       "200"
      ]
     },
     "execution_count": 279,
     "metadata": {},
     "output_type": "execute_result"
    }
   ],
   "source": [
    "resp.status_code"
   ]
  },
  {
   "cell_type": "code",
   "execution_count": 280,
   "metadata": {},
   "outputs": [],
   "source": [
    "for res in response['data']:\n",
    "    if res['id'] == '65a7766343833862e40ef08e':\n",
    "        maybe = res\n"
   ]
  },
  {
   "cell_type": "code",
   "execution_count": 281,
   "metadata": {},
   "outputs": [
    {
     "data": {
      "text/plain": [
       "[{'src': 'https://images-api.printify.com/mockup/65a7766343833862e40ef08e/12100/92570/middle-tennessee-vs-louisiana-tech-10-oct-2023-regular-season-week-7-pre-game.jpg?camera_label=front',\n",
       "  'variant_ids': [12100, 12101, 12102, 12103, 12104],\n",
       "  'position': 'front',\n",
       "  'is_default': True,\n",
       "  'is_selected_for_publishing': True},\n",
       " {'src': 'https://images-api.printify.com/mockup/65a7766343833862e40ef08e/12100/92571/middle-tennessee-vs-louisiana-tech-10-oct-2023-regular-season-week-7-pre-game.jpg?camera_label=back',\n",
       "  'variant_ids': [12100, 12101, 12102, 12103, 12104],\n",
       "  'position': 'back',\n",
       "  'is_default': False,\n",
       "  'is_selected_for_publishing': True},\n",
       " {'src': 'https://images-api.printify.com/mockup/65a7766343833862e40ef08e/12100/92572/middle-tennessee-vs-louisiana-tech-10-oct-2023-regular-season-week-7-pre-game.jpg?camera_label=person-1',\n",
       "  'variant_ids': [12100, 12101, 12102, 12103, 12104],\n",
       "  'position': 'other',\n",
       "  'is_default': False,\n",
       "  'is_selected_for_publishing': True},\n",
       " {'src': 'https://images-api.printify.com/mockup/65a7766343833862e40ef08e/12100/92573/middle-tennessee-vs-louisiana-tech-10-oct-2023-regular-season-week-7-pre-game.jpg?camera_label=person-2',\n",
       "  'variant_ids': [12100, 12101, 12102, 12103, 12104],\n",
       "  'position': 'other',\n",
       "  'is_default': False,\n",
       "  'is_selected_for_publishing': True},\n",
       " {'src': 'https://images-api.printify.com/mockup/65a7766343833862e40ef08e/12100/92574/middle-tennessee-vs-louisiana-tech-10-oct-2023-regular-season-week-7-pre-game.jpg?camera_label=person-3',\n",
       "  'variant_ids': [12100, 12101, 12102, 12103, 12104],\n",
       "  'position': 'other',\n",
       "  'is_default': False,\n",
       "  'is_selected_for_publishing': False},\n",
       " {'src': 'https://images-api.printify.com/mockup/65a7766343833862e40ef08e/12100/92661/middle-tennessee-vs-louisiana-tech-10-oct-2023-regular-season-week-7-pre-game.jpg?camera_label=person-4',\n",
       "  'variant_ids': [12100, 12101, 12102, 12103, 12104],\n",
       "  'position': 'other',\n",
       "  'is_default': False,\n",
       "  'is_selected_for_publishing': False},\n",
       " {'src': 'https://images-api.printify.com/mockup/65a7766343833862e40ef08e/12100/92575/middle-tennessee-vs-louisiana-tech-10-oct-2023-regular-season-week-7-pre-game.jpg?camera_label=person-5',\n",
       "  'variant_ids': [12100, 12101, 12102, 12103, 12104],\n",
       "  'position': 'other',\n",
       "  'is_default': False,\n",
       "  'is_selected_for_publishing': False},\n",
       " {'src': 'https://images-api.printify.com/mockup/65a7766343833862e40ef08e/12100/92576/middle-tennessee-vs-louisiana-tech-10-oct-2023-regular-season-week-7-pre-game.jpg?camera_label=person-6',\n",
       "  'variant_ids': [12100, 12101, 12102, 12103, 12104],\n",
       "  'position': 'other',\n",
       "  'is_default': False,\n",
       "  'is_selected_for_publishing': False},\n",
       " {'src': 'https://images-api.printify.com/mockup/65a7766343833862e40ef08e/12100/92662/middle-tennessee-vs-louisiana-tech-10-oct-2023-regular-season-week-7-pre-game.jpg?camera_label=lifestyle',\n",
       "  'variant_ids': [12100, 12101, 12102, 12103, 12104],\n",
       "  'position': 'other',\n",
       "  'is_default': False,\n",
       "  'is_selected_for_publishing': False},\n",
       " {'src': 'https://images-api.printify.com/mockup/65a7766343833862e40ef08e/12100/93747/middle-tennessee-vs-louisiana-tech-10-oct-2023-regular-season-week-7-pre-game.jpg?camera_label=duo',\n",
       "  'variant_ids': [12100, 12101, 12102, 12103, 12104],\n",
       "  'position': 'front',\n",
       "  'is_default': False,\n",
       "  'is_selected_for_publishing': False},\n",
       " {'src': 'https://images-api.printify.com/mockup/65a7766343833862e40ef08e/12100/92586/middle-tennessee-vs-louisiana-tech-10-oct-2023-regular-season-week-7-pre-game.jpg?camera_label=front-collar-closeup',\n",
       "  'variant_ids': [12100, 12101, 12102, 12103, 12104],\n",
       "  'position': 'other',\n",
       "  'is_default': False,\n",
       "  'is_selected_for_publishing': False},\n",
       " {'src': 'https://images-api.printify.com/mockup/65a7766343833862e40ef08e/12100/92587/middle-tennessee-vs-louisiana-tech-10-oct-2023-regular-season-week-7-pre-game.jpg?camera_label=back-collar-closeup',\n",
       "  'variant_ids': [12100, 12101, 12102, 12103, 12104],\n",
       "  'position': 'other',\n",
       "  'is_default': False,\n",
       "  'is_selected_for_publishing': False},\n",
       " {'src': 'https://images-api.printify.com/mockup/65a7766343833862e40ef08e/12070/92570/middle-tennessee-vs-louisiana-tech-10-oct-2023-regular-season-week-7-pre-game.jpg?camera_label=front',\n",
       "  'variant_ids': [12070, 12071, 12072, 12073, 12074],\n",
       "  'position': 'front',\n",
       "  'is_default': True,\n",
       "  'is_selected_for_publishing': True},\n",
       " {'src': 'https://images-api.printify.com/mockup/65a7766343833862e40ef08e/12070/92571/middle-tennessee-vs-louisiana-tech-10-oct-2023-regular-season-week-7-pre-game.jpg?camera_label=back',\n",
       "  'variant_ids': [12070, 12071, 12072, 12073, 12074],\n",
       "  'position': 'back',\n",
       "  'is_default': False,\n",
       "  'is_selected_for_publishing': True},\n",
       " {'src': 'https://images-api.printify.com/mockup/65a7766343833862e40ef08e/12070/92572/middle-tennessee-vs-louisiana-tech-10-oct-2023-regular-season-week-7-pre-game.jpg?camera_label=person-1',\n",
       "  'variant_ids': [12070, 12071, 12072, 12073, 12074],\n",
       "  'position': 'other',\n",
       "  'is_default': False,\n",
       "  'is_selected_for_publishing': True},\n",
       " {'src': 'https://images-api.printify.com/mockup/65a7766343833862e40ef08e/12070/92573/middle-tennessee-vs-louisiana-tech-10-oct-2023-regular-season-week-7-pre-game.jpg?camera_label=person-2',\n",
       "  'variant_ids': [12070, 12071, 12072, 12073, 12074],\n",
       "  'position': 'other',\n",
       "  'is_default': False,\n",
       "  'is_selected_for_publishing': True},\n",
       " {'src': 'https://images-api.printify.com/mockup/65a7766343833862e40ef08e/12070/92574/middle-tennessee-vs-louisiana-tech-10-oct-2023-regular-season-week-7-pre-game.jpg?camera_label=person-3',\n",
       "  'variant_ids': [12070, 12071, 12072, 12073, 12074],\n",
       "  'position': 'other',\n",
       "  'is_default': False,\n",
       "  'is_selected_for_publishing': False},\n",
       " {'src': 'https://images-api.printify.com/mockup/65a7766343833862e40ef08e/12070/92661/middle-tennessee-vs-louisiana-tech-10-oct-2023-regular-season-week-7-pre-game.jpg?camera_label=person-4',\n",
       "  'variant_ids': [12070, 12071, 12072, 12073, 12074],\n",
       "  'position': 'other',\n",
       "  'is_default': False,\n",
       "  'is_selected_for_publishing': False},\n",
       " {'src': 'https://images-api.printify.com/mockup/65a7766343833862e40ef08e/12070/92575/middle-tennessee-vs-louisiana-tech-10-oct-2023-regular-season-week-7-pre-game.jpg?camera_label=person-5',\n",
       "  'variant_ids': [12070, 12071, 12072, 12073, 12074],\n",
       "  'position': 'other',\n",
       "  'is_default': False,\n",
       "  'is_selected_for_publishing': False},\n",
       " {'src': 'https://images-api.printify.com/mockup/65a7766343833862e40ef08e/12070/92576/middle-tennessee-vs-louisiana-tech-10-oct-2023-regular-season-week-7-pre-game.jpg?camera_label=person-6',\n",
       "  'variant_ids': [12070, 12071, 12072, 12073, 12074],\n",
       "  'position': 'other',\n",
       "  'is_default': False,\n",
       "  'is_selected_for_publishing': False},\n",
       " {'src': 'https://images-api.printify.com/mockup/65a7766343833862e40ef08e/12070/92662/middle-tennessee-vs-louisiana-tech-10-oct-2023-regular-season-week-7-pre-game.jpg?camera_label=lifestyle',\n",
       "  'variant_ids': [12070, 12071, 12072, 12073, 12074],\n",
       "  'position': 'other',\n",
       "  'is_default': False,\n",
       "  'is_selected_for_publishing': False},\n",
       " {'src': 'https://images-api.printify.com/mockup/65a7766343833862e40ef08e/12070/93747/middle-tennessee-vs-louisiana-tech-10-oct-2023-regular-season-week-7-pre-game.jpg?camera_label=duo',\n",
       "  'variant_ids': [12070, 12071, 12072, 12073, 12074],\n",
       "  'position': 'front',\n",
       "  'is_default': False,\n",
       "  'is_selected_for_publishing': False},\n",
       " {'src': 'https://images-api.printify.com/mockup/65a7766343833862e40ef08e/12070/92586/middle-tennessee-vs-louisiana-tech-10-oct-2023-regular-season-week-7-pre-game.jpg?camera_label=front-collar-closeup',\n",
       "  'variant_ids': [12070, 12071, 12072, 12073, 12074],\n",
       "  'position': 'other',\n",
       "  'is_default': False,\n",
       "  'is_selected_for_publishing': False},\n",
       " {'src': 'https://images-api.printify.com/mockup/65a7766343833862e40ef08e/12070/92587/middle-tennessee-vs-louisiana-tech-10-oct-2023-regular-season-week-7-pre-game.jpg?camera_label=back-collar-closeup',\n",
       "  'variant_ids': [12070, 12071, 12072, 12073, 12074],\n",
       "  'position': 'other',\n",
       "  'is_default': False,\n",
       "  'is_selected_for_publishing': False}]"
      ]
     },
     "execution_count": 281,
     "metadata": {},
     "output_type": "execute_result"
    }
   ],
   "source": [
    "maybe['images']"
   ]
  },
  {
   "cell_type": "code",
   "execution_count": 265,
   "metadata": {},
   "outputs": [],
   "source": [
    "ye = maybe['images'].copy()"
   ]
  },
  {
   "cell_type": "code",
   "execution_count": 269,
   "metadata": {},
   "outputs": [],
   "source": [
    "ye[0]['is_default'] =False\n",
    "ye[1]['is_default'] =True"
   ]
  },
  {
   "cell_type": "code",
   "execution_count": 273,
   "metadata": {},
   "outputs": [],
   "source": [
    "url2 = f'https://api.printify.com/v1/shops/13647323/products/65a76ebb61a522e4a607e545.json'\n",
    "\n",
    "resp = requests.put(url2, headers = head, json = ye)"
   ]
  },
  {
   "cell_type": "code",
   "execution_count": 275,
   "metadata": {},
   "outputs": [
    {
     "data": {
      "text/plain": [
       "200"
      ]
     },
     "execution_count": 275,
     "metadata": {},
     "output_type": "execute_result"
    }
   ],
   "source": [
    "resp.status_code"
   ]
  },
  {
   "cell_type": "code",
   "execution_count": 277,
   "metadata": {},
   "outputs": [
    {
     "data": {
      "text/plain": [
       "'Tulsa vs Temple. 28 Sep, 2023. week regular-season Week 5 post-game'"
      ]
     },
     "execution_count": 277,
     "metadata": {},
     "output_type": "execute_result"
    }
   ],
   "source": [
    "json.loads(resp.text)['title']"
   ]
  },
  {
   "cell_type": "code",
   "execution_count": 252,
   "metadata": {},
   "outputs": [
    {
     "data": {
      "text/plain": [
       "[{'src': 'https://images-api.printify.com/mockup/65a76ebb61a522e4a607e545/12100/92570/tulsa-vs-temple-28-sep-2023-week-regular-season-week-5-post-game.jpg?camera_label=front',\n",
       "  'variant_ids': [12100, 12101, 12102, 12103, 12104],\n",
       "  'position': 'front',\n",
       "  'is_default': False,\n",
       "  'is_selected_for_publishing': True},\n",
       " {'src': 'https://images-api.printify.com/mockup/65a76ebb61a522e4a607e545/12100/92571/tulsa-vs-temple-28-sep-2023-week-regular-season-week-5-post-game.jpg?camera_label=back',\n",
       "  'variant_ids': [12100, 12101, 12102, 12103, 12104],\n",
       "  'position': 'back',\n",
       "  'is_default': True,\n",
       "  'is_selected_for_publishing': True},\n",
       " {'src': 'https://images-api.printify.com/mockup/65a76ebb61a522e4a607e545/12100/92572/tulsa-vs-temple-28-sep-2023-week-regular-season-week-5-post-game.jpg?camera_label=person-1',\n",
       "  'variant_ids': [12100, 12101, 12102, 12103, 12104],\n",
       "  'position': 'other',\n",
       "  'is_default': False,\n",
       "  'is_selected_for_publishing': True},\n",
       " {'src': 'https://images-api.printify.com/mockup/65a76ebb61a522e4a607e545/12100/92573/tulsa-vs-temple-28-sep-2023-week-regular-season-week-5-post-game.jpg?camera_label=person-2',\n",
       "  'variant_ids': [12100, 12101, 12102, 12103, 12104],\n",
       "  'position': 'other',\n",
       "  'is_default': False,\n",
       "  'is_selected_for_publishing': True},\n",
       " {'src': 'https://images-api.printify.com/mockup/65a76ebb61a522e4a607e545/12100/92574/tulsa-vs-temple-28-sep-2023-week-regular-season-week-5-post-game.jpg?camera_label=person-3',\n",
       "  'variant_ids': [12100, 12101, 12102, 12103, 12104],\n",
       "  'position': 'other',\n",
       "  'is_default': False,\n",
       "  'is_selected_for_publishing': False},\n",
       " {'src': 'https://images-api.printify.com/mockup/65a76ebb61a522e4a607e545/12100/92661/tulsa-vs-temple-28-sep-2023-week-regular-season-week-5-post-game.jpg?camera_label=person-4',\n",
       "  'variant_ids': [12100, 12101, 12102, 12103, 12104],\n",
       "  'position': 'other',\n",
       "  'is_default': False,\n",
       "  'is_selected_for_publishing': False},\n",
       " {'src': 'https://images-api.printify.com/mockup/65a76ebb61a522e4a607e545/12100/92575/tulsa-vs-temple-28-sep-2023-week-regular-season-week-5-post-game.jpg?camera_label=person-5',\n",
       "  'variant_ids': [12100, 12101, 12102, 12103, 12104],\n",
       "  'position': 'other',\n",
       "  'is_default': False,\n",
       "  'is_selected_for_publishing': False},\n",
       " {'src': 'https://images-api.printify.com/mockup/65a76ebb61a522e4a607e545/12100/92576/tulsa-vs-temple-28-sep-2023-week-regular-season-week-5-post-game.jpg?camera_label=person-6',\n",
       "  'variant_ids': [12100, 12101, 12102, 12103, 12104],\n",
       "  'position': 'other',\n",
       "  'is_default': False,\n",
       "  'is_selected_for_publishing': False},\n",
       " {'src': 'https://images-api.printify.com/mockup/65a76ebb61a522e4a607e545/12100/92662/tulsa-vs-temple-28-sep-2023-week-regular-season-week-5-post-game.jpg?camera_label=lifestyle',\n",
       "  'variant_ids': [12100, 12101, 12102, 12103, 12104],\n",
       "  'position': 'other',\n",
       "  'is_default': False,\n",
       "  'is_selected_for_publishing': False},\n",
       " {'src': 'https://images-api.printify.com/mockup/65a76ebb61a522e4a607e545/12100/93747/tulsa-vs-temple-28-sep-2023-week-regular-season-week-5-post-game.jpg?camera_label=duo',\n",
       "  'variant_ids': [12100, 12101, 12102, 12103, 12104],\n",
       "  'position': 'front',\n",
       "  'is_default': False,\n",
       "  'is_selected_for_publishing': False},\n",
       " {'src': 'https://images-api.printify.com/mockup/65a76ebb61a522e4a607e545/12100/92586/tulsa-vs-temple-28-sep-2023-week-regular-season-week-5-post-game.jpg?camera_label=front-collar-closeup',\n",
       "  'variant_ids': [12100, 12101, 12102, 12103, 12104],\n",
       "  'position': 'other',\n",
       "  'is_default': False,\n",
       "  'is_selected_for_publishing': False},\n",
       " {'src': 'https://images-api.printify.com/mockup/65a76ebb61a522e4a607e545/12100/92587/tulsa-vs-temple-28-sep-2023-week-regular-season-week-5-post-game.jpg?camera_label=back-collar-closeup',\n",
       "  'variant_ids': [12100, 12101, 12102, 12103, 12104],\n",
       "  'position': 'other',\n",
       "  'is_default': False,\n",
       "  'is_selected_for_publishing': False},\n",
       " {'src': 'https://images-api.printify.com/mockup/65a76ebb61a522e4a607e545/12070/92570/tulsa-vs-temple-28-sep-2023-week-regular-season-week-5-post-game.jpg?camera_label=front',\n",
       "  'variant_ids': [12070, 12071, 12072, 12073, 12074],\n",
       "  'position': 'front',\n",
       "  'is_default': True,\n",
       "  'is_selected_for_publishing': True},\n",
       " {'src': 'https://images-api.printify.com/mockup/65a76ebb61a522e4a607e545/12070/92571/tulsa-vs-temple-28-sep-2023-week-regular-season-week-5-post-game.jpg?camera_label=back',\n",
       "  'variant_ids': [12070, 12071, 12072, 12073, 12074],\n",
       "  'position': 'back',\n",
       "  'is_default': False,\n",
       "  'is_selected_for_publishing': True},\n",
       " {'src': 'https://images-api.printify.com/mockup/65a76ebb61a522e4a607e545/12070/92572/tulsa-vs-temple-28-sep-2023-week-regular-season-week-5-post-game.jpg?camera_label=person-1',\n",
       "  'variant_ids': [12070, 12071, 12072, 12073, 12074],\n",
       "  'position': 'other',\n",
       "  'is_default': False,\n",
       "  'is_selected_for_publishing': True},\n",
       " {'src': 'https://images-api.printify.com/mockup/65a76ebb61a522e4a607e545/12070/92573/tulsa-vs-temple-28-sep-2023-week-regular-season-week-5-post-game.jpg?camera_label=person-2',\n",
       "  'variant_ids': [12070, 12071, 12072, 12073, 12074],\n",
       "  'position': 'other',\n",
       "  'is_default': False,\n",
       "  'is_selected_for_publishing': True},\n",
       " {'src': 'https://images-api.printify.com/mockup/65a76ebb61a522e4a607e545/12070/92574/tulsa-vs-temple-28-sep-2023-week-regular-season-week-5-post-game.jpg?camera_label=person-3',\n",
       "  'variant_ids': [12070, 12071, 12072, 12073, 12074],\n",
       "  'position': 'other',\n",
       "  'is_default': False,\n",
       "  'is_selected_for_publishing': False},\n",
       " {'src': 'https://images-api.printify.com/mockup/65a76ebb61a522e4a607e545/12070/92661/tulsa-vs-temple-28-sep-2023-week-regular-season-week-5-post-game.jpg?camera_label=person-4',\n",
       "  'variant_ids': [12070, 12071, 12072, 12073, 12074],\n",
       "  'position': 'other',\n",
       "  'is_default': False,\n",
       "  'is_selected_for_publishing': False},\n",
       " {'src': 'https://images-api.printify.com/mockup/65a76ebb61a522e4a607e545/12070/92575/tulsa-vs-temple-28-sep-2023-week-regular-season-week-5-post-game.jpg?camera_label=person-5',\n",
       "  'variant_ids': [12070, 12071, 12072, 12073, 12074],\n",
       "  'position': 'other',\n",
       "  'is_default': False,\n",
       "  'is_selected_for_publishing': False},\n",
       " {'src': 'https://images-api.printify.com/mockup/65a76ebb61a522e4a607e545/12070/92576/tulsa-vs-temple-28-sep-2023-week-regular-season-week-5-post-game.jpg?camera_label=person-6',\n",
       "  'variant_ids': [12070, 12071, 12072, 12073, 12074],\n",
       "  'position': 'other',\n",
       "  'is_default': False,\n",
       "  'is_selected_for_publishing': False},\n",
       " {'src': 'https://images-api.printify.com/mockup/65a76ebb61a522e4a607e545/12070/92662/tulsa-vs-temple-28-sep-2023-week-regular-season-week-5-post-game.jpg?camera_label=lifestyle',\n",
       "  'variant_ids': [12070, 12071, 12072, 12073, 12074],\n",
       "  'position': 'other',\n",
       "  'is_default': False,\n",
       "  'is_selected_for_publishing': False},\n",
       " {'src': 'https://images-api.printify.com/mockup/65a76ebb61a522e4a607e545/12070/93747/tulsa-vs-temple-28-sep-2023-week-regular-season-week-5-post-game.jpg?camera_label=duo',\n",
       "  'variant_ids': [12070, 12071, 12072, 12073, 12074],\n",
       "  'position': 'front',\n",
       "  'is_default': False,\n",
       "  'is_selected_for_publishing': False},\n",
       " {'src': 'https://images-api.printify.com/mockup/65a76ebb61a522e4a607e545/12070/92586/tulsa-vs-temple-28-sep-2023-week-regular-season-week-5-post-game.jpg?camera_label=front-collar-closeup',\n",
       "  'variant_ids': [12070, 12071, 12072, 12073, 12074],\n",
       "  'position': 'other',\n",
       "  'is_default': False,\n",
       "  'is_selected_for_publishing': False},\n",
       " {'src': 'https://images-api.printify.com/mockup/65a76ebb61a522e4a607e545/12070/92587/tulsa-vs-temple-28-sep-2023-week-regular-season-week-5-post-game.jpg?camera_label=back-collar-closeup',\n",
       "  'variant_ids': [12070, 12071, 12072, 12073, 12074],\n",
       "  'position': 'other',\n",
       "  'is_default': False,\n",
       "  'is_selected_for_publishing': False}]"
      ]
     },
     "execution_count": 252,
     "metadata": {},
     "output_type": "execute_result"
    }
   ],
   "source": [
    "ye"
   ]
  },
  {
   "cell_type": "code",
   "execution_count": 240,
   "metadata": {},
   "outputs": [
    {
     "data": {
      "text/plain": [
       "[{'src': 'https://images-api.printify.com/mockup/65a474f6689aded51102dc49/12100/92570/south-alabama-vs-southern-mississippi-17-oct-2023-week-regular-season-week-8-pre-game.jpg?camera_label=front',\n",
       "  'variant_ids': [12100, 12101, 12102, 12103, 12104],\n",
       "  'position': 'front',\n",
       "  'is_default': True,\n",
       "  'is_selected_for_publishing': True},\n",
       " {'src': 'https://images-api.printify.com/mockup/65a474f6689aded51102dc49/12100/92571/south-alabama-vs-southern-mississippi-17-oct-2023-week-regular-season-week-8-pre-game.jpg?camera_label=back',\n",
       "  'variant_ids': [12100, 12101, 12102, 12103, 12104],\n",
       "  'position': 'back',\n",
       "  'is_default': False,\n",
       "  'is_selected_for_publishing': True},\n",
       " {'src': 'https://images-api.printify.com/mockup/65a474f6689aded51102dc49/12100/92572/south-alabama-vs-southern-mississippi-17-oct-2023-week-regular-season-week-8-pre-game.jpg?camera_label=person-1',\n",
       "  'variant_ids': [12100, 12101, 12102, 12103, 12104],\n",
       "  'position': 'other',\n",
       "  'is_default': False,\n",
       "  'is_selected_for_publishing': True},\n",
       " {'src': 'https://images-api.printify.com/mockup/65a474f6689aded51102dc49/12100/92573/south-alabama-vs-southern-mississippi-17-oct-2023-week-regular-season-week-8-pre-game.jpg?camera_label=person-2',\n",
       "  'variant_ids': [12100, 12101, 12102, 12103, 12104],\n",
       "  'position': 'other',\n",
       "  'is_default': False,\n",
       "  'is_selected_for_publishing': True},\n",
       " {'src': 'https://images-api.printify.com/mockup/65a474f6689aded51102dc49/12100/92574/south-alabama-vs-southern-mississippi-17-oct-2023-week-regular-season-week-8-pre-game.jpg?camera_label=person-3',\n",
       "  'variant_ids': [12100, 12101, 12102, 12103, 12104],\n",
       "  'position': 'other',\n",
       "  'is_default': False,\n",
       "  'is_selected_for_publishing': False},\n",
       " {'src': 'https://images-api.printify.com/mockup/65a474f6689aded51102dc49/12100/92661/south-alabama-vs-southern-mississippi-17-oct-2023-week-regular-season-week-8-pre-game.jpg?camera_label=person-4',\n",
       "  'variant_ids': [12100, 12101, 12102, 12103, 12104],\n",
       "  'position': 'other',\n",
       "  'is_default': False,\n",
       "  'is_selected_for_publishing': False},\n",
       " {'src': 'https://images-api.printify.com/mockup/65a474f6689aded51102dc49/12100/92575/south-alabama-vs-southern-mississippi-17-oct-2023-week-regular-season-week-8-pre-game.jpg?camera_label=person-5',\n",
       "  'variant_ids': [12100, 12101, 12102, 12103, 12104],\n",
       "  'position': 'other',\n",
       "  'is_default': False,\n",
       "  'is_selected_for_publishing': False},\n",
       " {'src': 'https://images-api.printify.com/mockup/65a474f6689aded51102dc49/12100/92576/south-alabama-vs-southern-mississippi-17-oct-2023-week-regular-season-week-8-pre-game.jpg?camera_label=person-6',\n",
       "  'variant_ids': [12100, 12101, 12102, 12103, 12104],\n",
       "  'position': 'other',\n",
       "  'is_default': False,\n",
       "  'is_selected_for_publishing': False},\n",
       " {'src': 'https://images-api.printify.com/mockup/65a474f6689aded51102dc49/12100/92662/south-alabama-vs-southern-mississippi-17-oct-2023-week-regular-season-week-8-pre-game.jpg?camera_label=lifestyle',\n",
       "  'variant_ids': [12100, 12101, 12102, 12103, 12104],\n",
       "  'position': 'other',\n",
       "  'is_default': False,\n",
       "  'is_selected_for_publishing': False},\n",
       " {'src': 'https://images-api.printify.com/mockup/65a474f6689aded51102dc49/12100/93747/south-alabama-vs-southern-mississippi-17-oct-2023-week-regular-season-week-8-pre-game.jpg?camera_label=duo',\n",
       "  'variant_ids': [12100, 12101, 12102, 12103, 12104],\n",
       "  'position': 'front',\n",
       "  'is_default': False,\n",
       "  'is_selected_for_publishing': False},\n",
       " {'src': 'https://images-api.printify.com/mockup/65a474f6689aded51102dc49/12100/92586/south-alabama-vs-southern-mississippi-17-oct-2023-week-regular-season-week-8-pre-game.jpg?camera_label=front-collar-closeup',\n",
       "  'variant_ids': [12100, 12101, 12102, 12103, 12104],\n",
       "  'position': 'other',\n",
       "  'is_default': False,\n",
       "  'is_selected_for_publishing': False},\n",
       " {'src': 'https://images-api.printify.com/mockup/65a474f6689aded51102dc49/12100/92587/south-alabama-vs-southern-mississippi-17-oct-2023-week-regular-season-week-8-pre-game.jpg?camera_label=back-collar-closeup',\n",
       "  'variant_ids': [12100, 12101, 12102, 12103, 12104],\n",
       "  'position': 'other',\n",
       "  'is_default': False,\n",
       "  'is_selected_for_publishing': False},\n",
       " {'src': 'https://images-api.printify.com/mockup/65a474f6689aded51102dc49/12070/92570/south-alabama-vs-southern-mississippi-17-oct-2023-week-regular-season-week-8-pre-game.jpg?camera_label=front',\n",
       "  'variant_ids': [12070, 12071, 12072, 12073, 12074],\n",
       "  'position': 'front',\n",
       "  'is_default': True,\n",
       "  'is_selected_for_publishing': True},\n",
       " {'src': 'https://images-api.printify.com/mockup/65a474f6689aded51102dc49/12070/92571/south-alabama-vs-southern-mississippi-17-oct-2023-week-regular-season-week-8-pre-game.jpg?camera_label=back',\n",
       "  'variant_ids': [12070, 12071, 12072, 12073, 12074],\n",
       "  'position': 'back',\n",
       "  'is_default': False,\n",
       "  'is_selected_for_publishing': True},\n",
       " {'src': 'https://images-api.printify.com/mockup/65a474f6689aded51102dc49/12070/92572/south-alabama-vs-southern-mississippi-17-oct-2023-week-regular-season-week-8-pre-game.jpg?camera_label=person-1',\n",
       "  'variant_ids': [12070, 12071, 12072, 12073, 12074],\n",
       "  'position': 'other',\n",
       "  'is_default': False,\n",
       "  'is_selected_for_publishing': True},\n",
       " {'src': 'https://images-api.printify.com/mockup/65a474f6689aded51102dc49/12070/92573/south-alabama-vs-southern-mississippi-17-oct-2023-week-regular-season-week-8-pre-game.jpg?camera_label=person-2',\n",
       "  'variant_ids': [12070, 12071, 12072, 12073, 12074],\n",
       "  'position': 'other',\n",
       "  'is_default': False,\n",
       "  'is_selected_for_publishing': True},\n",
       " {'src': 'https://images-api.printify.com/mockup/65a474f6689aded51102dc49/12070/92574/south-alabama-vs-southern-mississippi-17-oct-2023-week-regular-season-week-8-pre-game.jpg?camera_label=person-3',\n",
       "  'variant_ids': [12070, 12071, 12072, 12073, 12074],\n",
       "  'position': 'other',\n",
       "  'is_default': False,\n",
       "  'is_selected_for_publishing': False},\n",
       " {'src': 'https://images-api.printify.com/mockup/65a474f6689aded51102dc49/12070/92661/south-alabama-vs-southern-mississippi-17-oct-2023-week-regular-season-week-8-pre-game.jpg?camera_label=person-4',\n",
       "  'variant_ids': [12070, 12071, 12072, 12073, 12074],\n",
       "  'position': 'other',\n",
       "  'is_default': False,\n",
       "  'is_selected_for_publishing': False},\n",
       " {'src': 'https://images-api.printify.com/mockup/65a474f6689aded51102dc49/12070/92575/south-alabama-vs-southern-mississippi-17-oct-2023-week-regular-season-week-8-pre-game.jpg?camera_label=person-5',\n",
       "  'variant_ids': [12070, 12071, 12072, 12073, 12074],\n",
       "  'position': 'other',\n",
       "  'is_default': False,\n",
       "  'is_selected_for_publishing': False},\n",
       " {'src': 'https://images-api.printify.com/mockup/65a474f6689aded51102dc49/12070/92576/south-alabama-vs-southern-mississippi-17-oct-2023-week-regular-season-week-8-pre-game.jpg?camera_label=person-6',\n",
       "  'variant_ids': [12070, 12071, 12072, 12073, 12074],\n",
       "  'position': 'other',\n",
       "  'is_default': False,\n",
       "  'is_selected_for_publishing': False},\n",
       " {'src': 'https://images-api.printify.com/mockup/65a474f6689aded51102dc49/12070/92662/south-alabama-vs-southern-mississippi-17-oct-2023-week-regular-season-week-8-pre-game.jpg?camera_label=lifestyle',\n",
       "  'variant_ids': [12070, 12071, 12072, 12073, 12074],\n",
       "  'position': 'other',\n",
       "  'is_default': False,\n",
       "  'is_selected_for_publishing': False},\n",
       " {'src': 'https://images-api.printify.com/mockup/65a474f6689aded51102dc49/12070/93747/south-alabama-vs-southern-mississippi-17-oct-2023-week-regular-season-week-8-pre-game.jpg?camera_label=duo',\n",
       "  'variant_ids': [12070, 12071, 12072, 12073, 12074],\n",
       "  'position': 'front',\n",
       "  'is_default': False,\n",
       "  'is_selected_for_publishing': False},\n",
       " {'src': 'https://images-api.printify.com/mockup/65a474f6689aded51102dc49/12070/92586/south-alabama-vs-southern-mississippi-17-oct-2023-week-regular-season-week-8-pre-game.jpg?camera_label=front-collar-closeup',\n",
       "  'variant_ids': [12070, 12071, 12072, 12073, 12074],\n",
       "  'position': 'other',\n",
       "  'is_default': False,\n",
       "  'is_selected_for_publishing': False},\n",
       " {'src': 'https://images-api.printify.com/mockup/65a474f6689aded51102dc49/12070/92587/south-alabama-vs-southern-mississippi-17-oct-2023-week-regular-season-week-8-pre-game.jpg?camera_label=back-collar-closeup',\n",
       "  'variant_ids': [12070, 12071, 12072, 12073, 12074],\n",
       "  'position': 'other',\n",
       "  'is_default': False,\n",
       "  'is_selected_for_publishing': False}]"
      ]
     },
     "execution_count": 240,
     "metadata": {},
     "output_type": "execute_result"
    }
   ],
   "source": [
    "response['data'][2]['images'][0]['is_default'] = False\n",
    "response['data'][2]['images'][1]['is_default'] = True"
   ]
  },
  {
   "cell_type": "code",
   "execution_count": 204,
   "metadata": {},
   "outputs": [],
   "source": [
    "def image_module(item):\n",
    "    url_title = item[\"title\"].replace(\" \",\"-\").replace(\",\",\"\").replace(\".\",\"\").lower()\n",
    "    variant = 12100\n",
    "    b1a = f'https://images-api.printify.com/mockup/{item[\"id\"]}/{variant}/92571/{url_title}.jpg?camera_label=back'\n",
    "    b2a = f'https://images-api.printify.com/mockup/{item[\"id\"]}/{variant}/92570/{url_title}.jpg?camera_label=front'\n",
    "    b3a = f'https://images-api.printify.com/mockup/{item[\"id\"]}/{variant}/92572/{url_title}.jpg?camera_label=person-1'\n",
    "\n",
    "    variant = 12070 # other color\n",
    "    b1b = f'https://images-api.printify.com/mockup/{item[\"id\"]}/{variant}/92571/{url_title}.jpg?camera_label=back'\n",
    "    b2b = f'https://images-api.printify.com/mockup/{item[\"id\"]}/{variant}/92570/{url_title}.jpg?camera_label=front'\n",
    "    b3b = f'https://images-api.printify.com/mockup/{item[\"id\"]}/{variant}/92572/{url_title}.jpg?camera_label=person-1'\n",
    "\n",
    "    new_base = [\n",
    "    {'src': f'{b1a}',\n",
    "    'variant_ids': [12100, 12101, 12102, 12103, 12104],\n",
    "    'position': 'back',\n",
    "    'is_default': True,\n",
    "    'is_selected_for_publishing': True},\n",
    "    {'src': f'{b2a}',\n",
    "    'variant_ids': [12100, 12101, 12102, 12103, 12104],\n",
    "    'position': 'front',\n",
    "    'is_default': False,\n",
    "    'is_selected_for_publishing': True},\n",
    "    {'src': f'{b3a}',\n",
    "    'variant_ids': [12100, 12101, 12102, 12103, 12104],\n",
    "    'position': 'other',\n",
    "    'is_default': False,\n",
    "    'is_selected_for_publishing': True},\n",
    "\n",
    "    {'src': f'{b1b}',\n",
    "    'variant_ids': [12070, 12071, 12072, 12073, 12074],\n",
    "    'position': 'back',\n",
    "    'is_default': True,\n",
    "    'is_selected_for_publishing': True},\n",
    "    {'src': f'{b2b}',\n",
    "    'variant_ids': [12070, 12071, 12072, 12073, 12074],\n",
    "    'position': 'front',\n",
    "    'is_default': False,\n",
    "    'is_selected_for_publishing': True},\n",
    "    {'src': f'{b3b}',\n",
    "    'variant_ids': [12070, 12071, 12072, 12073, 12074],\n",
    "    'position': 'other',\n",
    "    'is_default': False,\n",
    "    'is_selected_for_publishing': True}\n",
    "    ]\n",
    "    return new_base"
   ]
  },
  {
   "cell_type": "code",
   "execution_count": 205,
   "metadata": {},
   "outputs": [],
   "source": [
    "old = item.copy()\n",
    "old[\"images\"][0][\"is_default\"] = False\n",
    "old[\"images\"][1][\"is_default\"] = True\n",
    "\n",
    "old[\"images\"][12][\"is_default\"] = False\n",
    "old[\"images\"][13][\"is_default\"] = True\n",
    "\n",
    "url2 = f'https://api.printify.com/v1/shops/13647323/products/{item[\"id\"]}.json'\n",
    "\n",
    "all_var_images = image_module(item)\n",
    "\n",
    "new = {\"images\": all_var_images}\n",
    "\n",
    "resp = requests.put(url2, headers = head, data = new)"
   ]
  },
  {
   "cell_type": "code",
   "execution_count": 209,
   "metadata": {},
   "outputs": [
    {
     "data": {
      "text/plain": [
       "{'12070', '12100'}"
      ]
     },
     "execution_count": 209,
     "metadata": {},
     "output_type": "execute_result"
    }
   ],
   "source": [
    "set([all_var_images[x]['src'].split('/')[5] for x in range(len(all_var_images))])"
   ]
  },
  {
   "cell_type": "code",
   "execution_count": 206,
   "metadata": {},
   "outputs": [
    {
     "data": {
      "text/plain": [
       "24"
      ]
     },
     "execution_count": 206,
     "metadata": {},
     "output_type": "execute_result"
    }
   ],
   "source": [
    "len(json.loads(resp.text)[\"images\"])"
   ]
  },
  {
   "cell_type": "code",
   "execution_count": 208,
   "metadata": {},
   "outputs": [
    {
     "data": {
      "text/plain": [
       "{'12070', '12100'}"
      ]
     },
     "execution_count": 208,
     "metadata": {},
     "output_type": "execute_result"
    }
   ],
   "source": [
    "set([ json.loads(resp.text)[\"images\"][x]['src'].split('/')[5] for x in range(len(json.loads(resp.text)[\"images\"]))])"
   ]
  },
  {
   "cell_type": "code",
   "execution_count": 4,
   "metadata": {},
   "outputs": [],
   "source": [
    "def process_game(game,teams,design_config,s3_mover,game_id,test,shop_config,pref):\n",
    "    game = game.to_dict('records')[0]\n",
    "    game_config = hf.parse_game(game,teams)\n",
    "    game_config['game_id'] = game\n",
    "    config = hf.combine_configs(design_config,game_config)\n",
    "    design,text = hf.build_design(config,test=False)\n",
    "\n",
    "    # do I need to save all my images to s3?\n",
    "    s3_mover.image_to_s3(design,rf\"{pref}/{game_config['home_team']['shortn']}_v_{game_config['away_team']['shortn']}_{game_id}\")\n",
    "\n",
    "    if not test:\n",
    "        title,description,tags=hf.generate_t_d_t(game_config)\n",
    "        shop_config['image'] = design\n",
    "        shop_config['title'] = title\n",
    "        shop_config['description'] =  description\n",
    "        shop_config['tags'] =  tags\n",
    "        shop_config['design'] = design\n",
    "        shop_config['text'] = text\n",
    "        hf.post(shop_config,publish=True)"
   ]
  },
  {
   "cell_type": "code",
   "execution_count": 11,
   "metadata": {},
   "outputs": [],
   "source": [
    "import time"
   ]
  },
  {
   "cell_type": "code",
   "execution_count": 9,
   "metadata": {},
   "outputs": [
    {
     "name": "stdout",
     "output_type": "stream",
     "text": [
      "artificially setting to monday past date\n",
      "New games to do 0\n",
      "Upcoming games to do 1\n",
      "upcoming games\n",
      "    generating game image\n",
      "NCAA football University Of Washington Huskies mascot beating University Of Texas Longhorns mascot\n",
      "using saved image because test mode\n",
      "image and text sent to printify\n",
      "Product posted successfully in Printify\n",
      "Product published successfully in Printify\n",
      "['postseason1']\n",
      "got all items\n",
      "filtered list for just this collection\n",
      "collection created\n"
     ]
    }
   ],
   "source": [
    "monday_run(test=False,specific_game=401551788)"
   ]
  },
  {
   "cell_type": "markdown",
   "metadata": {},
   "source": [
    "- handle nan in teams table\n",
    "- font auto sizing"
   ]
  },
  {
   "cell_type": "code",
   "execution_count": 66,
   "metadata": {},
   "outputs": [],
   "source": [
    "all_games_df = pd.read_csv(r'/Users/loganmckerlich/Downloads/all_games_2023 __.csv',index_col=0)\n",
    "all_games_df.startdate = pd.to_datetime(all_games_df.startdate)\n",
    "all_games_df = all_games_df.drop_duplicates()\n",
    "all_games_df['monday'] = all_games_df['startdate'] - all_games_df['startdate'].dt.weekday.astype('timedelta64[D]')\n",
    "all_games_df.monday = all_games_df.monday.apply(lambda x:x.date())\n",
    "all_games_df.startdate = all_games_df.startdate.apply(lambda x:x.date())\n",
    "all_games_df.game_type = np.where(all_games_df.game_type=='regular', 'regular-season',all_games_df.game_type)\n",
    "all_games_df.week = all_games_df['game_type']+' Week '+all_games_df['week'].astype(str)"
   ]
  },
  {
   "cell_type": "code",
   "execution_count": 67,
   "metadata": {},
   "outputs": [
    {
     "data": {
      "text/plain": [
       "array(['regular-season', 'postseason'], dtype=object)"
      ]
     },
     "execution_count": 67,
     "metadata": {},
     "output_type": "execute_result"
    }
   ],
   "source": [
    "all_games_df.game_type.unique()"
   ]
  },
  {
   "cell_type": "code",
   "execution_count": 68,
   "metadata": {},
   "outputs": [
    {
     "data": {
      "text/plain": [
       "array(['regular-season Week 1', 'regular-season Week 2',\n",
       "       'regular-season Week 3', 'regular-season Week 4',\n",
       "       'regular-season Week 5', 'regular-season Week 6',\n",
       "       'regular-season Week 7', 'regular-season Week 8',\n",
       "       'regular-season Week 9', 'regular-season Week 10',\n",
       "       'regular-season Week 11', 'postseason Week 11',\n",
       "       'regular-season Week 12', 'postseason Week 12',\n",
       "       'regular-season Week 13', 'postseason Week 13',\n",
       "       'regular-season Week 14', 'postseason Week 14',\n",
       "       'postseason Week 15', 'regular-season Week 15',\n",
       "       'postseason Week 1'], dtype=object)"
      ]
     },
     "execution_count": 68,
     "metadata": {},
     "output_type": "execute_result"
    }
   ],
   "source": [
    "all_games_df.week.unique()"
   ]
  }
 ],
 "metadata": {
  "kernelspec": {
   "display_name": "Python 3",
   "language": "python",
   "name": "python3"
  },
  "language_info": {
   "codemirror_mode": {
    "name": "ipython",
    "version": 3
   },
   "file_extension": ".py",
   "mimetype": "text/x-python",
   "name": "python",
   "nbconvert_exporter": "python",
   "pygments_lexer": "ipython3",
   "version": "3.10.4"
  }
 },
 "nbformat": 4,
 "nbformat_minor": 2
}
