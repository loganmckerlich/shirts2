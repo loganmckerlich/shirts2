{
 "cells": [
  {
   "cell_type": "code",
   "execution_count": 5,
   "metadata": {},
   "outputs": [],
   "source": [
    "import numpy as np"
   ]
  },
  {
   "cell_type": "code",
   "execution_count": 22,
   "metadata": {},
   "outputs": [],
   "source": [
    "n_march_games = 67\n",
    "n_march_shirts = n_march_games*2\n",
    "n_months_bball_store = 3 #feb march april\n",
    "n_football_games = 118 \n",
    "n_football_shirts = n_football_games*2\n",
    "n_months_fball_store = 6 # aug-Jan\n",
    "n_random_shirts = 12*134 # one shirt a month per school\n",
    "n_months_random = 12\n",
    "shopify_fees = 31 # per monht\n",
    "dalle_fee = 0.04\n",
    "cost_shirt = 22\n",
    "shipping = 7"
   ]
  },
  {
   "cell_type": "code",
   "execution_count": 18,
   "metadata": {},
   "outputs": [],
   "source": [
    "def pricing(price):\n",
    "    total_shirts = n_march_shirts+n_football_shirts+n_random_shirts\n",
    "    dalle_yr = total_shirts*0.04\n",
    "    print(f'Cost of dalle ${round(dalle_yr,2)}')\n",
    "    shopify_yr = shopify_fees*(n_months_bball_store+n_months_fball_store+n_months_random)\n",
    "    print(f'Cost of shopify ${round(shopify_yr,2)}')\n",
    "    total =shopify_yr+dalle_yr\n",
    "    print(f'Total Base Cost ${round(total,2)}')\n",
    "    rev = price-cost_shirt\n",
    "    print(f'Rev per shirt: ${round(rev,2)}')\n",
    "    print(f'Cust pays: ${round(price +shipping,2)}')\n",
    "\n",
    "    even = int(np.ceil(total/rev))\n",
    "    print(f'Shirts to break even: {even}, {round(even/12)} per month')"
   ]
  },
  {
   "cell_type": "code",
   "execution_count": 20,
   "metadata": {},
   "outputs": [],
   "source": [
    "def just_march_madness(price):\n",
    "    dalle_cst = n_march_shirts*0.04\n",
    "    shopify_cst = shopify_fees*n_months_bball_store\n",
    "    total  = dalle_cst+shopify_cst\n",
    "    print(f'Total Base Cost ${round(total,2)}')\n",
    "    rev = price-cost_shirt\n",
    "    print(f'Rev per shirt: ${round(rev,2)}')\n",
    "    print(f'Cust pays: ${round(price +shipping,2)}')\n",
    "    even = int(np.ceil(total/rev))\n",
    "    print(f'Shirts to break even: {even}, {round(even/n_months_bball_store)} per month for {n_months_bball_store} months (while store open)')"
   ]
  },
  {
   "cell_type": "code",
   "execution_count": 23,
   "metadata": {},
   "outputs": [
    {
     "name": "stdout",
     "output_type": "stream",
     "text": [
      "Cost of dalle $79.12\n",
      "Cost of shopify $651\n",
      "Total Base Cost $730.12\n",
      "Rev per shirt: $3.99\n",
      "Cust pays: $32.99\n",
      "Shirts to break even: 183, 15 per month\n"
     ]
    }
   ],
   "source": [
    "pricing(25.99)"
   ]
  },
  {
   "cell_type": "code",
   "execution_count": 21,
   "metadata": {},
   "outputs": [
    {
     "name": "stdout",
     "output_type": "stream",
     "text": [
      "Total Base Cost $98.36\n",
      "Rev per shirt: $3.99\n",
      "Cust pays: $37.99\n",
      "Shirts to break even: 25, 8 per month for 3 months (while store open)\n"
     ]
    }
   ],
   "source": [
    "just_march_madness(25.99)"
   ]
  }
 ],
 "metadata": {
  "kernelspec": {
   "display_name": ".venv",
   "language": "python",
   "name": "python3"
  },
  "language_info": {
   "codemirror_mode": {
    "name": "ipython",
    "version": 3
   },
   "file_extension": ".py",
   "mimetype": "text/x-python",
   "name": "python",
   "nbconvert_exporter": "python",
   "pygments_lexer": "ipython3",
   "version": "3.10.4"
  }
 },
 "nbformat": 4,
 "nbformat_minor": 2
}
