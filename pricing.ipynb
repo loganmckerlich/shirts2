{
 "cells": [
  {
   "cell_type": "code",
   "execution_count": 8,
   "metadata": {},
   "outputs": [],
   "source": [
    "import numpy as np"
   ]
  },
  {
   "cell_type": "code",
   "execution_count": 11,
   "metadata": {},
   "outputs": [],
   "source": [
    "n_march_games = 67\n",
    "n_march_shirts = n_march_games*2\n",
    "n_months_bball_store = 3 #feb march april\n",
    "n_football_games = 118 \n",
    "n_football_shirts = n_football_games*2\n",
    "n_months_fball_store = 6 # aug-Jan\n",
    "n_random_shirts = 12*134 # one shirt a month per school\n",
    "n_months_random = 12\n",
    "shopify_fees = 31 # per monht\n",
    "dalle_fee = 0.04\n",
    "cost_shirt = 13\n",
    "shipping = 12"
   ]
  },
  {
   "cell_type": "code",
   "execution_count": 24,
   "metadata": {},
   "outputs": [],
   "source": [
    "def pricing(price):\n",
    "    total_shirts = n_march_shirts+n_football_shirts+n_random_shirts\n",
    "    dalle_yr = total_shirts*0.04\n",
    "    print(f'Cost of dalle ${round(dalle_yr,2)}')\n",
    "    shopify_yr = shopify_fees*(n_months_bball_store+n_months_bball_store+n_months_random)\n",
    "    print(f'Cost of shopify ${round(shopify_yr,2)}')\n",
    "    total =shopify_yr+dalle_yr\n",
    "    print(f'Total Base Cost ${round(total,2)}')\n",
    "    rev = price-cost_shirt\n",
    "    print(f'Rev per shirt: ${round(rev,2)}')\n",
    "    print(f'Cust pays: ${round(price +shipping,2)}')\n",
    "\n",
    "    even = int(np.ceil(total/rev))\n",
    "    print(f'Shirts to break even: {even}, {round(even/12)} per month')"
   ]
  },
  {
   "cell_type": "code",
   "execution_count": 25,
   "metadata": {},
   "outputs": [
    {
     "name": "stdout",
     "output_type": "stream",
     "text": [
      "Cost of dalle $79.12\n",
      "Cost of shopify $558\n",
      "Total Base Cost $637.12\n",
      "Rev per shirt: $8.99\n",
      "Cust pays: $33.99\n",
      "Shirts to break even: 71, 6 per month\n"
     ]
    }
   ],
   "source": [
    "pricing(21.99)"
   ]
  }
 ],
 "metadata": {
  "kernelspec": {
   "display_name": ".venv",
   "language": "python",
   "name": "python3"
  },
  "language_info": {
   "codemirror_mode": {
    "name": "ipython",
    "version": 3
   },
   "file_extension": ".py",
   "mimetype": "text/x-python",
   "name": "python",
   "nbconvert_exporter": "python",
   "pygments_lexer": "ipython3",
   "version": "3.10.4"
  }
 },
 "nbformat": 4,
 "nbformat_minor": 2
}
