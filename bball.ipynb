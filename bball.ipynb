{
 "cells": [
  {
   "cell_type": "code",
   "execution_count": 1,
   "metadata": {},
   "outputs": [
    {
     "name": "stdout",
     "output_type": "stream",
     "text": [
      "private file size: 2640\n"
     ]
    }
   ],
   "source": [
    "import sys\n",
    "from bs4 import BeautifulSoup\n",
    "import requests\n",
    "import datetime as dt\n",
    "from PIL import Image\n",
    "import helpers as hf\n",
    "\n",
    "import yaml\n",
    "from unidecode import unidecode\n",
    "import pandas as pd\n",
    "from PIL import Image, ImageOps, ImageDraw, ImageFont\n",
    "import json\n",
    "import numpy as np\n",
    "from instagrapi import Client as instaClient\n",
    "import tempfile\n",
    "from PIL import Image\n",
    "from io import BytesIO\n",
    "with open(\"info/design_config.yml\", \"r\") as f:\n",
    "    design_config = yaml.safe_load(f)\n",
    "\n",
    "design_config,shop_config = hf.get_config('cbb')\n",
    "cfbd_loader = hf.cfbp_handler(design_config['cfbd_api'])"
   ]
  },
  {
   "cell_type": "code",
   "execution_count": 15,
   "metadata": {},
   "outputs": [],
   "source": [
    "teams = cfbd_loader.get_team_info()"
   ]
  },
  {
   "cell_type": "code",
   "execution_count": 116,
   "metadata": {},
   "outputs": [],
   "source": [
    "# check if printify ptoduct is posted\n",
    "headers_printify = {\n",
    "    \"Authorization\": f\"Bearer {shop_config['printify_access']}\",\n",
    "    \"Content-Type\": \"application/json\",\n",
    "}\n",
    "headers_shopify = {\n",
    "            \"X-Shopify-Access-Token\": shop_config[\"shopify_access\"],\n",
    "            \"Content-Type\": \"application/json\",\n",
    "        }"
   ]
  },
  {
   "cell_type": "code",
   "execution_count": 117,
   "metadata": {},
   "outputs": [
    {
     "data": {
      "text/plain": [
       "'1/40'"
      ]
     },
     "execution_count": 117,
     "metadata": {},
     "output_type": "execute_result"
    }
   ],
   "source": [
    "products_link = f\"https://{shop_config['cbb']['shop_name']}.myshopify.com/admin/api/2024-01/products.json?limit=250\"\n",
    "response = requests.get(products_link, headers=headers_shopify)\n",
    "response.headers[\"X-Shopify-Shop-Api-Call-Limit\"]"
   ]
  },
  {
   "cell_type": "code",
   "execution_count": 3,
   "metadata": {},
   "outputs": [],
   "source": [
    "ii_response = requests.get('https://cdn.shopify.com/s/files/1/0685/3509/1421/files/2333403980485870616_2048.jpg?v=1708887700')\n",
    "img = Image.open(BytesIO(ii_response.content))"
   ]
  },
  {
   "cell_type": "code",
   "execution_count": 2,
   "metadata": {},
   "outputs": [],
   "source": [
    "instagram = hf.instagrammer(\n",
    "    un=shop_config[\"instagram\"][\"username\"],\n",
    "    pw=shop_config[\"instagram\"][\"password\"],\n",
    "    email=shop_config[\"instagram\"][\"eusername\"],\n",
    "    emailpw=shop_config[\"instagram\"][\"epassword\"],\n",
    ")"
   ]
  },
  {
   "cell_type": "code",
   "execution_count": 4,
   "metadata": {},
   "outputs": [
    {
     "name": "stdout",
     "output_type": "stream",
     "text": [
      "Attempting single image post\n"
     ]
    }
   ],
   "source": [
    "instagram.single_post(img,'test')"
   ]
  },
  {
   "cell_type": "code",
   "execution_count": 15,
   "metadata": {},
   "outputs": [],
   "source": [
    "call_limit = response.headers[\"X-Shopify-Shop-Api-Call-Limit\"]\n",
    "call_split = [int(x) for x in call_limit.split('/')]\n",
    "remaining_calls = call_split[1]-call_split[0]"
   ]
  },
  {
   "cell_type": "code",
   "execution_count": 10,
   "metadata": {},
   "outputs": [
    {
     "name": "stdout",
     "output_type": "stream",
     "text": [
      "472\n",
      "236\n"
     ]
    }
   ],
   "source": [
    "print(len(prods))\n",
    "print(len(prods2))"
   ]
  },
  {
   "cell_type": "code",
   "execution_count": null,
   "metadata": {},
   "outputs": [],
   "source": [
    "import time"
   ]
  },
  {
   "cell_type": "code",
   "execution_count": 4,
   "metadata": {},
   "outputs": [],
   "source": [
    "graphql_url = f\"https://{shop_config['cbb']['shop_name']}.myshopify.com/admin/api/2023-04/graphql.json\"\n"
   ]
  },
  {
   "cell_type": "code",
   "execution_count": 5,
   "metadata": {},
   "outputs": [],
   "source": [
    "big_body =\"\"\"\n",
    "            {\n",
    "            product(id:\"gid://shopify/Product/prod_id\") {\n",
    "                title\n",
    "                media(first:5) {\n",
    "                edges {\n",
    "                    node {\n",
    "                    ... fieldsForMediaTypes\n",
    "                    }\n",
    "                }\n",
    "                }\n",
    "            }\n",
    "            }\n",
    "\n",
    "            fragment fieldsForMediaTypes on Media {\n",
    "            alt\n",
    "            mediaContentType\n",
    "            preview {\n",
    "                image {\n",
    "                id\n",
    "                altText\n",
    "                url\n",
    "                }\n",
    "            }\n",
    "            status\n",
    "            ... on Video {\n",
    "                id\n",
    "                sources {\n",
    "                format\n",
    "                height\n",
    "                mimeType\n",
    "                url\n",
    "                width\n",
    "                }\n",
    "                originalSource {\n",
    "                format\n",
    "                height\n",
    "                mimeType\n",
    "                url\n",
    "                width\n",
    "                }\n",
    "            }\n",
    "            ... on ExternalVideo {\n",
    "                id\n",
    "                host\n",
    "                embeddedUrl\n",
    "            }\n",
    "            ... on Model3d {\n",
    "                sources {\n",
    "                format\n",
    "                mimeType\n",
    "                url\n",
    "                }\n",
    "                originalSource {\n",
    "                format\n",
    "                mimeType\n",
    "                url\n",
    "                }\n",
    "            }\n",
    "            ... on MediaImage {\n",
    "                id\n",
    "                image {\n",
    "                altText\n",
    "                url\n",
    "                }\n",
    "            }\n",
    "            }\n",
    "            \"\"\""
   ]
  },
  {
   "cell_type": "code",
   "execution_count": 6,
   "metadata": {},
   "outputs": [],
   "source": [
    "prod_id = 8368514007261"
   ]
  },
  {
   "cell_type": "code",
   "execution_count": 7,
   "metadata": {},
   "outputs": [],
   "source": [
    "all_p = ify_user.recur_get_products()"
   ]
  },
  {
   "cell_type": "code",
   "execution_count": 9,
   "metadata": {},
   "outputs": [],
   "source": [
    "for x in all_p:\n",
    "    if x['id'] == prod_id:\n",
    "        prod = x"
   ]
  },
  {
   "cell_type": "code",
   "execution_count": 12,
   "metadata": {},
   "outputs": [],
   "source": [
    "prod_gql = prod[\"admin_graphql_api_id\"]\n",
    "body = big_body.replace(\"prod_id\", str(prod_id))\n",
    "# now that I have the images I can reorder them\n",
    "url = f\"https://{shop_config['cbb']['shop_name']}.myshopify.com/admin/api/2024-01/graphql.json\"\n",
    "# from this response i can get my images\n",
    "response = requests.post(\n",
    "    url=url, headers=headers_shopify, json={\"query\": body}\n",
    ")\n",
    "\n",
    "images = json.loads(response.text)[\"data\"][\"product\"][\"media\"][\"edges\"]\n",
    "image0 = images[0][\"node\"][\"id\"]\n",
    "image2 = images[2][\"node\"][\"id\"]"
   ]
  },
  {
   "cell_type": "code",
   "execution_count": 14,
   "metadata": {},
   "outputs": [],
   "source": [
    "title = prod['title']"
   ]
  },
  {
   "cell_type": "code",
   "execution_count": 15,
   "metadata": {},
   "outputs": [],
   "source": [
    "alt_text_query = \"mutation productUpdateMedia($media: [UpdateMediaInput!]!, $productId: ID!) { productUpdateMedia(media: $media, productId: $productId) { media { alt } } }\"\n",
    "\n",
    "alt_text_var = {\n",
    "\"media\": [\n",
    "    {\n",
    "    \"alt\": title+' back view',\n",
    "    \"id\": image0\n",
    "    }\n",
    "],\n",
    "\"productId\": prod_gql\n",
    "}\n",
    "\n",
    "alt_resp = requests.post(\n",
    "    graphql_url, headers=headers_shopify, json={\"query\": alt_text_query, \"variables\": alt_text_var}\n",
    ")"
   ]
  },
  {
   "cell_type": "code",
   "execution_count": null,
   "metadata": {},
   "outputs": [],
   "source": [
    "import numpy as np"
   ]
  },
  {
   "cell_type": "code",
   "execution_count": 16,
   "metadata": {},
   "outputs": [
    {
     "data": {
      "text/plain": [
       "False"
      ]
     },
     "execution_count": 16,
     "metadata": {},
     "output_type": "execute_result"
    }
   ],
   "source": [
    "'currentlyAvailable' in str(alt_resp.headers)"
   ]
  },
  {
   "cell_type": "code",
   "execution_count": 26,
   "metadata": {},
   "outputs": [
    {
     "data": {
      "text/plain": [
       "False"
      ]
     },
     "execution_count": 26,
     "metadata": {},
     "output_type": "execute_result"
    }
   ],
   "source": [
    "json.loads(alt_resp.text)['extensions']['cost']['throttleStatus']['currentlyAvailable'] < 100:"
   ]
  },
  {
   "cell_type": "code",
   "execution_count": 32,
   "metadata": {},
   "outputs": [
    {
     "ename": "KeyError",
     "evalue": "'extensions'",
     "output_type": "error",
     "traceback": [
      "\u001b[0;31m---------------------------------------------------------------------------\u001b[0m",
      "\u001b[0;31mKeyError\u001b[0m                                  Traceback (most recent call last)",
      "Cell \u001b[0;32mIn[32], line 1\u001b[0m\n\u001b[0;32m----> 1\u001b[0m \u001b[43malt_resp\u001b[49m\u001b[38;5;241;43m.\u001b[39;49m\u001b[43mheaders\u001b[49m\u001b[43m[\u001b[49m\u001b[38;5;124;43m\"\u001b[39;49m\u001b[38;5;124;43mextensions\u001b[39;49m\u001b[38;5;124;43m\"\u001b[39;49m\u001b[43m]\u001b[49m\n",
      "File \u001b[0;32m~/Desktop/DS_portoflio.nosync/shirts/.venv/lib/python3.10/site-packages/requests/structures.py:52\u001b[0m, in \u001b[0;36mCaseInsensitiveDict.__getitem__\u001b[0;34m(self, key)\u001b[0m\n\u001b[1;32m     51\u001b[0m \u001b[38;5;28;01mdef\u001b[39;00m \u001b[38;5;21m__getitem__\u001b[39m(\u001b[38;5;28mself\u001b[39m, key):\n\u001b[0;32m---> 52\u001b[0m     \u001b[38;5;28;01mreturn\u001b[39;00m \u001b[38;5;28;43mself\u001b[39;49m\u001b[38;5;241;43m.\u001b[39;49m\u001b[43m_store\u001b[49m\u001b[43m[\u001b[49m\u001b[43mkey\u001b[49m\u001b[38;5;241;43m.\u001b[39;49m\u001b[43mlower\u001b[49m\u001b[43m(\u001b[49m\u001b[43m)\u001b[49m\u001b[43m]\u001b[49m[\u001b[38;5;241m1\u001b[39m]\n",
      "\u001b[0;31mKeyError\u001b[0m: 'extensions'"
     ]
    }
   ],
   "source": [
    "alt_resp.headers[\"extensions\"]"
   ]
  }
 ],
 "metadata": {
  "kernelspec": {
   "display_name": ".venv",
   "language": "python",
   "name": "python3"
  },
  "language_info": {
   "codemirror_mode": {
    "name": "ipython",
    "version": 3
   },
   "file_extension": ".py",
   "mimetype": "text/x-python",
   "name": "python",
   "nbconvert_exporter": "python",
   "pygments_lexer": "ipython3",
   "version": "3.10.4"
  }
 },
 "nbformat": 4,
 "nbformat_minor": 2
}
