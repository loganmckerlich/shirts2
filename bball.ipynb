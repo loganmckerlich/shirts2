{
 "cells": [
  {
   "cell_type": "code",
   "execution_count": 1,
   "metadata": {},
   "outputs": [
    {
     "name": "stdout",
     "output_type": "stream",
     "text": [
      "private file size: 2466\n"
     ]
    }
   ],
   "source": [
    "import sys\n",
    "from bs4 import BeautifulSoup\n",
    "import requests\n",
    "import datetime as dt\n",
    "from PIL import Image\n",
    "import helpers as hf\n",
    "\n",
    "import yaml\n",
    "from unidecode import unidecode\n",
    "import pandas as pd\n",
    "from PIL import Image, ImageOps, ImageDraw, ImageFont\n",
    "import json\n",
    "import numpy as np\n",
    "\n",
    "\n",
    "with open(\"info/design_config.yml\", \"r\") as f:\n",
    "    design_config = yaml.safe_load(f)\n",
    "\n",
    "design_config,shop_config = hf.get_config('cbb')\n",
    "cfbd_loader = hf.cfbp_handler(design_config['cfbd_api'])"
   ]
  },
  {
   "cell_type": "code",
   "execution_count": 2,
   "metadata": {},
   "outputs": [],
   "source": [
    "teams = cfbd_loader.get_team_info()"
   ]
  },
  {
   "cell_type": "code",
   "execution_count": 23,
   "metadata": {},
   "outputs": [
    {
     "data": {
      "text/plain": [
       "81.6"
      ]
     },
     "execution_count": 23,
     "metadata": {},
     "output_type": "execute_result"
    }
   ],
   "source": []
  },
  {
   "cell_type": "code",
   "execution_count": 3,
   "metadata": {},
   "outputs": [],
   "source": [
    "with open(\"info/2024_qualifiers.yml\",\"r\") as f:\n",
    "    quals = yaml.safe_load(f)"
   ]
  },
  {
   "cell_type": "code",
   "execution_count": 4,
   "metadata": {},
   "outputs": [],
   "source": [
    "# quals=list(set(quals))\n",
    "# with open('info/2024_qualifiers.yml', 'w') as file:\n",
    "#     yaml.dump(quals, file)\n"
   ]
  },
  {
   "cell_type": "code",
   "execution_count": 5,
   "metadata": {},
   "outputs": [],
   "source": [
    "teamnames=[x.lower() for x in teams.name]\n"
   ]
  },
  {
   "cell_type": "code",
   "execution_count": 6,
   "metadata": {},
   "outputs": [],
   "source": [
    "teams[\"joiner\"] = teams.name.apply(lambda x: unidecode(x).lower())\n"
   ]
  },
  {
   "cell_type": "code",
   "execution_count": 7,
   "metadata": {},
   "outputs": [
    {
     "name": "stdout",
     "output_type": "stream",
     "text": [
      "Dupe Info South Florida\n"
     ]
    }
   ],
   "source": [
    "for t in quals:\n",
    "    team_joiner = unidecode(t).lower()\n",
    "    team_info = teams.loc[teams.joiner==team_joiner]\n",
    "    if len(team_info)==0:\n",
    "        print(f'Missing {t}')\n",
    "    elif (type(team_info.logos)==float) or (team_info.mascot is None):\n",
    "        print(f\"incomplete {f}\")\n",
    "    if len(team_info)>1:\n",
    "        print(f\"Dupe Info {t}\")\n",
    "    \n",
    "  "
   ]
  },
  {
   "cell_type": "code",
   "execution_count": null,
   "metadata": {},
   "outputs": [],
   "source": []
  },
  {
   "cell_type": "code",
   "execution_count": 13,
   "metadata": {},
   "outputs": [
    {
     "data": {
      "text/html": [
       "<div>\n",
       "<style scoped>\n",
       "    .dataframe tbody tr th:only-of-type {\n",
       "        vertical-align: middle;\n",
       "    }\n",
       "\n",
       "    .dataframe tbody tr th {\n",
       "        vertical-align: top;\n",
       "    }\n",
       "\n",
       "    .dataframe thead th {\n",
       "        text-align: right;\n",
       "    }\n",
       "</style>\n",
       "<table border=\"1\" class=\"dataframe\">\n",
       "  <thead>\n",
       "    <tr style=\"text-align: right;\">\n",
       "      <th></th>\n",
       "      <th>name</th>\n",
       "      <th>abrev</th>\n",
       "      <th>alt_color</th>\n",
       "      <th>color</th>\n",
       "      <th>division</th>\n",
       "      <th>id</th>\n",
       "      <th>logos</th>\n",
       "      <th>long_name</th>\n",
       "      <th>mascot</th>\n",
       "      <th>team_id</th>\n",
       "      <th>joiner</th>\n",
       "    </tr>\n",
       "  </thead>\n",
       "  <tbody>\n",
       "    <tr>\n",
       "      <th>1424</th>\n",
       "      <td>South Florida</td>\n",
       "      <td>USF</td>\n",
       "      <td>#231f20</td>\n",
       "      <td>#004A36</td>\n",
       "      <td>fbs</td>\n",
       "      <td>58.0</td>\n",
       "      <td>http://a.espncdn.com/i/teamlogos/ncaa/500/58.png</td>\n",
       "      <td>None</td>\n",
       "      <td>Bulls</td>\n",
       "      <td>NaN</td>\n",
       "      <td>south florida</td>\n",
       "    </tr>\n",
       "  </tbody>\n",
       "</table>\n",
       "</div>"
      ],
      "text/plain": [
       "               name abrev alt_color    color division    id  \\\n",
       "1424  South Florida   USF   #231f20  #004A36      fbs  58.0   \n",
       "\n",
       "                                                 logos long_name mascot  \\\n",
       "1424  http://a.espncdn.com/i/teamlogos/ncaa/500/58.png      None  Bulls   \n",
       "\n",
       "     team_id         joiner  \n",
       "1424     NaN  south florida  "
      ]
     },
     "execution_count": 13,
     "metadata": {},
     "output_type": "execute_result"
    }
   ],
   "source": [
    "teams.loc[teams.joiner=='south florida']"
   ]
  },
  {
   "cell_type": "code",
   "execution_count": 9,
   "metadata": {},
   "outputs": [],
   "source": [
    "removers = [3198]"
   ]
  },
  {
   "cell_type": "code",
   "execution_count": 10,
   "metadata": {},
   "outputs": [],
   "source": [
    "teams = teams.loc[teams.id.isin(removers)==False]"
   ]
  },
  {
   "cell_type": "code",
   "execution_count": 11,
   "metadata": {},
   "outputs": [
    {
     "data": {
      "text/plain": [
       "joiner\n",
       "blinn college          4\n",
       "independence c.c.      3\n",
       "butler c.c.            3\n",
       "montana tech           2\n",
       "texas a&m commerce     2\n",
       "west virginia state    2\n",
       "georgetown ky          2\n",
       "professional           2\n",
       "texas wesleyan         2\n",
       "hutchinson c.c.        2\n",
       "edward waters          2\n",
       "stillman               2\n",
       "erskine                2\n",
       "northwestern ia        2\n",
       "la salle               2\n",
       "american               2\n",
       "pacific fleet          1\n",
       "pace                   1\n",
       "ouachita baptist       1\n",
       "parsons                1\n",
       "Name: count, dtype: int64"
      ]
     },
     "execution_count": 11,
     "metadata": {},
     "output_type": "execute_result"
    }
   ],
   "source": [
    "teams.joiner.value_counts()[0:20]"
   ]
  },
  {
   "cell_type": "code",
   "execution_count": 12,
   "metadata": {},
   "outputs": [],
   "source": [
    "# add Oakland, UNC Wilmington, Sam Housten"
   ]
  },
  {
   "cell_type": "code",
   "execution_count": 286,
   "metadata": {},
   "outputs": [],
   "source": [
    "ify_user = hf.shopify_printify(shop_config,'cbb')"
   ]
  },
  {
   "cell_type": "code",
   "execution_count": 287,
   "metadata": {},
   "outputs": [],
   "source": [
    "ap = ify_user.recursive_get_prods()"
   ]
  },
  {
   "cell_type": "code",
   "execution_count": 205,
   "metadata": {},
   "outputs": [],
   "source": [
    "# check if printify ptoduct is posted\n",
    "headers_printify = {\n",
    "    \"Authorization\": f\"Bearer {shop_config['printify_access']}\",\n",
    "    \"Content-Type\": \"application/json\",\n",
    "}"
   ]
  },
  {
   "cell_type": "code",
   "execution_count": 283,
   "metadata": {},
   "outputs": [],
   "source": [
    "url =f\"{shop_config['base_url']}/shops/{shop_config['cbb']['shop_id']}/products/65d2945e767be705420225c9.json\"\n",
    "response = requests.get(url=url, headers=headers_printify)"
   ]
  },
  {
   "cell_type": "code",
   "execution_count": 284,
   "metadata": {},
   "outputs": [
    {
     "data": {
      "text/plain": [
       "dict_keys(['id', 'title', 'description', 'tags', 'options', 'variants', 'images', 'created_at', 'updated_at', 'visible', 'is_locked', 'external', 'blueprint_id', 'user_id', 'shop_id', 'print_provider_id', 'print_areas', 'print_details', 'sales_channel_properties', 'is_printify_express_eligible', 'is_printify_express_enabled'])"
      ]
     },
     "execution_count": 284,
     "metadata": {},
     "output_type": "execute_result"
    }
   ],
   "source": [
    "json.loads(response.text).keys()"
   ]
  },
  {
   "cell_type": "code",
   "execution_count": 285,
   "metadata": {},
   "outputs": [
    {
     "data": {
      "text/plain": [
       "{'id': '8367777775837',\n",
       " 'handle': 'https://c2b32f-2.myshopify.com/products/usc-vs-vcu-16-mar-2011',\n",
       " 'shipping_template_id': '95423561949'}"
      ]
     },
     "execution_count": 285,
     "metadata": {},
     "output_type": "execute_result"
    }
   ],
   "source": [
    "# check the last product posted with this, and then wait like 5 extra minutes and then should be good to do images. \n",
    "# also could prob get ID we need to update this way instead of relying on alt text\n",
    "if 'external' in json.loads(response.text).keys() and json.loads(response.text)['external']['id'] != '':\n",
    "    "
   ]
  }
 ],
 "metadata": {
  "kernelspec": {
   "display_name": ".venv",
   "language": "python",
   "name": "python3"
  },
  "language_info": {
   "codemirror_mode": {
    "name": "ipython",
    "version": 3
   },
   "file_extension": ".py",
   "mimetype": "text/x-python",
   "name": "python",
   "nbconvert_exporter": "python",
   "pygments_lexer": "ipython3",
   "version": "3.10.4"
  }
 },
 "nbformat": 4,
 "nbformat_minor": 2
}
