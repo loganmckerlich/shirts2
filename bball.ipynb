{
 "cells": [
  {
   "cell_type": "code",
   "execution_count": 1,
   "metadata": {},
   "outputs": [
    {
     "name": "stdout",
     "output_type": "stream",
     "text": [
      "private file size: 2466\n"
     ]
    }
   ],
   "source": [
    "import sys\n",
    "from bs4 import BeautifulSoup\n",
    "import requests\n",
    "import datetime as dt\n",
    "from PIL import Image\n",
    "import helpers as hf\n",
    "\n",
    "import yaml\n",
    "from unidecode import unidecode\n",
    "import pandas as pd\n",
    "from PIL import Image, ImageOps, ImageDraw, ImageFont\n",
    "import json\n",
    "import numpy as np\n",
    "\n",
    "\n",
    "with open(\"info/design_config.yml\", \"r\") as f:\n",
    "    design_config = yaml.safe_load(f)\n",
    "\n",
    "design_config,shop_config = hf.get_config('cbb')\n",
    "cfbd_loader = hf.cfbp_handler(design_config['cfbd_api'])"
   ]
  },
  {
   "cell_type": "code",
   "execution_count": null,
   "metadata": {},
   "outputs": [],
   "source": []
  },
  {
   "cell_type": "code",
   "execution_count": 5,
   "metadata": {},
   "outputs": [],
   "source": [
    "headers = {\n",
    "            \"X-Shopify-Access-Token\": shop_config[\"shopify_access\"],\n",
    "            \"Content-Type\": \"application/json\",\n",
    "        }"
   ]
  },
  {
   "cell_type": "code",
   "execution_count": 153,
   "metadata": {},
   "outputs": [
    {
     "name": "stdout",
     "output_type": "stream",
     "text": [
      "85\n"
     ]
    }
   ],
   "source": [
    "response = requests.get(products_link, headers=headers)\n",
    "products = response.json()[\"products\"]\n",
    "print(len(products))"
   ]
  },
  {
   "cell_type": "code",
   "execution_count": 161,
   "metadata": {},
   "outputs": [],
   "source": [
    "products_link = f\"https://{shop_config['cbb']['shop_name']}.myshopify.com/admin/api/2024-01/products.json?limit=250\"\n",
    "\n",
    "def recur_get_products(products_link,products=[]):\n",
    "    response = requests.get(products_link, headers=headers)\n",
    "    products.extend(response.json()[\"products\"])\n",
    "    if 'next' in response.links.keys():\n",
    "        # theres another page of products\n",
    "        return recur_get_products(response.links['next']['url'],products=products)\n",
    "    else:\n",
    "        return products\n"
   ]
  },
  {
   "cell_type": "code",
   "execution_count": 164,
   "metadata": {},
   "outputs": [
    {
     "data": {
      "text/plain": [
       "float"
      ]
     },
     "execution_count": 164,
     "metadata": {},
     "output_type": "execute_result"
    }
   ],
   "source": [
    "type(np.nan)"
   ]
  },
  {
   "cell_type": "code",
   "execution_count": 162,
   "metadata": {},
   "outputs": [
    {
     "name": "stdout",
     "output_type": "stream",
     "text": [
      "again\n",
      "again\n"
     ]
    }
   ],
   "source": [
    "d = recur_get_products(products_link)"
   ]
  },
  {
   "cell_type": "code",
   "execution_count": 163,
   "metadata": {},
   "outputs": [
    {
     "data": {
      "text/plain": [
       "85"
      ]
     },
     "execution_count": 163,
     "metadata": {},
     "output_type": "execute_result"
    }
   ],
   "source": [
    "len(d)"
   ]
  },
  {
   "cell_type": "code",
   "execution_count": 157,
   "metadata": {},
   "outputs": [
    {
     "data": {
      "text/plain": [
       "False"
      ]
     },
     "execution_count": 157,
     "metadata": {},
     "output_type": "execute_result"
    }
   ],
   "source": [
    "while 'next' in response.links.keys():\n"
   ]
  },
  {
   "cell_type": "code",
   "execution_count": 154,
   "metadata": {},
   "outputs": [
    {
     "ename": "KeyError",
     "evalue": "'next'",
     "output_type": "error",
     "traceback": [
      "\u001b[0;31m---------------------------------------------------------------------------\u001b[0m",
      "\u001b[0;31mKeyError\u001b[0m                                  Traceback (most recent call last)",
      "Cell \u001b[0;32mIn[154], line 1\u001b[0m\n\u001b[0;32m----> 1\u001b[0m next_link \u001b[38;5;241m=\u001b[39m \u001b[43mresponse\u001b[49m\u001b[38;5;241;43m.\u001b[39;49m\u001b[43mlinks\u001b[49m\u001b[43m[\u001b[49m\u001b[38;5;124;43m'\u001b[39;49m\u001b[38;5;124;43mnext\u001b[39;49m\u001b[38;5;124;43m'\u001b[39;49m\u001b[43m]\u001b[49m[\u001b[38;5;124m'\u001b[39m\u001b[38;5;124murl\u001b[39m\u001b[38;5;124m'\u001b[39m]\n\u001b[1;32m      2\u001b[0m response2 \u001b[38;5;241m=\u001b[39m requests\u001b[38;5;241m.\u001b[39mget(next_link, headers\u001b[38;5;241m=\u001b[39mheaders)\n\u001b[1;32m      3\u001b[0m products2 \u001b[38;5;241m=\u001b[39m response2\u001b[38;5;241m.\u001b[39mjson()[\u001b[38;5;124m\"\u001b[39m\u001b[38;5;124mproducts\u001b[39m\u001b[38;5;124m\"\u001b[39m]\n",
      "\u001b[0;31mKeyError\u001b[0m: 'next'"
     ]
    }
   ],
   "source": [
    "next_link = \n",
    "response2 = requests.get(next_link, headers=headers)\n",
    "products2 = response2.json()[\"products\"]\n",
    "print(len(products2))"
   ]
  },
  {
   "cell_type": "code",
   "execution_count": 152,
   "metadata": {},
   "outputs": [
    {
     "data": {
      "text/plain": [
       "{'id': 8350558486749,\n",
       " 'title': 'Alabama Vs San Diego State. 24 Mar, 2023 Post-Game',\n",
       " 'body_html': \"AI image representing the basketball game 64 to 71 between Alabama and San Diego State, played at  24 Mar, 2023\\n||Alabama|| ||San Diego State||ROUND: ||NCAA Men's Tournament, South - Regional Semifinal||\",\n",
       " 'vendor': 'Printify',\n",
       " 'product_type': 'T-Shirt',\n",
       " 'created_at': '2024-01-28T12:40:50-08:00',\n",
       " 'handle': 'alabama-vs-san-diego-state-24-mar-2023-post-game',\n",
       " 'updated_at': '2024-02-03T14:34:38-08:00',\n",
       " 'published_at': '2024-01-28T12:40:52-08:00',\n",
       " 'template_suffix': None,\n",
       " 'published_scope': 'web',\n",
       " 'tags': 'Alabama, basketball, college, madness, march, marchmadness, San Diego State, sports',\n",
       " 'status': 'active',\n",
       " 'admin_graphql_api_id': 'gid://shopify/Product/8350558486749',\n",
       " 'variants': [{'product_id': 8350558486749,\n",
       "   'id': 44510928830685,\n",
       "   'title': 'Sport Grey / S',\n",
       "   'price': '25.99',\n",
       "   'sku': '13742892631291301772',\n",
       "   'position': 1,\n",
       "   'inventory_policy': 'deny',\n",
       "   'compare_at_price': None,\n",
       "   'fulfillment_service': 'printify',\n",
       "   'inventory_management': None,\n",
       "   'option1': 'Sport Grey',\n",
       "   'option2': 'S',\n",
       "   'option3': None,\n",
       "   'created_at': '2024-01-28T12:40:50-08:00',\n",
       "   'updated_at': '2024-02-03T14:34:29-08:00',\n",
       "   'taxable': True,\n",
       "   'barcode': None,\n",
       "   'grams': 100,\n",
       "   'weight': 0.2205,\n",
       "   'weight_unit': 'lb',\n",
       "   'inventory_item_id': 46607688859869,\n",
       "   'inventory_quantity': 0,\n",
       "   'old_inventory_quantity': 0,\n",
       "   'requires_shipping': True,\n",
       "   'admin_graphql_api_id': 'gid://shopify/ProductVariant/44510928830685',\n",
       "   'image_id': 40317694771421},\n",
       "  {'product_id': 8350558486749,\n",
       "   'id': 44510928863453,\n",
       "   'title': 'White / S',\n",
       "   'price': '25.99',\n",
       "   'sku': '28685311403173288955',\n",
       "   'position': 2,\n",
       "   'inventory_policy': 'deny',\n",
       "   'compare_at_price': None,\n",
       "   'fulfillment_service': 'printify',\n",
       "   'inventory_management': None,\n",
       "   'option1': 'White',\n",
       "   'option2': 'S',\n",
       "   'option3': None,\n",
       "   'created_at': '2024-01-28T12:40:50-08:00',\n",
       "   'updated_at': '2024-02-03T14:34:30-08:00',\n",
       "   'taxable': True,\n",
       "   'barcode': None,\n",
       "   'grams': 100,\n",
       "   'weight': 0.2205,\n",
       "   'weight_unit': 'lb',\n",
       "   'inventory_item_id': 46607688892637,\n",
       "   'inventory_quantity': 0,\n",
       "   'old_inventory_quantity': 0,\n",
       "   'requires_shipping': True,\n",
       "   'admin_graphql_api_id': 'gid://shopify/ProductVariant/44510928863453',\n",
       "   'image_id': 40317694509277},\n",
       "  {'product_id': 8350558486749,\n",
       "   'id': 44510928896221,\n",
       "   'title': 'Sport Grey / M',\n",
       "   'price': '25.99',\n",
       "   'sku': '21150562015390756294',\n",
       "   'position': 3,\n",
       "   'inventory_policy': 'deny',\n",
       "   'compare_at_price': None,\n",
       "   'fulfillment_service': 'printify',\n",
       "   'inventory_management': None,\n",
       "   'option1': 'Sport Grey',\n",
       "   'option2': 'M',\n",
       "   'option3': None,\n",
       "   'created_at': '2024-01-28T12:40:50-08:00',\n",
       "   'updated_at': '2024-02-03T14:34:31-08:00',\n",
       "   'taxable': True,\n",
       "   'barcode': None,\n",
       "   'grams': 100,\n",
       "   'weight': 0.2205,\n",
       "   'weight_unit': 'lb',\n",
       "   'inventory_item_id': 46607688925405,\n",
       "   'inventory_quantity': 0,\n",
       "   'old_inventory_quantity': 0,\n",
       "   'requires_shipping': True,\n",
       "   'admin_graphql_api_id': 'gid://shopify/ProductVariant/44510928896221',\n",
       "   'image_id': 40317694771421},\n",
       "  {'product_id': 8350558486749,\n",
       "   'id': 44510928928989,\n",
       "   'title': 'White / M',\n",
       "   'price': '25.99',\n",
       "   'sku': '32837309282258646415',\n",
       "   'position': 4,\n",
       "   'inventory_policy': 'deny',\n",
       "   'compare_at_price': None,\n",
       "   'fulfillment_service': 'printify',\n",
       "   'inventory_management': None,\n",
       "   'option1': 'White',\n",
       "   'option2': 'M',\n",
       "   'option3': None,\n",
       "   'created_at': '2024-01-28T12:40:50-08:00',\n",
       "   'updated_at': '2024-02-03T14:34:32-08:00',\n",
       "   'taxable': True,\n",
       "   'barcode': None,\n",
       "   'grams': 100,\n",
       "   'weight': 0.2205,\n",
       "   'weight_unit': 'lb',\n",
       "   'inventory_item_id': 46607688958173,\n",
       "   'inventory_quantity': 0,\n",
       "   'old_inventory_quantity': 0,\n",
       "   'requires_shipping': True,\n",
       "   'admin_graphql_api_id': 'gid://shopify/ProductVariant/44510928928989',\n",
       "   'image_id': 40317694509277},\n",
       "  {'product_id': 8350558486749,\n",
       "   'id': 44510928961757,\n",
       "   'title': 'Sport Grey / L',\n",
       "   'price': '25.99',\n",
       "   'sku': '32121387927964043796',\n",
       "   'position': 5,\n",
       "   'inventory_policy': 'deny',\n",
       "   'compare_at_price': None,\n",
       "   'fulfillment_service': 'printify',\n",
       "   'inventory_management': None,\n",
       "   'option1': 'Sport Grey',\n",
       "   'option2': 'L',\n",
       "   'option3': None,\n",
       "   'created_at': '2024-01-28T12:40:50-08:00',\n",
       "   'updated_at': '2024-02-03T14:34:33-08:00',\n",
       "   'taxable': True,\n",
       "   'barcode': None,\n",
       "   'grams': 100,\n",
       "   'weight': 0.2205,\n",
       "   'weight_unit': 'lb',\n",
       "   'inventory_item_id': 46607688990941,\n",
       "   'inventory_quantity': 0,\n",
       "   'old_inventory_quantity': 0,\n",
       "   'requires_shipping': True,\n",
       "   'admin_graphql_api_id': 'gid://shopify/ProductVariant/44510928961757',\n",
       "   'image_id': 40317694771421},\n",
       "  {'product_id': 8350558486749,\n",
       "   'id': 44510928994525,\n",
       "   'title': 'White / L',\n",
       "   'price': '25.99',\n",
       "   'sku': '38185756878575779141',\n",
       "   'position': 6,\n",
       "   'inventory_policy': 'deny',\n",
       "   'compare_at_price': None,\n",
       "   'fulfillment_service': 'printify',\n",
       "   'inventory_management': None,\n",
       "   'option1': 'White',\n",
       "   'option2': 'L',\n",
       "   'option3': None,\n",
       "   'created_at': '2024-01-28T12:40:50-08:00',\n",
       "   'updated_at': '2024-02-03T14:34:34-08:00',\n",
       "   'taxable': True,\n",
       "   'barcode': None,\n",
       "   'grams': 100,\n",
       "   'weight': 0.2205,\n",
       "   'weight_unit': 'lb',\n",
       "   'inventory_item_id': 46607689023709,\n",
       "   'inventory_quantity': 0,\n",
       "   'old_inventory_quantity': 0,\n",
       "   'requires_shipping': True,\n",
       "   'admin_graphql_api_id': 'gid://shopify/ProductVariant/44510928994525',\n",
       "   'image_id': 40317694509277},\n",
       "  {'product_id': 8350558486749,\n",
       "   'id': 44510929027293,\n",
       "   'title': 'Sport Grey / XL',\n",
       "   'price': '25.99',\n",
       "   'sku': '49954484645357107898',\n",
       "   'position': 7,\n",
       "   'inventory_policy': 'deny',\n",
       "   'compare_at_price': None,\n",
       "   'fulfillment_service': 'printify',\n",
       "   'inventory_management': None,\n",
       "   'option1': 'Sport Grey',\n",
       "   'option2': 'XL',\n",
       "   'option3': None,\n",
       "   'created_at': '2024-01-28T12:40:50-08:00',\n",
       "   'updated_at': '2024-02-03T14:34:35-08:00',\n",
       "   'taxable': True,\n",
       "   'barcode': None,\n",
       "   'grams': 100,\n",
       "   'weight': 0.2205,\n",
       "   'weight_unit': 'lb',\n",
       "   'inventory_item_id': 46607689056477,\n",
       "   'inventory_quantity': 0,\n",
       "   'old_inventory_quantity': 0,\n",
       "   'requires_shipping': True,\n",
       "   'admin_graphql_api_id': 'gid://shopify/ProductVariant/44510929027293',\n",
       "   'image_id': 40317694771421},\n",
       "  {'product_id': 8350558486749,\n",
       "   'id': 44510929060061,\n",
       "   'title': 'White / XL',\n",
       "   'price': '25.99',\n",
       "   'sku': '15192405050038702634',\n",
       "   'position': 8,\n",
       "   'inventory_policy': 'deny',\n",
       "   'compare_at_price': None,\n",
       "   'fulfillment_service': 'printify',\n",
       "   'inventory_management': None,\n",
       "   'option1': 'White',\n",
       "   'option2': 'XL',\n",
       "   'option3': None,\n",
       "   'created_at': '2024-01-28T12:40:50-08:00',\n",
       "   'updated_at': '2024-02-03T14:34:36-08:00',\n",
       "   'taxable': True,\n",
       "   'barcode': None,\n",
       "   'grams': 100,\n",
       "   'weight': 0.2205,\n",
       "   'weight_unit': 'lb',\n",
       "   'inventory_item_id': 46607689089245,\n",
       "   'inventory_quantity': 0,\n",
       "   'old_inventory_quantity': 0,\n",
       "   'requires_shipping': True,\n",
       "   'admin_graphql_api_id': 'gid://shopify/ProductVariant/44510929060061',\n",
       "   'image_id': 40317694509277},\n",
       "  {'product_id': 8350558486749,\n",
       "   'id': 44510929092829,\n",
       "   'title': 'Sport Grey / 2XL',\n",
       "   'price': '25.99',\n",
       "   'sku': '20339634305296373372',\n",
       "   'position': 9,\n",
       "   'inventory_policy': 'deny',\n",
       "   'compare_at_price': None,\n",
       "   'fulfillment_service': 'printify',\n",
       "   'inventory_management': None,\n",
       "   'option1': 'Sport Grey',\n",
       "   'option2': '2XL',\n",
       "   'option3': None,\n",
       "   'created_at': '2024-01-28T12:40:50-08:00',\n",
       "   'updated_at': '2024-02-03T14:34:37-08:00',\n",
       "   'taxable': True,\n",
       "   'barcode': None,\n",
       "   'grams': 100,\n",
       "   'weight': 0.2205,\n",
       "   'weight_unit': 'lb',\n",
       "   'inventory_item_id': 46607689122013,\n",
       "   'inventory_quantity': 0,\n",
       "   'old_inventory_quantity': 0,\n",
       "   'requires_shipping': True,\n",
       "   'admin_graphql_api_id': 'gid://shopify/ProductVariant/44510929092829',\n",
       "   'image_id': 40317694771421},\n",
       "  {'product_id': 8350558486749,\n",
       "   'id': 44510929125597,\n",
       "   'title': 'White / 2XL',\n",
       "   'price': '25.99',\n",
       "   'sku': '25015009082818098099',\n",
       "   'position': 10,\n",
       "   'inventory_policy': 'deny',\n",
       "   'compare_at_price': None,\n",
       "   'fulfillment_service': 'printify',\n",
       "   'inventory_management': None,\n",
       "   'option1': 'White',\n",
       "   'option2': '2XL',\n",
       "   'option3': None,\n",
       "   'created_at': '2024-01-28T12:40:50-08:00',\n",
       "   'updated_at': '2024-02-03T14:34:38-08:00',\n",
       "   'taxable': True,\n",
       "   'barcode': None,\n",
       "   'grams': 100,\n",
       "   'weight': 0.2205,\n",
       "   'weight_unit': 'lb',\n",
       "   'inventory_item_id': 46607689154781,\n",
       "   'inventory_quantity': 0,\n",
       "   'old_inventory_quantity': 0,\n",
       "   'requires_shipping': True,\n",
       "   'admin_graphql_api_id': 'gid://shopify/ProductVariant/44510929125597',\n",
       "   'image_id': 40317694509277}],\n",
       " 'options': [{'product_id': 8350558486749,\n",
       "   'id': 10570948837597,\n",
       "   'name': 'Color',\n",
       "   'position': 1,\n",
       "   'values': ['Sport Grey', 'White']},\n",
       "  {'product_id': 8350558486749,\n",
       "   'id': 10570948870365,\n",
       "   'name': 'Size',\n",
       "   'position': 2,\n",
       "   'values': ['S', 'M', 'L', 'XL', '2XL']}],\n",
       " 'images': [{'id': 40317694869725,\n",
       "   'alt': None,\n",
       "   'position': 1,\n",
       "   'product_id': 8350558486749,\n",
       "   'created_at': '2024-01-28T12:41:01-08:00',\n",
       "   'updated_at': '2024-01-28T12:46:44-08:00',\n",
       "   'admin_graphql_api_id': 'gid://shopify/ProductImage/40317694869725',\n",
       "   'width': 2048,\n",
       "   'height': 2048,\n",
       "   'src': 'https://cdn.shopify.com/s/files/1/0685/3509/1421/files/4489582831861085600_2048.jpg?v=1706474804',\n",
       "   'variant_ids': []},\n",
       "  {'id': 40317694771421,\n",
       "   'alt': None,\n",
       "   'position': 2,\n",
       "   'product_id': 8350558486749,\n",
       "   'created_at': '2024-01-28T12:40:59-08:00',\n",
       "   'updated_at': '2024-01-28T12:46:44-08:00',\n",
       "   'admin_graphql_api_id': 'gid://shopify/ProductImage/40317694771421',\n",
       "   'width': 2048,\n",
       "   'height': 2048,\n",
       "   'src': 'https://cdn.shopify.com/s/files/1/0685/3509/1421/files/4534218312568351371_2048.jpg?v=1706474804',\n",
       "   'variant_ids': [44510928830685,\n",
       "    44510928896221,\n",
       "    44510928961757,\n",
       "    44510929027293,\n",
       "    44510929092829]},\n",
       "  {'id': 40317694509277,\n",
       "   'alt': None,\n",
       "   'position': 3,\n",
       "   'product_id': 8350558486749,\n",
       "   'created_at': '2024-01-28T12:40:58-08:00',\n",
       "   'updated_at': '2024-01-28T12:46:44-08:00',\n",
       "   'admin_graphql_api_id': 'gid://shopify/ProductImage/40317694509277',\n",
       "   'width': 2048,\n",
       "   'height': 2048,\n",
       "   'src': 'https://cdn.shopify.com/s/files/1/0685/3509/1421/files/9844879066224811705_2048.jpg?v=1706474804',\n",
       "   'variant_ids': [44510928863453,\n",
       "    44510928928989,\n",
       "    44510928994525,\n",
       "    44510929060061,\n",
       "    44510929125597]},\n",
       "  {'id': 40317694968029,\n",
       "   'alt': None,\n",
       "   'position': 4,\n",
       "   'product_id': 8350558486749,\n",
       "   'created_at': '2024-01-28T12:41:02-08:00',\n",
       "   'updated_at': '2024-01-28T12:41:04-08:00',\n",
       "   'admin_graphql_api_id': 'gid://shopify/ProductImage/40317694968029',\n",
       "   'width': 2048,\n",
       "   'height': 2048,\n",
       "   'src': 'https://cdn.shopify.com/s/files/1/0685/3509/1421/files/7683492486488652291_2048.jpg?v=1706474464',\n",
       "   'variant_ids': []},\n",
       "  {'id': 40317695066333,\n",
       "   'alt': None,\n",
       "   'position': 5,\n",
       "   'product_id': 8350558486749,\n",
       "   'created_at': '2024-01-28T12:41:03-08:00',\n",
       "   'updated_at': '2024-01-28T12:41:05-08:00',\n",
       "   'admin_graphql_api_id': 'gid://shopify/ProductImage/40317695066333',\n",
       "   'width': 2048,\n",
       "   'height': 2048,\n",
       "   'src': 'https://cdn.shopify.com/s/files/1/0685/3509/1421/files/12438225386193631579_2048.jpg?v=1706474465',\n",
       "   'variant_ids': []},\n",
       "  {'id': 40317695164637,\n",
       "   'alt': None,\n",
       "   'position': 6,\n",
       "   'product_id': 8350558486749,\n",
       "   'created_at': '2024-01-28T12:41:06-08:00',\n",
       "   'updated_at': '2024-01-28T12:41:08-08:00',\n",
       "   'admin_graphql_api_id': 'gid://shopify/ProductImage/40317695164637',\n",
       "   'width': 2048,\n",
       "   'height': 2048,\n",
       "   'src': 'https://cdn.shopify.com/s/files/1/0685/3509/1421/files/7181290740163064841_2048.jpg?v=1706474468',\n",
       "   'variant_ids': []},\n",
       "  {'id': 40317695230173,\n",
       "   'alt': None,\n",
       "   'position': 7,\n",
       "   'product_id': 8350558486749,\n",
       "   'created_at': '2024-01-28T12:41:07-08:00',\n",
       "   'updated_at': '2024-01-28T12:41:09-08:00',\n",
       "   'admin_graphql_api_id': 'gid://shopify/ProductImage/40317695230173',\n",
       "   'width': 2048,\n",
       "   'height': 2048,\n",
       "   'src': 'https://cdn.shopify.com/s/files/1/0685/3509/1421/files/3645452684412144865_2048.jpg?v=1706474469',\n",
       "   'variant_ids': []},\n",
       "  {'id': 40317695328477,\n",
       "   'alt': None,\n",
       "   'position': 8,\n",
       "   'product_id': 8350558486749,\n",
       "   'created_at': '2024-01-28T12:41:09-08:00',\n",
       "   'updated_at': '2024-01-28T12:41:11-08:00',\n",
       "   'admin_graphql_api_id': 'gid://shopify/ProductImage/40317695328477',\n",
       "   'width': 2048,\n",
       "   'height': 2048,\n",
       "   'src': 'https://cdn.shopify.com/s/files/1/0685/3509/1421/files/743147746398062268_2048.jpg?v=1706474471',\n",
       "   'variant_ids': []}],\n",
       " 'image': {'id': 40317694869725,\n",
       "  'alt': None,\n",
       "  'position': 1,\n",
       "  'product_id': 8350558486749,\n",
       "  'created_at': '2024-01-28T12:41:01-08:00',\n",
       "  'updated_at': '2024-01-28T12:46:44-08:00',\n",
       "  'admin_graphql_api_id': 'gid://shopify/ProductImage/40317694869725',\n",
       "  'width': 2048,\n",
       "  'height': 2048,\n",
       "  'src': 'https://cdn.shopify.com/s/files/1/0685/3509/1421/files/4489582831861085600_2048.jpg?v=1706474804',\n",
       "  'variant_ids': []}}"
      ]
     },
     "execution_count": 152,
     "metadata": {},
     "output_type": "execute_result"
    }
   ],
   "source": [
    "products[0]"
   ]
  },
  {
   "cell_type": "code",
   "execution_count": 136,
   "metadata": {},
   "outputs": [
    {
     "data": {
      "text/plain": [
       "'https://c2b32f-2.myshopify.com/admin/api/2024-01/products.json?limit=250'"
      ]
     },
     "execution_count": 136,
     "metadata": {},
     "output_type": "execute_result"
    }
   ],
   "source": [
    "response.url"
   ]
  },
  {
   "cell_type": "code",
   "execution_count": 105,
   "metadata": {},
   "outputs": [
    {
     "data": {
      "text/plain": [
       "'https://c2b32f-2.myshopify.com/admin/api/2024-01/products.json?limit=250'"
      ]
     },
     "execution_count": 105,
     "metadata": {},
     "output_type": "execute_result"
    }
   ],
   "source": [
    "response.url"
   ]
  },
  {
   "cell_type": "code",
   "execution_count": 133,
   "metadata": {},
   "outputs": [
    {
     "ename": "KeyError",
     "evalue": "'has_next_page'",
     "output_type": "error",
     "traceback": [
      "\u001b[0;31m---------------------------------------------------------------------------\u001b[0m",
      "\u001b[0;31mKeyError\u001b[0m                                  Traceback (most recent call last)",
      "Cell \u001b[0;32mIn[133], line 1\u001b[0m\n\u001b[0;32m----> 1\u001b[0m \u001b[43mresponse\u001b[49m\u001b[38;5;241;43m.\u001b[39;49m\u001b[43mheaders\u001b[49m\u001b[43m[\u001b[49m\u001b[38;5;124;43m\"\u001b[39;49m\u001b[38;5;124;43mhas_next_page\u001b[39;49m\u001b[38;5;124;43m\"\u001b[39;49m\u001b[43m]\u001b[49m\n",
      "File \u001b[0;32m~/Desktop/DS_portoflio.nosync/shirts/.venv/lib/python3.10/site-packages/requests/structures.py:52\u001b[0m, in \u001b[0;36mCaseInsensitiveDict.__getitem__\u001b[0;34m(self, key)\u001b[0m\n\u001b[1;32m     51\u001b[0m \u001b[38;5;28;01mdef\u001b[39;00m \u001b[38;5;21m__getitem__\u001b[39m(\u001b[38;5;28mself\u001b[39m, key):\n\u001b[0;32m---> 52\u001b[0m     \u001b[38;5;28;01mreturn\u001b[39;00m \u001b[38;5;28;43mself\u001b[39;49m\u001b[38;5;241;43m.\u001b[39;49m\u001b[43m_store\u001b[49m\u001b[43m[\u001b[49m\u001b[43mkey\u001b[49m\u001b[38;5;241;43m.\u001b[39;49m\u001b[43mlower\u001b[49m\u001b[43m(\u001b[49m\u001b[43m)\u001b[49m\u001b[43m]\u001b[49m[\u001b[38;5;241m1\u001b[39m]\n",
      "\u001b[0;31mKeyError\u001b[0m: 'has_next_page'"
     ]
    }
   ],
   "source": [
    "response.headers[\"has_next_page\"]"
   ]
  },
  {
   "cell_type": "code",
   "execution_count": 124,
   "metadata": {},
   "outputs": [
    {
     "ename": "KeyError",
     "evalue": "'X-Shopify-API-Version'",
     "output_type": "error",
     "traceback": [
      "\u001b[0;31m---------------------------------------------------------------------------\u001b[0m",
      "\u001b[0;31mKeyError\u001b[0m                                  Traceback (most recent call last)",
      "Cell \u001b[0;32mIn[124], line 1\u001b[0m\n\u001b[0;32m----> 1\u001b[0m \u001b[38;5;28;43mdict\u001b[39;49m\u001b[43m(\u001b[49m\u001b[43mresponse\u001b[49m\u001b[38;5;241;43m.\u001b[39;49m\u001b[43mheaders\u001b[49m\u001b[43m)\u001b[49m\u001b[43m[\u001b[49m\u001b[38;5;124;43m\"\u001b[39;49m\u001b[38;5;124;43mX-Shopify-API-Version\u001b[39;49m\u001b[38;5;124;43m\"\u001b[39;49m\u001b[43m]\u001b[49m\n",
      "\u001b[0;31mKeyError\u001b[0m: 'X-Shopify-API-Version'"
     ]
    }
   ],
   "source": [
    "dict(response.headers)[\"X-Shopify-API-Version\"]"
   ]
  },
  {
   "cell_type": "code",
   "execution_count": null,
   "metadata": {},
   "outputs": [],
   "source": []
  },
  {
   "cell_type": "code",
   "execution_count": 13,
   "metadata": {},
   "outputs": [
    {
     "name": "stdout",
     "output_type": "stream",
     "text": [
      "{'id': 8366289092829, 'title': 'Memphis Vs Smu. 07 Jan, 2024', 'body_html': 'AI image representing the basketball game 62 to 59 between Memphis and SMU, played at  07 Jan, 2024Memphis Tigers basketball shirt SMU Mustangs basketball shirt\\n||Memphis|| ||SMU||ROUND: ||None||', 'vendor': 'Printify', 'product_type': 'T-Shirt', 'created_at': '2024-02-16T08:25:44-08:00', 'handle': 'memphis-vs-smu-07-jan-2024', 'updated_at': '2024-02-16T08:28:37-08:00', 'published_at': '2024-02-16T08:25:46-08:00', 'template_suffix': None, 'published_scope': 'web', 'tags': 'basketball, college, madness, march, marchmadness, Memphis, Memphisbasketball, SMUSMU, sports', 'status': 'active', 'admin_graphql_api_id': 'gid://shopify/Product/8366289092829', 'variants': [{'id': 44566476357853, 'product_id': 8366289092829, 'title': 'Sport Grey / S', 'price': '25.99', 'sku': '10337885663125397649', 'position': 1, 'inventory_policy': 'deny', 'compare_at_price': None, 'fulfillment_service': 'printify', 'inventory_management': None, 'option1': 'Sport Grey', 'option2': 'S', 'option3': None, 'created_at': '2024-02-16T08:25:45-08:00', 'updated_at': '2024-02-16T08:28:36-08:00', 'taxable': True, 'barcode': None, 'grams': 100, 'weight': 0.2205, 'weight_unit': 'lb', 'inventory_item_id': 46663248806109, 'inventory_quantity': 0, 'old_inventory_quantity': 0, 'requires_shipping': True, 'admin_graphql_api_id': 'gid://shopify/ProductVariant/44566476357853', 'image_id': 40428804079837}, {'id': 44566476390621, 'product_id': 8366289092829, 'title': 'White / S', 'price': '25.99', 'sku': '40555334541705920608', 'position': 2, 'inventory_policy': 'deny', 'compare_at_price': None, 'fulfillment_service': 'printify', 'inventory_management': None, 'option1': 'White', 'option2': 'S', 'option3': None, 'created_at': '2024-02-16T08:25:45-08:00', 'updated_at': '2024-02-16T08:28:34-08:00', 'taxable': True, 'barcode': None, 'grams': 100, 'weight': 0.2205, 'weight_unit': 'lb', 'inventory_item_id': 46663248838877, 'inventory_quantity': 0, 'old_inventory_quantity': 0, 'requires_shipping': True, 'admin_graphql_api_id': 'gid://shopify/ProductVariant/44566476390621', 'image_id': 40428804014301}, {'id': 44566476423389, 'product_id': 8366289092829, 'title': 'Sport Grey / M', 'price': '25.99', 'sku': '10823389872031594549', 'position': 3, 'inventory_policy': 'deny', 'compare_at_price': None, 'fulfillment_service': 'printify', 'inventory_management': None, 'option1': 'Sport Grey', 'option2': 'M', 'option3': None, 'created_at': '2024-02-16T08:25:45-08:00', 'updated_at': '2024-02-16T08:28:37-08:00', 'taxable': True, 'barcode': None, 'grams': 100, 'weight': 0.2205, 'weight_unit': 'lb', 'inventory_item_id': 46663248871645, 'inventory_quantity': 0, 'old_inventory_quantity': 0, 'requires_shipping': True, 'admin_graphql_api_id': 'gid://shopify/ProductVariant/44566476423389', 'image_id': 40428804079837}, {'id': 44566476456157, 'product_id': 8366289092829, 'title': 'White / M', 'price': '25.99', 'sku': '28275574234310091950', 'position': 4, 'inventory_policy': 'deny', 'compare_at_price': None, 'fulfillment_service': 'printify', 'inventory_management': None, 'option1': 'White', 'option2': 'M', 'option3': None, 'created_at': '2024-02-16T08:25:45-08:00', 'updated_at': '2024-02-16T08:28:34-08:00', 'taxable': True, 'barcode': None, 'grams': 100, 'weight': 0.2205, 'weight_unit': 'lb', 'inventory_item_id': 46663248904413, 'inventory_quantity': 0, 'old_inventory_quantity': 0, 'requires_shipping': True, 'admin_graphql_api_id': 'gid://shopify/ProductVariant/44566476456157', 'image_id': 40428804014301}, {'id': 44566476488925, 'product_id': 8366289092829, 'title': 'Sport Grey / L', 'price': '25.99', 'sku': '16180304216780373002', 'position': 5, 'inventory_policy': 'deny', 'compare_at_price': None, 'fulfillment_service': 'printify', 'inventory_management': None, 'option1': 'Sport Grey', 'option2': 'L', 'option3': None, 'created_at': '2024-02-16T08:25:45-08:00', 'updated_at': '2024-02-16T08:28:37-08:00', 'taxable': True, 'barcode': None, 'grams': 100, 'weight': 0.2205, 'weight_unit': 'lb', 'inventory_item_id': 46663248937181, 'inventory_quantity': 0, 'old_inventory_quantity': 0, 'requires_shipping': True, 'admin_graphql_api_id': 'gid://shopify/ProductVariant/44566476488925', 'image_id': 40428804079837}, {'id': 44566476521693, 'product_id': 8366289092829, 'title': 'White / L', 'price': '25.99', 'sku': '16857688535211655785', 'position': 6, 'inventory_policy': 'deny', 'compare_at_price': None, 'fulfillment_service': 'printify', 'inventory_management': None, 'option1': 'White', 'option2': 'L', 'option3': None, 'created_at': '2024-02-16T08:25:45-08:00', 'updated_at': '2024-02-16T08:28:34-08:00', 'taxable': True, 'barcode': None, 'grams': 100, 'weight': 0.2205, 'weight_unit': 'lb', 'inventory_item_id': 46663248969949, 'inventory_quantity': 0, 'old_inventory_quantity': 0, 'requires_shipping': True, 'admin_graphql_api_id': 'gid://shopify/ProductVariant/44566476521693', 'image_id': 40428804014301}, {'id': 44566476554461, 'product_id': 8366289092829, 'title': 'Sport Grey / XL', 'price': '25.99', 'sku': '10083822974077025102', 'position': 7, 'inventory_policy': 'deny', 'compare_at_price': None, 'fulfillment_service': 'printify', 'inventory_management': None, 'option1': 'Sport Grey', 'option2': 'XL', 'option3': None, 'created_at': '2024-02-16T08:25:45-08:00', 'updated_at': '2024-02-16T08:28:37-08:00', 'taxable': True, 'barcode': None, 'grams': 100, 'weight': 0.2205, 'weight_unit': 'lb', 'inventory_item_id': 46663249002717, 'inventory_quantity': 0, 'old_inventory_quantity': 0, 'requires_shipping': True, 'admin_graphql_api_id': 'gid://shopify/ProductVariant/44566476554461', 'image_id': 40428804079837}, {'id': 44566476587229, 'product_id': 8366289092829, 'title': 'White / XL', 'price': '25.99', 'sku': '32807705252051359967', 'position': 8, 'inventory_policy': 'deny', 'compare_at_price': None, 'fulfillment_service': 'printify', 'inventory_management': None, 'option1': 'White', 'option2': 'XL', 'option3': None, 'created_at': '2024-02-16T08:25:45-08:00', 'updated_at': '2024-02-16T08:28:34-08:00', 'taxable': True, 'barcode': None, 'grams': 100, 'weight': 0.2205, 'weight_unit': 'lb', 'inventory_item_id': 46663249035485, 'inventory_quantity': 0, 'old_inventory_quantity': 0, 'requires_shipping': True, 'admin_graphql_api_id': 'gid://shopify/ProductVariant/44566476587229', 'image_id': 40428804014301}, {'id': 44566476619997, 'product_id': 8366289092829, 'title': 'Sport Grey / 2XL', 'price': '25.99', 'sku': '33334144429986017459', 'position': 9, 'inventory_policy': 'deny', 'compare_at_price': None, 'fulfillment_service': 'printify', 'inventory_management': None, 'option1': 'Sport Grey', 'option2': '2XL', 'option3': None, 'created_at': '2024-02-16T08:25:45-08:00', 'updated_at': '2024-02-16T08:28:37-08:00', 'taxable': True, 'barcode': None, 'grams': 100, 'weight': 0.2205, 'weight_unit': 'lb', 'inventory_item_id': 46663249068253, 'inventory_quantity': 0, 'old_inventory_quantity': 0, 'requires_shipping': True, 'admin_graphql_api_id': 'gid://shopify/ProductVariant/44566476619997', 'image_id': 40428804079837}, {'id': 44566476652765, 'product_id': 8366289092829, 'title': 'White / 2XL', 'price': '25.99', 'sku': '31258567438993934587', 'position': 10, 'inventory_policy': 'deny', 'compare_at_price': None, 'fulfillment_service': 'printify', 'inventory_management': None, 'option1': 'White', 'option2': '2XL', 'option3': None, 'created_at': '2024-02-16T08:25:45-08:00', 'updated_at': '2024-02-16T08:28:35-08:00', 'taxable': True, 'barcode': None, 'grams': 100, 'weight': 0.2205, 'weight_unit': 'lb', 'inventory_item_id': 46663249101021, 'inventory_quantity': 0, 'old_inventory_quantity': 0, 'requires_shipping': True, 'admin_graphql_api_id': 'gid://shopify/ProductVariant/44566476652765', 'image_id': 40428804014301}], 'options': [{'id': 10589771333853, 'product_id': 8366289092829, 'name': 'Color', 'position': 1, 'values': ['Sport Grey', 'White']}, {'id': 10589771366621, 'product_id': 8366289092829, 'name': 'Size', 'position': 2, 'values': ['S', 'M', 'L', 'XL', '2XL']}], 'images': [{'id': 40428804014301, 'alt': None, 'position': 1, 'product_id': 8366289092829, 'created_at': '2024-02-16T08:28:23-08:00', 'updated_at': '2024-02-16T08:28:25-08:00', 'admin_graphql_api_id': 'gid://shopify/ProductImage/40428804014301', 'width': 2048, 'height': 2048, 'src': 'https://cdn.shopify.com/s/files/1/0685/3509/1421/files/12059844997513231533_2048.jpg?v=1708100905', 'variant_ids': [44566476390621, 44566476456157, 44566476521693, 44566476587229, 44566476652765]}, {'id': 40428804079837, 'alt': None, 'position': 2, 'product_id': 8366289092829, 'created_at': '2024-02-16T08:28:25-08:00', 'updated_at': '2024-02-16T08:28:27-08:00', 'admin_graphql_api_id': 'gid://shopify/ProductImage/40428804079837', 'width': 2048, 'height': 2048, 'src': 'https://cdn.shopify.com/s/files/1/0685/3509/1421/files/12723952725239431602_2048.jpg?v=1708100907', 'variant_ids': [44566476357853, 44566476423389, 44566476488925, 44566476554461, 44566476619997]}, {'id': 40428804145373, 'alt': None, 'position': 3, 'product_id': 8366289092829, 'created_at': '2024-02-16T08:28:26-08:00', 'updated_at': '2024-02-16T08:28:28-08:00', 'admin_graphql_api_id': 'gid://shopify/ProductImage/40428804145373', 'width': 2048, 'height': 2048, 'src': 'https://cdn.shopify.com/s/files/1/0685/3509/1421/files/7619651476767401355_2048.jpg?v=1708100908', 'variant_ids': []}, {'id': 40428804178141, 'alt': None, 'position': 4, 'product_id': 8366289092829, 'created_at': '2024-02-16T08:28:27-08:00', 'updated_at': '2024-02-16T08:28:29-08:00', 'admin_graphql_api_id': 'gid://shopify/ProductImage/40428804178141', 'width': 2048, 'height': 2048, 'src': 'https://cdn.shopify.com/s/files/1/0685/3509/1421/files/2328256176626035565_2048.jpg?v=1708100909', 'variant_ids': []}, {'id': 40428804243677, 'alt': None, 'position': 5, 'product_id': 8366289092829, 'created_at': '2024-02-16T08:28:29-08:00', 'updated_at': '2024-02-16T08:28:30-08:00', 'admin_graphql_api_id': 'gid://shopify/ProductImage/40428804243677', 'width': 2048, 'height': 2048, 'src': 'https://cdn.shopify.com/s/files/1/0685/3509/1421/files/2454656836635282462_2048.jpg?v=1708100910', 'variant_ids': []}], 'image': {'id': 40428804014301, 'alt': None, 'position': 1, 'product_id': 8366289092829, 'created_at': '2024-02-16T08:28:23-08:00', 'updated_at': '2024-02-16T08:28:25-08:00', 'admin_graphql_api_id': 'gid://shopify/ProductImage/40428804014301', 'width': 2048, 'height': 2048, 'src': 'https://cdn.shopify.com/s/files/1/0685/3509/1421/files/12059844997513231533_2048.jpg?v=1708100905', 'variant_ids': [44566476390621, 44566476456157, 44566476521693, 44566476587229, 44566476652765]}}\n",
      "{'id': 8366289125597, 'title': 'Memphis Vs Smu. 07 Jan, 2024', 'body_html': 'AI image representing the basketball game 62 to 59 between Memphis and SMU, played at  07 Jan, 2024Memphis Tigers basketball shirt SMU Mustangs basketball shirt\\n||Memphis|| ||SMU||ROUND: ||None||', 'vendor': 'Printify', 'product_type': 'Sweatshirt', 'created_at': '2024-02-16T08:25:47-08:00', 'handle': 'memphis-vs-smu-07-jan-2025', 'updated_at': '2024-02-16T08:25:50-08:00', 'published_at': '2024-02-16T08:25:50-08:00', 'template_suffix': None, 'published_scope': 'web', 'tags': 'basketball, college, madness, march, marchmadness, Memphis, Memphisbasketball, SMUSMU, sports', 'status': 'active', 'admin_graphql_api_id': 'gid://shopify/Product/8366289125597', 'variants': [{'id': 44566476685533, 'product_id': 8366289125597, 'title': 'S / Sport Grey', 'price': '35.99', 'sku': '30729043877796925931', 'position': 1, 'inventory_policy': 'deny', 'compare_at_price': None, 'fulfillment_service': 'printify', 'inventory_management': None, 'option1': 'S', 'option2': 'Sport Grey', 'option3': None, 'created_at': '2024-02-16T08:25:47-08:00', 'updated_at': '2024-02-16T08:25:47-08:00', 'taxable': True, 'barcode': None, 'grams': 100, 'weight': 0.2205, 'weight_unit': 'lb', 'inventory_item_id': 46663249133789, 'inventory_quantity': 0, 'old_inventory_quantity': 0, 'requires_shipping': True, 'admin_graphql_api_id': 'gid://shopify/ProductVariant/44566476685533', 'image_id': None}, {'id': 44566476718301, 'product_id': 8366289125597, 'title': 'S / White', 'price': '35.99', 'sku': '25676667383158783170', 'position': 2, 'inventory_policy': 'deny', 'compare_at_price': None, 'fulfillment_service': 'printify', 'inventory_management': None, 'option1': 'S', 'option2': 'White', 'option3': None, 'created_at': '2024-02-16T08:25:47-08:00', 'updated_at': '2024-02-16T08:25:47-08:00', 'taxable': True, 'barcode': None, 'grams': 100, 'weight': 0.2205, 'weight_unit': 'lb', 'inventory_item_id': 46663249166557, 'inventory_quantity': 0, 'old_inventory_quantity': 0, 'requires_shipping': True, 'admin_graphql_api_id': 'gid://shopify/ProductVariant/44566476718301', 'image_id': None}, {'id': 44566476751069, 'product_id': 8366289125597, 'title': 'M / Sport Grey', 'price': '35.99', 'sku': '68753103271264633532', 'position': 3, 'inventory_policy': 'deny', 'compare_at_price': None, 'fulfillment_service': 'printify', 'inventory_management': None, 'option1': 'M', 'option2': 'Sport Grey', 'option3': None, 'created_at': '2024-02-16T08:25:47-08:00', 'updated_at': '2024-02-16T08:25:47-08:00', 'taxable': True, 'barcode': None, 'grams': 100, 'weight': 0.2205, 'weight_unit': 'lb', 'inventory_item_id': 46663249199325, 'inventory_quantity': 0, 'old_inventory_quantity': 0, 'requires_shipping': True, 'admin_graphql_api_id': 'gid://shopify/ProductVariant/44566476751069', 'image_id': None}, {'id': 44566476783837, 'product_id': 8366289125597, 'title': 'M / White', 'price': '35.99', 'sku': '16892210190928249794', 'position': 4, 'inventory_policy': 'deny', 'compare_at_price': None, 'fulfillment_service': 'printify', 'inventory_management': None, 'option1': 'M', 'option2': 'White', 'option3': None, 'created_at': '2024-02-16T08:25:47-08:00', 'updated_at': '2024-02-16T08:25:47-08:00', 'taxable': True, 'barcode': None, 'grams': 100, 'weight': 0.2205, 'weight_unit': 'lb', 'inventory_item_id': 46663249232093, 'inventory_quantity': 0, 'old_inventory_quantity': 0, 'requires_shipping': True, 'admin_graphql_api_id': 'gid://shopify/ProductVariant/44566476783837', 'image_id': None}, {'id': 44566476816605, 'product_id': 8366289125597, 'title': 'L / Sport Grey', 'price': '35.99', 'sku': '58809165314024809048', 'position': 5, 'inventory_policy': 'deny', 'compare_at_price': None, 'fulfillment_service': 'printify', 'inventory_management': None, 'option1': 'L', 'option2': 'Sport Grey', 'option3': None, 'created_at': '2024-02-16T08:25:47-08:00', 'updated_at': '2024-02-16T08:25:47-08:00', 'taxable': True, 'barcode': None, 'grams': 100, 'weight': 0.2205, 'weight_unit': 'lb', 'inventory_item_id': 46663249264861, 'inventory_quantity': 0, 'old_inventory_quantity': 0, 'requires_shipping': True, 'admin_graphql_api_id': 'gid://shopify/ProductVariant/44566476816605', 'image_id': None}, {'id': 44566476849373, 'product_id': 8366289125597, 'title': 'L / White', 'price': '35.99', 'sku': '19953330825978646191', 'position': 6, 'inventory_policy': 'deny', 'compare_at_price': None, 'fulfillment_service': 'printify', 'inventory_management': None, 'option1': 'L', 'option2': 'White', 'option3': None, 'created_at': '2024-02-16T08:25:47-08:00', 'updated_at': '2024-02-16T08:25:47-08:00', 'taxable': True, 'barcode': None, 'grams': 100, 'weight': 0.2205, 'weight_unit': 'lb', 'inventory_item_id': 46663249297629, 'inventory_quantity': 0, 'old_inventory_quantity': 0, 'requires_shipping': True, 'admin_graphql_api_id': 'gid://shopify/ProductVariant/44566476849373', 'image_id': None}, {'id': 44566476882141, 'product_id': 8366289125597, 'title': 'XL / Sport Grey', 'price': '35.99', 'sku': '23137937790697042584', 'position': 7, 'inventory_policy': 'deny', 'compare_at_price': None, 'fulfillment_service': 'printify', 'inventory_management': None, 'option1': 'XL', 'option2': 'Sport Grey', 'option3': None, 'created_at': '2024-02-16T08:25:47-08:00', 'updated_at': '2024-02-16T08:25:47-08:00', 'taxable': True, 'barcode': None, 'grams': 100, 'weight': 0.2205, 'weight_unit': 'lb', 'inventory_item_id': 46663249330397, 'inventory_quantity': 0, 'old_inventory_quantity': 0, 'requires_shipping': True, 'admin_graphql_api_id': 'gid://shopify/ProductVariant/44566476882141', 'image_id': None}, {'id': 44566476914909, 'product_id': 8366289125597, 'title': 'XL / White', 'price': '35.99', 'sku': '10130357534996791100', 'position': 8, 'inventory_policy': 'deny', 'compare_at_price': None, 'fulfillment_service': 'printify', 'inventory_management': None, 'option1': 'XL', 'option2': 'White', 'option3': None, 'created_at': '2024-02-16T08:25:47-08:00', 'updated_at': '2024-02-16T08:25:47-08:00', 'taxable': True, 'barcode': None, 'grams': 100, 'weight': 0.2205, 'weight_unit': 'lb', 'inventory_item_id': 46663249363165, 'inventory_quantity': 0, 'old_inventory_quantity': 0, 'requires_shipping': True, 'admin_graphql_api_id': 'gid://shopify/ProductVariant/44566476914909', 'image_id': None}, {'id': 44566476947677, 'product_id': 8366289125597, 'title': '2XL / Sport Grey', 'price': '35.99', 'sku': '28818954881285285164', 'position': 9, 'inventory_policy': 'deny', 'compare_at_price': None, 'fulfillment_service': 'printify', 'inventory_management': None, 'option1': '2XL', 'option2': 'Sport Grey', 'option3': None, 'created_at': '2024-02-16T08:25:47-08:00', 'updated_at': '2024-02-16T08:25:47-08:00', 'taxable': True, 'barcode': None, 'grams': 100, 'weight': 0.2205, 'weight_unit': 'lb', 'inventory_item_id': 46663249395933, 'inventory_quantity': 0, 'old_inventory_quantity': 0, 'requires_shipping': True, 'admin_graphql_api_id': 'gid://shopify/ProductVariant/44566476947677', 'image_id': None}, {'id': 44566476980445, 'product_id': 8366289125597, 'title': '2XL / White', 'price': '35.99', 'sku': '33730427169741944392', 'position': 10, 'inventory_policy': 'deny', 'compare_at_price': None, 'fulfillment_service': 'printify', 'inventory_management': None, 'option1': '2XL', 'option2': 'White', 'option3': None, 'created_at': '2024-02-16T08:25:47-08:00', 'updated_at': '2024-02-16T08:25:47-08:00', 'taxable': True, 'barcode': None, 'grams': 100, 'weight': 0.2205, 'weight_unit': 'lb', 'inventory_item_id': 46663249428701, 'inventory_quantity': 0, 'old_inventory_quantity': 0, 'requires_shipping': True, 'admin_graphql_api_id': 'gid://shopify/ProductVariant/44566476980445', 'image_id': None}], 'options': [{'id': 10589771399389, 'product_id': 8366289125597, 'name': 'Size', 'position': 1, 'values': ['S', 'M', 'L', 'XL', '2XL']}, {'id': 10589771432157, 'product_id': 8366289125597, 'name': 'Color', 'position': 2, 'values': ['Sport Grey', 'White']}], 'images': [], 'image': None}\n"
     ]
    }
   ],
   "source": [
    "for p in products:\n",
    "    if 'memphis' in p['title'].lower():\n",
    "        print(p)"
   ]
  },
  {
   "cell_type": "code",
   "execution_count": 66,
   "metadata": {},
   "outputs": [],
   "source": [
    "url = f\"https://{shop_config['cbb']['shop_name']}.myshopify.com/admin/api/2021-07/custom_collections.json\"\n",
    "\n",
    "# Make the API request to get the list of collections\n",
    "response = requests.get(url, headers=headers)"
   ]
  },
  {
   "cell_type": "code",
   "execution_count": 67,
   "metadata": {},
   "outputs": [
    {
     "data": {
      "text/plain": [
       "[]"
      ]
     },
     "execution_count": 67,
     "metadata": {},
     "output_type": "execute_result"
    }
   ],
   "source": [
    "response.json()['custom_collections']"
   ]
  },
  {
   "cell_type": "code",
   "execution_count": 14,
   "metadata": {},
   "outputs": [],
   "source": [
    "# testing parenthesis in PIL\n",
    "import PIL\n",
    "from PIL import Image, ImageFont, ImageDraw\n",
    "\n",
    "im1=Image.open('art/cover3.jpeg')\n",
    "\n",
    "# Drawing the text on the picture\n",
    "\n",
    "font = ImageFont.truetype('fonts/Freshman.ttf', 100)\n",
    "draw = ImageDraw.Draw(im1)\n",
    "draw.text((50, 200), 'test(1)', (255,0,255), font=font)\n",
    "\n",
    "# Save the image with a new name\n",
    "im1.show()"
   ]
  },
  {
   "cell_type": "code",
   "execution_count": 24,
   "metadata": {},
   "outputs": [
    {
     "data": {
      "text/plain": [
       "34"
      ]
     },
     "execution_count": 24,
     "metadata": {},
     "output_type": "execute_result"
    }
   ],
   "source": []
  },
  {
   "cell_type": "code",
   "execution_count": 65,
   "metadata": {},
   "outputs": [
    {
     "name": "stdout",
     "output_type": "stream",
     "text": [
      "10\n"
     ]
    }
   ],
   "source": [
    "text = Image.new(\"RGBA\", (450, 510),color='grey')\n",
    "\n",
    "text_draw = ImageDraw.Draw(text)\n",
    "\n",
    "\n",
    "t_text = 'University of Texas of the Permian Basin vs Southwestern Assemblies of God'\n",
    "\n",
    "game_font = hf.simple_size_font_recur(\n",
    "    text_draw, t_text, 450, \"Freshman\", 50\n",
    ")\n",
    "print(game_font.size)\n",
    "if game_font.size<24:\n",
    "    # when font gets this small, stroke makes hard to read\n",
    "    main_stroke = 0\n",
    "    \n",
    "text_draw.text((0, 0), t_text, font=game_font, fill=\"white\",stroke_width=main_stroke,stroke_fill=\"black\")\n",
    "text.show()\n"
   ]
  },
  {
   "cell_type": "code",
   "execution_count": 50,
   "metadata": {},
   "outputs": [],
   "source": [
    "teams = cfbd_loader.get_team_info()"
   ]
  },
  {
   "cell_type": "code",
   "execution_count": 52,
   "metadata": {},
   "outputs": [],
   "source": [
    "teams['name_l'] = teams.name.apply(lambda x:len(x))"
   ]
  },
  {
   "cell_type": "code",
   "execution_count": null,
   "metadata": {},
   "outputs": [],
   "source": []
  },
  {
   "cell_type": "code",
   "execution_count": 63,
   "metadata": {},
   "outputs": [
    {
     "data": {
      "text/html": [
       "<div>\n",
       "<style scoped>\n",
       "    .dataframe tbody tr th:only-of-type {\n",
       "        vertical-align: middle;\n",
       "    }\n",
       "\n",
       "    .dataframe tbody tr th {\n",
       "        vertical-align: top;\n",
       "    }\n",
       "\n",
       "    .dataframe thead th {\n",
       "        text-align: right;\n",
       "    }\n",
       "</style>\n",
       "<table border=\"1\" class=\"dataframe\">\n",
       "  <thead>\n",
       "    <tr style=\"text-align: right;\">\n",
       "      <th></th>\n",
       "      <th>name</th>\n",
       "      <th>abrev</th>\n",
       "      <th>alt_color</th>\n",
       "      <th>color</th>\n",
       "      <th>division</th>\n",
       "      <th>id</th>\n",
       "      <th>logos</th>\n",
       "      <th>long_name</th>\n",
       "      <th>mascot</th>\n",
       "      <th>team_id</th>\n",
       "      <th>name_l</th>\n",
       "    </tr>\n",
       "  </thead>\n",
       "  <tbody>\n",
       "    <tr>\n",
       "      <th>197</th>\n",
       "      <td>Brooklyn Polytechnic Institute</td>\n",
       "      <td>NaN</td>\n",
       "      <td>None</td>\n",
       "      <td>#FFFFFF</td>\n",
       "      <td>None</td>\n",
       "      <td>1000080.0</td>\n",
       "      <td>NaN</td>\n",
       "      <td>None</td>\n",
       "      <td>NaN</td>\n",
       "      <td>NaN</td>\n",
       "      <td>30</td>\n",
       "    </tr>\n",
       "    <tr>\n",
       "      <th>754</th>\n",
       "      <td>Jacksonville Naval Air Station</td>\n",
       "      <td>NaN</td>\n",
       "      <td>None</td>\n",
       "      <td>#FFFFFF</td>\n",
       "      <td>None</td>\n",
       "      <td>1000031.0</td>\n",
       "      <td>NaN</td>\n",
       "      <td>None</td>\n",
       "      <td>Flyers</td>\n",
       "      <td>NaN</td>\n",
       "      <td>30</td>\n",
       "    </tr>\n",
       "    <tr>\n",
       "      <th>1447</th>\n",
       "      <td>Southwestern Assemblies of God</td>\n",
       "      <td>SWA</td>\n",
       "      <td>None</td>\n",
       "      <td>#000000</td>\n",
       "      <td>None</td>\n",
       "      <td>2904.0</td>\n",
       "      <td>http://a.espncdn.com/i/teamlogos/ncaa/500/2904...</td>\n",
       "      <td>None</td>\n",
       "      <td>Lions</td>\n",
       "      <td>NaN</td>\n",
       "      <td>30</td>\n",
       "    </tr>\n",
       "    <tr>\n",
       "      <th>1649</th>\n",
       "      <td>University of Texas of the Permian Basin</td>\n",
       "      <td>UTPB</td>\n",
       "      <td>None</td>\n",
       "      <td>#FFFFFF</td>\n",
       "      <td>ii</td>\n",
       "      <td>110243.0</td>\n",
       "      <td>NaN</td>\n",
       "      <td>None</td>\n",
       "      <td>Falcons</td>\n",
       "      <td>NaN</td>\n",
       "      <td>40</td>\n",
       "    </tr>\n",
       "  </tbody>\n",
       "</table>\n",
       "</div>"
      ],
      "text/plain": [
       "                                          name abrev alt_color    color  \\\n",
       "197             Brooklyn Polytechnic Institute   NaN      None  #FFFFFF   \n",
       "754             Jacksonville Naval Air Station   NaN      None  #FFFFFF   \n",
       "1447            Southwestern Assemblies of God   SWA      None  #000000   \n",
       "1649  University of Texas of the Permian Basin  UTPB      None  #FFFFFF   \n",
       "\n",
       "     division         id                                              logos  \\\n",
       "197      None  1000080.0                                                NaN   \n",
       "754      None  1000031.0                                                NaN   \n",
       "1447     None     2904.0  http://a.espncdn.com/i/teamlogos/ncaa/500/2904...   \n",
       "1649       ii   110243.0                                                NaN   \n",
       "\n",
       "     long_name   mascot team_id  name_l  \n",
       "197       None      NaN     NaN      30  \n",
       "754       None   Flyers     NaN      30  \n",
       "1447      None    Lions     NaN      30  \n",
       "1649      None  Falcons     NaN      40  "
      ]
     },
     "execution_count": 63,
     "metadata": {},
     "output_type": "execute_result"
    }
   ],
   "source": [
    "teams.loc[teams.name_l>29]"
   ]
  }
 ],
 "metadata": {
  "kernelspec": {
   "display_name": ".venv",
   "language": "python",
   "name": "python3"
  },
  "language_info": {
   "codemirror_mode": {
    "name": "ipython",
    "version": 3
   },
   "file_extension": ".py",
   "mimetype": "text/x-python",
   "name": "python",
   "nbconvert_exporter": "python",
   "pygments_lexer": "ipython3",
   "version": "3.10.4"
  }
 },
 "nbformat": 4,
 "nbformat_minor": 2
}
