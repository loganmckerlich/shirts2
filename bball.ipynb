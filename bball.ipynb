{
 "cells": [
  {
   "cell_type": "code",
   "execution_count": 1,
   "metadata": {},
   "outputs": [
    {
     "name": "stdout",
     "output_type": "stream",
     "text": [
      "private file size: 2466\n"
     ]
    }
   ],
   "source": [
    "import sys\n",
    "from bs4 import BeautifulSoup\n",
    "import requests\n",
    "import datetime as dt\n",
    "from PIL import Image\n",
    "import helpers as hf\n",
    "\n",
    "import yaml\n",
    "from unidecode import unidecode\n",
    "import pandas as pd\n",
    "from PIL import Image, ImageOps, ImageDraw, ImageFont\n",
    "import json\n",
    "import numpy as np\n",
    "\n",
    "\n",
    "with open(\"info/design_config.yml\", \"r\") as f:\n",
    "    design_config = yaml.safe_load(f)\n",
    "\n",
    "design_config,shop_config = hf.get_config('cbb')\n",
    "cfbd_loader = hf.cfbp_handler(design_config['cfbd_api'])"
   ]
  },
  {
   "cell_type": "code",
   "execution_count": 2,
   "metadata": {},
   "outputs": [],
   "source": [
    "ify_user = hf.shopify_printify(shop_config,'cbb')"
   ]
  },
  {
   "cell_type": "code",
   "execution_count": 3,
   "metadata": {},
   "outputs": [],
   "source": [
    "# check if printify ptoduct is posted\n",
    "headers_printify = {\n",
    "    \"Authorization\": f\"Bearer {shop_config['printify_access']}\",\n",
    "    \"Content-Type\": \"application/json\",\n",
    "}\n",
    "headers_shopify = {\n",
    "            \"X-Shopify-Access-Token\": shop_config[\"shopify_access\"],\n",
    "            \"Content-Type\": \"application/json\",\n",
    "        }"
   ]
  },
  {
   "cell_type": "code",
   "execution_count": 9,
   "metadata": {},
   "outputs": [],
   "source": [
    "prods2 = ify_user.recur_get_products(products=[])"
   ]
  },
  {
   "cell_type": "code",
   "execution_count": 10,
   "metadata": {},
   "outputs": [
    {
     "name": "stdout",
     "output_type": "stream",
     "text": [
      "472\n",
      "236\n"
     ]
    }
   ],
   "source": [
    "print(len(prods))\n",
    "print(len(prods2))"
   ]
  },
  {
   "cell_type": "code",
   "execution_count": null,
   "metadata": {},
   "outputs": [],
   "source": [
    "import time"
   ]
  },
  {
   "cell_type": "code",
   "execution_count": null,
   "metadata": {},
   "outputs": [],
   "source": [
    "def recur_get_products(self, products=[]):\n",
    "    products_link = f\"https://{self.post_dict[self.version]['shop_name']}.myshopify.com/admin/api/2024-01/products.json?limit=250\"\n",
    "    response = requests.get(products_link, headers=self.headers_shopify)\n",
    "    products.extend(response.json()[\"products\"])\n",
    "    if \"next\" in response.links.keys():\n",
    "        # theres another page of products\n",
    "        if response.headers[\"X-RateLimit-Remaining\"] == 0:\n",
    "            time.sleep(1)\n",
    "        return self.recur_get_products(\n",
    "            response.links[\"next\"][\"url\"], products=products\n",
    "        )\n",
    "    else:\n",
    "        return products"
   ]
  },
  {
   "cell_type": "code",
   "execution_count": null,
   "metadata": {},
   "outputs": [],
   "source": [
    "def recursive_get_prods(self, since_id=0, all_products=[]):\n",
    "    url = f\"https://{self.post_dict[self.version]['shop_name']}.myshopify.com/admin/api/2023-01/products.json?since_id={since_id}\"\n",
    "    response = requests.get(url=url, headers=self.headers_shopify)\n",
    "    products = json.loads(response.text)[\"products\"]\n",
    "    if len(products) == 0:\n",
    "        return all_products\n",
    "    else:\n",
    "        # new products were found, there could be more in the next iteration\n",
    "        all_products.extend(products)\n",
    "        return self.recursive_get_prods(\n",
    "            since_id=products[-1][\"id\"], all_products=all_products\n",
    "        )\n"
   ]
  },
  {
   "cell_type": "code",
   "execution_count": 7,
   "metadata": {},
   "outputs": [
    {
     "data": {
      "text/plain": [
       "236"
      ]
     },
     "execution_count": 7,
     "metadata": {},
     "output_type": "execute_result"
    }
   ],
   "source": [
    "len(ids)"
   ]
  },
  {
   "cell_type": "code",
   "execution_count": 6,
   "metadata": {},
   "outputs": [
    {
     "name": "stdout",
     "output_type": "stream",
     "text": [
      "{'id': 8368514007261, 'title': 'Washington Vs California. 17 Feb, 2024', 'body_html': 'Unisex! Sizes are in mens.\\n AI image representing the basketball game 80 to 82 between Washington and California, played at  17 Feb, 2024 \\nWashington Huskies basketball shirt California Golden Bears basketball shirt\\n||Washington|| ||California||ROUND: ||None||', 'vendor': 'Printify', 'product_type': 'T-Shirt', 'created_at': '2024-02-19T19:26:14-08:00', 'handle': 'washington-vs-california-17-feb-2024', 'updated_at': '2024-02-20T17:49:07-08:00', 'published_at': '2024-02-19T19:26:16-08:00', 'template_suffix': None, 'published_scope': 'web', 'tags': 'basketball, CaliforniaCalifornia, college, madness, march, marchmadness, sports, Washington, Washingtonbasketball', 'status': 'active', 'admin_graphql_api_id': 'gid://shopify/Product/8368514007261', 'variants': [{'id': 44574512808157, 'product_id': 8368514007261, 'title': 'Sport Grey / S', 'price': '25.99', 'sku': '21748886559083817971', 'position': 1, 'inventory_policy': 'deny', 'compare_at_price': None, 'fulfillment_service': 'printify', 'inventory_management': None, 'option1': 'Sport Grey', 'option2': 'S', 'option3': None, 'created_at': '2024-02-19T19:26:14-08:00', 'updated_at': '2024-02-19T19:26:30-08:00', 'taxable': True, 'barcode': None, 'grams': 100, 'weight': 0.2205, 'weight_unit': 'lb', 'inventory_item_id': 46671286632669, 'inventory_quantity': 0, 'old_inventory_quantity': 0, 'requires_shipping': True, 'admin_graphql_api_id': 'gid://shopify/ProductVariant/44574512808157', 'image_id': 40448526581981}, {'id': 44574512840925, 'product_id': 8368514007261, 'title': 'White / S', 'price': '25.99', 'sku': '33553594104944059802', 'position': 2, 'inventory_policy': 'deny', 'compare_at_price': None, 'fulfillment_service': 'printify', 'inventory_management': None, 'option1': 'White', 'option2': 'S', 'option3': None, 'created_at': '2024-02-19T19:26:14-08:00', 'updated_at': '2024-02-19T19:26:28-08:00', 'taxable': True, 'barcode': None, 'grams': 100, 'weight': 0.2205, 'weight_unit': 'lb', 'inventory_item_id': 46671286665437, 'inventory_quantity': 0, 'old_inventory_quantity': 0, 'requires_shipping': True, 'admin_graphql_api_id': 'gid://shopify/ProductVariant/44574512840925', 'image_id': 40448526450909}, {'id': 44574512906461, 'product_id': 8368514007261, 'title': 'Sport Grey / M', 'price': '25.99', 'sku': '12885425995858967351', 'position': 3, 'inventory_policy': 'deny', 'compare_at_price': None, 'fulfillment_service': 'printify', 'inventory_management': None, 'option1': 'Sport Grey', 'option2': 'M', 'option3': None, 'created_at': '2024-02-19T19:26:14-08:00', 'updated_at': '2024-02-19T19:26:30-08:00', 'taxable': True, 'barcode': None, 'grams': 100, 'weight': 0.2205, 'weight_unit': 'lb', 'inventory_item_id': 46671286698205, 'inventory_quantity': 0, 'old_inventory_quantity': 0, 'requires_shipping': True, 'admin_graphql_api_id': 'gid://shopify/ProductVariant/44574512906461', 'image_id': 40448526581981}, {'id': 44574512939229, 'product_id': 8368514007261, 'title': 'White / M', 'price': '25.99', 'sku': '16659936868437046050', 'position': 4, 'inventory_policy': 'deny', 'compare_at_price': None, 'fulfillment_service': 'printify', 'inventory_management': None, 'option1': 'White', 'option2': 'M', 'option3': None, 'created_at': '2024-02-19T19:26:14-08:00', 'updated_at': '2024-02-19T19:26:28-08:00', 'taxable': True, 'barcode': None, 'grams': 100, 'weight': 0.2205, 'weight_unit': 'lb', 'inventory_item_id': 46671286730973, 'inventory_quantity': 0, 'old_inventory_quantity': 0, 'requires_shipping': True, 'admin_graphql_api_id': 'gid://shopify/ProductVariant/44574512939229', 'image_id': 40448526450909}, {'id': 44574512971997, 'product_id': 8368514007261, 'title': 'Sport Grey / L', 'price': '25.99', 'sku': '23332962864563036737', 'position': 5, 'inventory_policy': 'deny', 'compare_at_price': None, 'fulfillment_service': 'printify', 'inventory_management': None, 'option1': 'Sport Grey', 'option2': 'L', 'option3': None, 'created_at': '2024-02-19T19:26:14-08:00', 'updated_at': '2024-02-19T19:26:30-08:00', 'taxable': True, 'barcode': None, 'grams': 100, 'weight': 0.2205, 'weight_unit': 'lb', 'inventory_item_id': 46671286763741, 'inventory_quantity': 0, 'old_inventory_quantity': 0, 'requires_shipping': True, 'admin_graphql_api_id': 'gid://shopify/ProductVariant/44574512971997', 'image_id': 40448526581981}, {'id': 44574513004765, 'product_id': 8368514007261, 'title': 'White / L', 'price': '25.99', 'sku': '10266822052057465066', 'position': 6, 'inventory_policy': 'deny', 'compare_at_price': None, 'fulfillment_service': 'printify', 'inventory_management': None, 'option1': 'White', 'option2': 'L', 'option3': None, 'created_at': '2024-02-19T19:26:14-08:00', 'updated_at': '2024-02-19T19:26:29-08:00', 'taxable': True, 'barcode': None, 'grams': 100, 'weight': 0.2205, 'weight_unit': 'lb', 'inventory_item_id': 46671286796509, 'inventory_quantity': 0, 'old_inventory_quantity': 0, 'requires_shipping': True, 'admin_graphql_api_id': 'gid://shopify/ProductVariant/44574513004765', 'image_id': 40448526450909}, {'id': 44574513037533, 'product_id': 8368514007261, 'title': 'Sport Grey / XL', 'price': '25.99', 'sku': '25312713854797643349', 'position': 7, 'inventory_policy': 'deny', 'compare_at_price': None, 'fulfillment_service': 'printify', 'inventory_management': None, 'option1': 'Sport Grey', 'option2': 'XL', 'option3': None, 'created_at': '2024-02-19T19:26:14-08:00', 'updated_at': '2024-02-19T19:26:31-08:00', 'taxable': True, 'barcode': None, 'grams': 100, 'weight': 0.2205, 'weight_unit': 'lb', 'inventory_item_id': 46671286829277, 'inventory_quantity': 0, 'old_inventory_quantity': 0, 'requires_shipping': True, 'admin_graphql_api_id': 'gid://shopify/ProductVariant/44574513037533', 'image_id': 40448526581981}, {'id': 44574513070301, 'product_id': 8368514007261, 'title': 'White / XL', 'price': '25.99', 'sku': '24585970316678558921', 'position': 8, 'inventory_policy': 'deny', 'compare_at_price': None, 'fulfillment_service': 'printify', 'inventory_management': None, 'option1': 'White', 'option2': 'XL', 'option3': None, 'created_at': '2024-02-19T19:26:14-08:00', 'updated_at': '2024-02-19T19:26:29-08:00', 'taxable': True, 'barcode': None, 'grams': 100, 'weight': 0.2205, 'weight_unit': 'lb', 'inventory_item_id': 46671286862045, 'inventory_quantity': 0, 'old_inventory_quantity': 0, 'requires_shipping': True, 'admin_graphql_api_id': 'gid://shopify/ProductVariant/44574513070301', 'image_id': 40448526450909}, {'id': 44574513103069, 'product_id': 8368514007261, 'title': 'Sport Grey / 2XL', 'price': '25.99', 'sku': '12873681004110652749', 'position': 9, 'inventory_policy': 'deny', 'compare_at_price': None, 'fulfillment_service': 'printify', 'inventory_management': None, 'option1': 'Sport Grey', 'option2': '2XL', 'option3': None, 'created_at': '2024-02-19T19:26:14-08:00', 'updated_at': '2024-02-19T19:26:31-08:00', 'taxable': True, 'barcode': None, 'grams': 100, 'weight': 0.2205, 'weight_unit': 'lb', 'inventory_item_id': 46671286894813, 'inventory_quantity': 0, 'old_inventory_quantity': 0, 'requires_shipping': True, 'admin_graphql_api_id': 'gid://shopify/ProductVariant/44574513103069', 'image_id': 40448526581981}, {'id': 44574513135837, 'product_id': 8368514007261, 'title': 'White / 2XL', 'price': '25.99', 'sku': '33807751957574418188', 'position': 10, 'inventory_policy': 'deny', 'compare_at_price': None, 'fulfillment_service': 'printify', 'inventory_management': None, 'option1': 'White', 'option2': '2XL', 'option3': None, 'created_at': '2024-02-19T19:26:14-08:00', 'updated_at': '2024-02-19T19:26:29-08:00', 'taxable': True, 'barcode': None, 'grams': 100, 'weight': 0.2205, 'weight_unit': 'lb', 'inventory_item_id': 46671286927581, 'inventory_quantity': 0, 'old_inventory_quantity': 0, 'requires_shipping': True, 'admin_graphql_api_id': 'gid://shopify/ProductVariant/44574513135837', 'image_id': 40448526450909}], 'options': [{'id': 10592544587997, 'product_id': 8368514007261, 'name': 'Color', 'position': 1, 'values': ['Sport Grey', 'White']}, {'id': 10592544620765, 'product_id': 8368514007261, 'name': 'Size', 'position': 2, 'values': ['S', 'M', 'L', 'XL', '2XL']}], 'images': [{'id': 40448526647517, 'alt': 'Washington Vs California. 17 Feb, 2024 back view', 'position': 1, 'product_id': 8368514007261, 'created_at': '2024-02-19T19:26:20-08:00', 'updated_at': '2024-02-20T17:49:06-08:00', 'admin_graphql_api_id': 'gid://shopify/ProductImage/40448526647517', 'width': 2048, 'height': 2048, 'src': 'https://cdn.shopify.com/s/files/1/0685/3509/1421/files/1262954932692187165_2048.jpg?v=1708480146', 'variant_ids': []}, {'id': 40448526450909, 'alt': None, 'position': 2, 'product_id': 8368514007261, 'created_at': '2024-02-19T19:26:17-08:00', 'updated_at': '2024-02-20T17:49:06-08:00', 'admin_graphql_api_id': 'gid://shopify/ProductImage/40448526450909', 'width': 2048, 'height': 2048, 'src': 'https://cdn.shopify.com/s/files/1/0685/3509/1421/files/7524920197167035917_2048.jpg?v=1708480146', 'variant_ids': [44574512840925, 44574512939229, 44574513004765, 44574513070301, 44574513135837]}, {'id': 40448526581981, 'alt': 'Washington Vs California. 17 Feb, 2024 front view', 'position': 3, 'product_id': 8368514007261, 'created_at': '2024-02-19T19:26:19-08:00', 'updated_at': '2024-02-20T17:49:06-08:00', 'admin_graphql_api_id': 'gid://shopify/ProductImage/40448526581981', 'width': 2048, 'height': 2048, 'src': 'https://cdn.shopify.com/s/files/1/0685/3509/1421/files/5710424421748373706_2048.jpg?v=1708480146', 'variant_ids': [44574512808157, 44574512906461, 44574512971997, 44574513037533, 44574513103069]}, {'id': 40448526680285, 'alt': None, 'position': 4, 'product_id': 8368514007261, 'created_at': '2024-02-19T19:26:22-08:00', 'updated_at': '2024-02-19T19:26:23-08:00', 'admin_graphql_api_id': 'gid://shopify/ProductImage/40448526680285', 'width': 2048, 'height': 2048, 'src': 'https://cdn.shopify.com/s/files/1/0685/3509/1421/files/2573715914441194468_2048.jpg?v=1708399583', 'variant_ids': []}, {'id': 40448526745821, 'alt': None, 'position': 5, 'product_id': 8368514007261, 'created_at': '2024-02-19T19:26:23-08:00', 'updated_at': '2024-02-19T19:26:25-08:00', 'admin_graphql_api_id': 'gid://shopify/ProductImage/40448526745821', 'width': 2048, 'height': 2048, 'src': 'https://cdn.shopify.com/s/files/1/0685/3509/1421/files/4223348083084582343_2048.jpg?v=1708399585', 'variant_ids': []}, {'id': 40448526811357, 'alt': None, 'position': 6, 'product_id': 8368514007261, 'created_at': '2024-02-19T19:26:25-08:00', 'updated_at': '2024-02-19T19:26:26-08:00', 'admin_graphql_api_id': 'gid://shopify/ProductImage/40448526811357', 'width': 2048, 'height': 2048, 'src': 'https://cdn.shopify.com/s/files/1/0685/3509/1421/files/3777855039801195260_2048.jpg?v=1708399586', 'variant_ids': []}, {'id': 40448527204573, 'alt': None, 'position': 7, 'product_id': 8368514007261, 'created_at': '2024-02-19T19:26:26-08:00', 'updated_at': '2024-02-19T19:26:28-08:00', 'admin_graphql_api_id': 'gid://shopify/ProductImage/40448527204573', 'width': 2048, 'height': 2048, 'src': 'https://cdn.shopify.com/s/files/1/0685/3509/1421/files/1707733857625777784_2048.jpg?v=1708399588', 'variant_ids': []}, {'id': 40448527237341, 'alt': None, 'position': 8, 'product_id': 8368514007261, 'created_at': '2024-02-19T19:26:28-08:00', 'updated_at': '2024-02-19T19:26:30-08:00', 'admin_graphql_api_id': 'gid://shopify/ProductImage/40448527237341', 'width': 2048, 'height': 2048, 'src': 'https://cdn.shopify.com/s/files/1/0685/3509/1421/files/12510504639458869183_2048.jpg?v=1708399590', 'variant_ids': []}], 'image': {'id': 40448526647517, 'alt': 'Washington Vs California. 17 Feb, 2024 back view', 'position': 1, 'product_id': 8368514007261, 'created_at': '2024-02-19T19:26:20-08:00', 'updated_at': '2024-02-20T17:49:06-08:00', 'admin_graphql_api_id': 'gid://shopify/ProductImage/40448526647517', 'width': 2048, 'height': 2048, 'src': 'https://cdn.shopify.com/s/files/1/0685/3509/1421/files/1262954932692187165_2048.jpg?v=1708480146', 'variant_ids': []}}\n",
      "{'id': 8368514072797, 'title': 'Washington Vs California. 17 Feb, 2024', 'body_html': 'Unisex! Sizes are in mens.\\n AI image representing the basketball game 80 to 82 between Washington and California, played at  17 Feb, 2024 \\nWashington Huskies basketball crewneck California Golden Bears basketball crewneck\\n||Washington|| ||California||ROUND: ||None||', 'vendor': 'Printify', 'product_type': 'Sweatshirt', 'created_at': '2024-02-19T19:26:16-08:00', 'handle': 'washington-vs-california-17-feb-2025', 'updated_at': '2024-02-20T17:49:08-08:00', 'published_at': '2024-02-19T19:26:18-08:00', 'template_suffix': None, 'published_scope': 'web', 'tags': 'basketball, CaliforniaCalifornia, college, madness, march, marchmadness, sports, Washington, Washingtonbasketball', 'status': 'active', 'admin_graphql_api_id': 'gid://shopify/Product/8368514072797', 'variants': [{'id': 44574513332445, 'product_id': 8368514072797, 'title': 'S / Sport Grey', 'price': '35.99', 'sku': '57937406598346744479', 'position': 1, 'inventory_policy': 'deny', 'compare_at_price': None, 'fulfillment_service': 'printify', 'inventory_management': None, 'option1': 'S', 'option2': 'Sport Grey', 'option3': None, 'created_at': '2024-02-19T19:26:16-08:00', 'updated_at': '2024-02-19T19:26:45-08:00', 'taxable': True, 'barcode': None, 'grams': 100, 'weight': 0.2205, 'weight_unit': 'lb', 'inventory_item_id': 46671287124189, 'inventory_quantity': 0, 'old_inventory_quantity': 0, 'requires_shipping': True, 'admin_graphql_api_id': 'gid://shopify/ProductVariant/44574513332445', 'image_id': 40448527368413}, {'id': 44574513365213, 'product_id': 8368514072797, 'title': 'S / White', 'price': '35.99', 'sku': '10435420591177558614', 'position': 2, 'inventory_policy': 'deny', 'compare_at_price': None, 'fulfillment_service': 'printify', 'inventory_management': None, 'option1': 'S', 'option2': 'White', 'option3': None, 'created_at': '2024-02-19T19:26:16-08:00', 'updated_at': '2024-02-19T19:26:41-08:00', 'taxable': True, 'barcode': None, 'grams': 100, 'weight': 0.2205, 'weight_unit': 'lb', 'inventory_item_id': 46671287156957, 'inventory_quantity': 0, 'old_inventory_quantity': 0, 'requires_shipping': True, 'admin_graphql_api_id': 'gid://shopify/ProductVariant/44574513365213', 'image_id': 40448527302877}, {'id': 44574513397981, 'product_id': 8368514072797, 'title': 'M / Sport Grey', 'price': '35.99', 'sku': '33216173873843123368', 'position': 3, 'inventory_policy': 'deny', 'compare_at_price': None, 'fulfillment_service': 'printify', 'inventory_management': None, 'option1': 'M', 'option2': 'Sport Grey', 'option3': None, 'created_at': '2024-02-19T19:26:16-08:00', 'updated_at': '2024-02-19T19:26:45-08:00', 'taxable': True, 'barcode': None, 'grams': 100, 'weight': 0.2205, 'weight_unit': 'lb', 'inventory_item_id': 46671287189725, 'inventory_quantity': 0, 'old_inventory_quantity': 0, 'requires_shipping': True, 'admin_graphql_api_id': 'gid://shopify/ProductVariant/44574513397981', 'image_id': 40448527368413}, {'id': 44574513430749, 'product_id': 8368514072797, 'title': 'M / White', 'price': '35.99', 'sku': '29835798814971382931', 'position': 4, 'inventory_policy': 'deny', 'compare_at_price': None, 'fulfillment_service': 'printify', 'inventory_management': None, 'option1': 'M', 'option2': 'White', 'option3': None, 'created_at': '2024-02-19T19:26:16-08:00', 'updated_at': '2024-02-19T19:26:42-08:00', 'taxable': True, 'barcode': None, 'grams': 100, 'weight': 0.2205, 'weight_unit': 'lb', 'inventory_item_id': 46671287222493, 'inventory_quantity': 0, 'old_inventory_quantity': 0, 'requires_shipping': True, 'admin_graphql_api_id': 'gid://shopify/ProductVariant/44574513430749', 'image_id': 40448527302877}, {'id': 44574513463517, 'product_id': 8368514072797, 'title': 'L / Sport Grey', 'price': '35.99', 'sku': '58893408498505312911', 'position': 5, 'inventory_policy': 'deny', 'compare_at_price': None, 'fulfillment_service': 'printify', 'inventory_management': None, 'option1': 'L', 'option2': 'Sport Grey', 'option3': None, 'created_at': '2024-02-19T19:26:16-08:00', 'updated_at': '2024-02-19T19:26:45-08:00', 'taxable': True, 'barcode': None, 'grams': 100, 'weight': 0.2205, 'weight_unit': 'lb', 'inventory_item_id': 46671287255261, 'inventory_quantity': 0, 'old_inventory_quantity': 0, 'requires_shipping': True, 'admin_graphql_api_id': 'gid://shopify/ProductVariant/44574513463517', 'image_id': 40448527368413}, {'id': 44574513496285, 'product_id': 8368514072797, 'title': 'L / White', 'price': '35.99', 'sku': '48777349454926602631', 'position': 6, 'inventory_policy': 'deny', 'compare_at_price': None, 'fulfillment_service': 'printify', 'inventory_management': None, 'option1': 'L', 'option2': 'White', 'option3': None, 'created_at': '2024-02-19T19:26:16-08:00', 'updated_at': '2024-02-19T19:26:42-08:00', 'taxable': True, 'barcode': None, 'grams': 100, 'weight': 0.2205, 'weight_unit': 'lb', 'inventory_item_id': 46671287288029, 'inventory_quantity': 0, 'old_inventory_quantity': 0, 'requires_shipping': True, 'admin_graphql_api_id': 'gid://shopify/ProductVariant/44574513496285', 'image_id': 40448527302877}, {'id': 44574513529053, 'product_id': 8368514072797, 'title': 'XL / Sport Grey', 'price': '35.99', 'sku': '14953631972906367578', 'position': 7, 'inventory_policy': 'deny', 'compare_at_price': None, 'fulfillment_service': 'printify', 'inventory_management': None, 'option1': 'XL', 'option2': 'Sport Grey', 'option3': None, 'created_at': '2024-02-19T19:26:16-08:00', 'updated_at': '2024-02-19T19:26:46-08:00', 'taxable': True, 'barcode': None, 'grams': 100, 'weight': 0.2205, 'weight_unit': 'lb', 'inventory_item_id': 46671287320797, 'inventory_quantity': 0, 'old_inventory_quantity': 0, 'requires_shipping': True, 'admin_graphql_api_id': 'gid://shopify/ProductVariant/44574513529053', 'image_id': 40448527368413}, {'id': 44574513561821, 'product_id': 8368514072797, 'title': 'XL / White', 'price': '35.99', 'sku': '14572467039817596322', 'position': 8, 'inventory_policy': 'deny', 'compare_at_price': None, 'fulfillment_service': 'printify', 'inventory_management': None, 'option1': 'XL', 'option2': 'White', 'option3': None, 'created_at': '2024-02-19T19:26:16-08:00', 'updated_at': '2024-02-19T19:26:42-08:00', 'taxable': True, 'barcode': None, 'grams': 100, 'weight': 0.2205, 'weight_unit': 'lb', 'inventory_item_id': 46671287353565, 'inventory_quantity': 0, 'old_inventory_quantity': 0, 'requires_shipping': True, 'admin_graphql_api_id': 'gid://shopify/ProductVariant/44574513561821', 'image_id': 40448527302877}, {'id': 44574513594589, 'product_id': 8368514072797, 'title': '2XL / Sport Grey', 'price': '35.99', 'sku': '23589118550926089141', 'position': 9, 'inventory_policy': 'deny', 'compare_at_price': None, 'fulfillment_service': 'printify', 'inventory_management': None, 'option1': '2XL', 'option2': 'Sport Grey', 'option3': None, 'created_at': '2024-02-19T19:26:16-08:00', 'updated_at': '2024-02-19T19:26:46-08:00', 'taxable': True, 'barcode': None, 'grams': 100, 'weight': 0.2205, 'weight_unit': 'lb', 'inventory_item_id': 46671287386333, 'inventory_quantity': 0, 'old_inventory_quantity': 0, 'requires_shipping': True, 'admin_graphql_api_id': 'gid://shopify/ProductVariant/44574513594589', 'image_id': 40448527368413}, {'id': 44574513627357, 'product_id': 8368514072797, 'title': '2XL / White', 'price': '35.99', 'sku': '34741495178944358799', 'position': 10, 'inventory_policy': 'deny', 'compare_at_price': None, 'fulfillment_service': 'printify', 'inventory_management': None, 'option1': '2XL', 'option2': 'White', 'option3': None, 'created_at': '2024-02-19T19:26:16-08:00', 'updated_at': '2024-02-19T19:26:45-08:00', 'taxable': True, 'barcode': None, 'grams': 100, 'weight': 0.2205, 'weight_unit': 'lb', 'inventory_item_id': 46671287419101, 'inventory_quantity': 0, 'old_inventory_quantity': 0, 'requires_shipping': True, 'admin_graphql_api_id': 'gid://shopify/ProductVariant/44574513627357', 'image_id': 40448527302877}], 'options': [{'id': 10592544719069, 'product_id': 8368514072797, 'name': 'Size', 'position': 1, 'values': ['S', 'M', 'L', 'XL', '2XL']}, {'id': 10592544751837, 'product_id': 8368514072797, 'name': 'Color', 'position': 2, 'values': ['Sport Grey', 'White']}], 'images': [{'id': 40448527433949, 'alt': 'Washington Vs California. 17 Feb, 2024 back view', 'position': 1, 'product_id': 8368514072797, 'created_at': '2024-02-19T19:26:33-08:00', 'updated_at': '2024-02-20T17:49:07-08:00', 'admin_graphql_api_id': 'gid://shopify/ProductImage/40448527433949', 'width': 2048, 'height': 2048, 'src': 'https://cdn.shopify.com/s/files/1/0685/3509/1421/files/2795337562974978465_2048.jpg?v=1708480147', 'variant_ids': []}, {'id': 40448527302877, 'alt': None, 'position': 2, 'product_id': 8368514072797, 'created_at': '2024-02-19T19:26:30-08:00', 'updated_at': '2024-02-20T17:49:07-08:00', 'admin_graphql_api_id': 'gid://shopify/ProductImage/40448527302877', 'width': 2048, 'height': 2048, 'src': 'https://cdn.shopify.com/s/files/1/0685/3509/1421/files/7398137495027479749_2048.jpg?v=1708480147', 'variant_ids': [44574513365213, 44574513430749, 44574513496285, 44574513561821, 44574513627357]}, {'id': 40448527368413, 'alt': 'Washington Vs California. 17 Feb, 2024 front view', 'position': 3, 'product_id': 8368514072797, 'created_at': '2024-02-19T19:26:32-08:00', 'updated_at': '2024-02-20T17:49:08-08:00', 'admin_graphql_api_id': 'gid://shopify/ProductImage/40448527368413', 'width': 2048, 'height': 2048, 'src': 'https://cdn.shopify.com/s/files/1/0685/3509/1421/files/3018080039137125732_2048.jpg?v=1708480147', 'variant_ids': [44574513332445, 44574513397981, 44574513463517, 44574513529053, 44574513594589]}, {'id': 40448527499485, 'alt': None, 'position': 4, 'product_id': 8368514072797, 'created_at': '2024-02-19T19:26:34-08:00', 'updated_at': '2024-02-19T19:26:36-08:00', 'admin_graphql_api_id': 'gid://shopify/ProductImage/40448527499485', 'width': 2048, 'height': 2048, 'src': 'https://cdn.shopify.com/s/files/1/0685/3509/1421/files/5163661488216171635_2048.jpg?v=1708399596', 'variant_ids': []}, {'id': 40448527532253, 'alt': None, 'position': 5, 'product_id': 8368514072797, 'created_at': '2024-02-19T19:26:35-08:00', 'updated_at': '2024-02-19T19:26:37-08:00', 'admin_graphql_api_id': 'gid://shopify/ProductImage/40448527532253', 'width': 2048, 'height': 2048, 'src': 'https://cdn.shopify.com/s/files/1/0685/3509/1421/files/708984266529844934_2048.jpg?v=1708399597', 'variant_ids': []}, {'id': 40448527565021, 'alt': None, 'position': 6, 'product_id': 8368514072797, 'created_at': '2024-02-19T19:26:37-08:00', 'updated_at': '2024-02-19T19:26:38-08:00', 'admin_graphql_api_id': 'gid://shopify/ProductImage/40448527565021', 'width': 2048, 'height': 2048, 'src': 'https://cdn.shopify.com/s/files/1/0685/3509/1421/files/11772882293268989059_2048.jpg?v=1708399598', 'variant_ids': []}, {'id': 40448527597789, 'alt': None, 'position': 7, 'product_id': 8368514072797, 'created_at': '2024-02-19T19:26:38-08:00', 'updated_at': '2024-02-19T19:26:39-08:00', 'admin_graphql_api_id': 'gid://shopify/ProductImage/40448527597789', 'width': 2048, 'height': 2048, 'src': 'https://cdn.shopify.com/s/files/1/0685/3509/1421/files/10931670054478799709_2048.jpg?v=1708399599', 'variant_ids': []}, {'id': 40448527892701, 'alt': None, 'position': 8, 'product_id': 8368514072797, 'created_at': '2024-02-19T19:26:39-08:00', 'updated_at': '2024-02-19T19:26:41-08:00', 'admin_graphql_api_id': 'gid://shopify/ProductImage/40448527892701', 'width': 2048, 'height': 2048, 'src': 'https://cdn.shopify.com/s/files/1/0685/3509/1421/files/9244381500223730616_2048.jpg?v=1708399601', 'variant_ids': []}], 'image': {'id': 40448527433949, 'alt': 'Washington Vs California. 17 Feb, 2024 back view', 'position': 1, 'product_id': 8368514072797, 'created_at': '2024-02-19T19:26:33-08:00', 'updated_at': '2024-02-20T17:49:07-08:00', 'admin_graphql_api_id': 'gid://shopify/ProductImage/40448527433949', 'width': 2048, 'height': 2048, 'src': 'https://cdn.shopify.com/s/files/1/0685/3509/1421/files/2795337562974978465_2048.jpg?v=1708480147', 'variant_ids': []}}\n"
     ]
    }
   ],
   "source": [
    "ids = []\n",
    "for p in prods:\n",
    "    id = p['id']\n",
    "    if id not in ids:\n",
    "        ids.append(id)\n",
    "    if p[\"images\"][0][\"alt\"] is not None:\n",
    "        print(p)"
   ]
  }
 ],
 "metadata": {
  "kernelspec": {
   "display_name": ".venv",
   "language": "python",
   "name": "python3"
  },
  "language_info": {
   "codemirror_mode": {
    "name": "ipython",
    "version": 3
   },
   "file_extension": ".py",
   "mimetype": "text/x-python",
   "name": "python",
   "nbconvert_exporter": "python",
   "pygments_lexer": "ipython3",
   "version": "3.10.4"
  }
 },
 "nbformat": 4,
 "nbformat_minor": 2
}
