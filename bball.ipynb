{
 "cells": [
  {
   "cell_type": "code",
   "execution_count": 1,
   "metadata": {},
   "outputs": [
    {
     "name": "stdout",
     "output_type": "stream",
     "text": [
      "private file size: 2466\n"
     ]
    }
   ],
   "source": [
    "import sys\n",
    "from bs4 import BeautifulSoup\n",
    "import requests\n",
    "import datetime as dt\n",
    "from PIL import Image\n",
    "import helpers as hf\n",
    "\n",
    "import yaml\n",
    "from unidecode import unidecode\n",
    "import pandas as pd\n",
    "from PIL import Image, ImageOps, ImageDraw, ImageFont\n",
    "import json\n",
    "import numpy as np\n",
    "\n",
    "\n",
    "with open(\"info/design_config.yml\", \"r\") as f:\n",
    "    design_config = yaml.safe_load(f)\n",
    "\n",
    "design_config,shop_config = hf.get_config('cbb')\n",
    "cfbd_loader = hf.cfbp_handler(design_config['cfbd_api'])"
   ]
  },
  {
   "cell_type": "code",
   "execution_count": null,
   "metadata": {},
   "outputs": [],
   "source": []
  },
  {
   "cell_type": "code",
   "execution_count": 5,
   "metadata": {},
   "outputs": [],
   "source": [
    "headers = {\n",
    "            \"X-Shopify-Access-Token\": shop_config[\"shopify_access\"],\n",
    "            \"Content-Type\": \"application/json\",\n",
    "        }"
   ]
  },
  {
   "cell_type": "code",
   "execution_count": 9,
   "metadata": {},
   "outputs": [],
   "source": [
    "products_link = f\"https://{shop_config['cbb']['shop_name']}.myshopify.com/admin/api/2024-01/products.json\"\n",
    "response = requests.get(products_link, headers=headers)\n",
    "products = response.json()[\"products\"]"
   ]
  },
  {
   "cell_type": "code",
   "execution_count": 13,
   "metadata": {},
   "outputs": [
    {
     "name": "stdout",
     "output_type": "stream",
     "text": [
      "{'id': 8366289092829, 'title': 'Memphis Vs Smu. 07 Jan, 2024', 'body_html': 'AI image representing the basketball game 62 to 59 between Memphis and SMU, played at  07 Jan, 2024Memphis Tigers basketball shirt SMU Mustangs basketball shirt\\n||Memphis|| ||SMU||ROUND: ||None||', 'vendor': 'Printify', 'product_type': 'T-Shirt', 'created_at': '2024-02-16T08:25:44-08:00', 'handle': 'memphis-vs-smu-07-jan-2024', 'updated_at': '2024-02-16T08:28:37-08:00', 'published_at': '2024-02-16T08:25:46-08:00', 'template_suffix': None, 'published_scope': 'web', 'tags': 'basketball, college, madness, march, marchmadness, Memphis, Memphisbasketball, SMUSMU, sports', 'status': 'active', 'admin_graphql_api_id': 'gid://shopify/Product/8366289092829', 'variants': [{'id': 44566476357853, 'product_id': 8366289092829, 'title': 'Sport Grey / S', 'price': '25.99', 'sku': '10337885663125397649', 'position': 1, 'inventory_policy': 'deny', 'compare_at_price': None, 'fulfillment_service': 'printify', 'inventory_management': None, 'option1': 'Sport Grey', 'option2': 'S', 'option3': None, 'created_at': '2024-02-16T08:25:45-08:00', 'updated_at': '2024-02-16T08:28:36-08:00', 'taxable': True, 'barcode': None, 'grams': 100, 'weight': 0.2205, 'weight_unit': 'lb', 'inventory_item_id': 46663248806109, 'inventory_quantity': 0, 'old_inventory_quantity': 0, 'requires_shipping': True, 'admin_graphql_api_id': 'gid://shopify/ProductVariant/44566476357853', 'image_id': 40428804079837}, {'id': 44566476390621, 'product_id': 8366289092829, 'title': 'White / S', 'price': '25.99', 'sku': '40555334541705920608', 'position': 2, 'inventory_policy': 'deny', 'compare_at_price': None, 'fulfillment_service': 'printify', 'inventory_management': None, 'option1': 'White', 'option2': 'S', 'option3': None, 'created_at': '2024-02-16T08:25:45-08:00', 'updated_at': '2024-02-16T08:28:34-08:00', 'taxable': True, 'barcode': None, 'grams': 100, 'weight': 0.2205, 'weight_unit': 'lb', 'inventory_item_id': 46663248838877, 'inventory_quantity': 0, 'old_inventory_quantity': 0, 'requires_shipping': True, 'admin_graphql_api_id': 'gid://shopify/ProductVariant/44566476390621', 'image_id': 40428804014301}, {'id': 44566476423389, 'product_id': 8366289092829, 'title': 'Sport Grey / M', 'price': '25.99', 'sku': '10823389872031594549', 'position': 3, 'inventory_policy': 'deny', 'compare_at_price': None, 'fulfillment_service': 'printify', 'inventory_management': None, 'option1': 'Sport Grey', 'option2': 'M', 'option3': None, 'created_at': '2024-02-16T08:25:45-08:00', 'updated_at': '2024-02-16T08:28:37-08:00', 'taxable': True, 'barcode': None, 'grams': 100, 'weight': 0.2205, 'weight_unit': 'lb', 'inventory_item_id': 46663248871645, 'inventory_quantity': 0, 'old_inventory_quantity': 0, 'requires_shipping': True, 'admin_graphql_api_id': 'gid://shopify/ProductVariant/44566476423389', 'image_id': 40428804079837}, {'id': 44566476456157, 'product_id': 8366289092829, 'title': 'White / M', 'price': '25.99', 'sku': '28275574234310091950', 'position': 4, 'inventory_policy': 'deny', 'compare_at_price': None, 'fulfillment_service': 'printify', 'inventory_management': None, 'option1': 'White', 'option2': 'M', 'option3': None, 'created_at': '2024-02-16T08:25:45-08:00', 'updated_at': '2024-02-16T08:28:34-08:00', 'taxable': True, 'barcode': None, 'grams': 100, 'weight': 0.2205, 'weight_unit': 'lb', 'inventory_item_id': 46663248904413, 'inventory_quantity': 0, 'old_inventory_quantity': 0, 'requires_shipping': True, 'admin_graphql_api_id': 'gid://shopify/ProductVariant/44566476456157', 'image_id': 40428804014301}, {'id': 44566476488925, 'product_id': 8366289092829, 'title': 'Sport Grey / L', 'price': '25.99', 'sku': '16180304216780373002', 'position': 5, 'inventory_policy': 'deny', 'compare_at_price': None, 'fulfillment_service': 'printify', 'inventory_management': None, 'option1': 'Sport Grey', 'option2': 'L', 'option3': None, 'created_at': '2024-02-16T08:25:45-08:00', 'updated_at': '2024-02-16T08:28:37-08:00', 'taxable': True, 'barcode': None, 'grams': 100, 'weight': 0.2205, 'weight_unit': 'lb', 'inventory_item_id': 46663248937181, 'inventory_quantity': 0, 'old_inventory_quantity': 0, 'requires_shipping': True, 'admin_graphql_api_id': 'gid://shopify/ProductVariant/44566476488925', 'image_id': 40428804079837}, {'id': 44566476521693, 'product_id': 8366289092829, 'title': 'White / L', 'price': '25.99', 'sku': '16857688535211655785', 'position': 6, 'inventory_policy': 'deny', 'compare_at_price': None, 'fulfillment_service': 'printify', 'inventory_management': None, 'option1': 'White', 'option2': 'L', 'option3': None, 'created_at': '2024-02-16T08:25:45-08:00', 'updated_at': '2024-02-16T08:28:34-08:00', 'taxable': True, 'barcode': None, 'grams': 100, 'weight': 0.2205, 'weight_unit': 'lb', 'inventory_item_id': 46663248969949, 'inventory_quantity': 0, 'old_inventory_quantity': 0, 'requires_shipping': True, 'admin_graphql_api_id': 'gid://shopify/ProductVariant/44566476521693', 'image_id': 40428804014301}, {'id': 44566476554461, 'product_id': 8366289092829, 'title': 'Sport Grey / XL', 'price': '25.99', 'sku': '10083822974077025102', 'position': 7, 'inventory_policy': 'deny', 'compare_at_price': None, 'fulfillment_service': 'printify', 'inventory_management': None, 'option1': 'Sport Grey', 'option2': 'XL', 'option3': None, 'created_at': '2024-02-16T08:25:45-08:00', 'updated_at': '2024-02-16T08:28:37-08:00', 'taxable': True, 'barcode': None, 'grams': 100, 'weight': 0.2205, 'weight_unit': 'lb', 'inventory_item_id': 46663249002717, 'inventory_quantity': 0, 'old_inventory_quantity': 0, 'requires_shipping': True, 'admin_graphql_api_id': 'gid://shopify/ProductVariant/44566476554461', 'image_id': 40428804079837}, {'id': 44566476587229, 'product_id': 8366289092829, 'title': 'White / XL', 'price': '25.99', 'sku': '32807705252051359967', 'position': 8, 'inventory_policy': 'deny', 'compare_at_price': None, 'fulfillment_service': 'printify', 'inventory_management': None, 'option1': 'White', 'option2': 'XL', 'option3': None, 'created_at': '2024-02-16T08:25:45-08:00', 'updated_at': '2024-02-16T08:28:34-08:00', 'taxable': True, 'barcode': None, 'grams': 100, 'weight': 0.2205, 'weight_unit': 'lb', 'inventory_item_id': 46663249035485, 'inventory_quantity': 0, 'old_inventory_quantity': 0, 'requires_shipping': True, 'admin_graphql_api_id': 'gid://shopify/ProductVariant/44566476587229', 'image_id': 40428804014301}, {'id': 44566476619997, 'product_id': 8366289092829, 'title': 'Sport Grey / 2XL', 'price': '25.99', 'sku': '33334144429986017459', 'position': 9, 'inventory_policy': 'deny', 'compare_at_price': None, 'fulfillment_service': 'printify', 'inventory_management': None, 'option1': 'Sport Grey', 'option2': '2XL', 'option3': None, 'created_at': '2024-02-16T08:25:45-08:00', 'updated_at': '2024-02-16T08:28:37-08:00', 'taxable': True, 'barcode': None, 'grams': 100, 'weight': 0.2205, 'weight_unit': 'lb', 'inventory_item_id': 46663249068253, 'inventory_quantity': 0, 'old_inventory_quantity': 0, 'requires_shipping': True, 'admin_graphql_api_id': 'gid://shopify/ProductVariant/44566476619997', 'image_id': 40428804079837}, {'id': 44566476652765, 'product_id': 8366289092829, 'title': 'White / 2XL', 'price': '25.99', 'sku': '31258567438993934587', 'position': 10, 'inventory_policy': 'deny', 'compare_at_price': None, 'fulfillment_service': 'printify', 'inventory_management': None, 'option1': 'White', 'option2': '2XL', 'option3': None, 'created_at': '2024-02-16T08:25:45-08:00', 'updated_at': '2024-02-16T08:28:35-08:00', 'taxable': True, 'barcode': None, 'grams': 100, 'weight': 0.2205, 'weight_unit': 'lb', 'inventory_item_id': 46663249101021, 'inventory_quantity': 0, 'old_inventory_quantity': 0, 'requires_shipping': True, 'admin_graphql_api_id': 'gid://shopify/ProductVariant/44566476652765', 'image_id': 40428804014301}], 'options': [{'id': 10589771333853, 'product_id': 8366289092829, 'name': 'Color', 'position': 1, 'values': ['Sport Grey', 'White']}, {'id': 10589771366621, 'product_id': 8366289092829, 'name': 'Size', 'position': 2, 'values': ['S', 'M', 'L', 'XL', '2XL']}], 'images': [{'id': 40428804014301, 'alt': None, 'position': 1, 'product_id': 8366289092829, 'created_at': '2024-02-16T08:28:23-08:00', 'updated_at': '2024-02-16T08:28:25-08:00', 'admin_graphql_api_id': 'gid://shopify/ProductImage/40428804014301', 'width': 2048, 'height': 2048, 'src': 'https://cdn.shopify.com/s/files/1/0685/3509/1421/files/12059844997513231533_2048.jpg?v=1708100905', 'variant_ids': [44566476390621, 44566476456157, 44566476521693, 44566476587229, 44566476652765]}, {'id': 40428804079837, 'alt': None, 'position': 2, 'product_id': 8366289092829, 'created_at': '2024-02-16T08:28:25-08:00', 'updated_at': '2024-02-16T08:28:27-08:00', 'admin_graphql_api_id': 'gid://shopify/ProductImage/40428804079837', 'width': 2048, 'height': 2048, 'src': 'https://cdn.shopify.com/s/files/1/0685/3509/1421/files/12723952725239431602_2048.jpg?v=1708100907', 'variant_ids': [44566476357853, 44566476423389, 44566476488925, 44566476554461, 44566476619997]}, {'id': 40428804145373, 'alt': None, 'position': 3, 'product_id': 8366289092829, 'created_at': '2024-02-16T08:28:26-08:00', 'updated_at': '2024-02-16T08:28:28-08:00', 'admin_graphql_api_id': 'gid://shopify/ProductImage/40428804145373', 'width': 2048, 'height': 2048, 'src': 'https://cdn.shopify.com/s/files/1/0685/3509/1421/files/7619651476767401355_2048.jpg?v=1708100908', 'variant_ids': []}, {'id': 40428804178141, 'alt': None, 'position': 4, 'product_id': 8366289092829, 'created_at': '2024-02-16T08:28:27-08:00', 'updated_at': '2024-02-16T08:28:29-08:00', 'admin_graphql_api_id': 'gid://shopify/ProductImage/40428804178141', 'width': 2048, 'height': 2048, 'src': 'https://cdn.shopify.com/s/files/1/0685/3509/1421/files/2328256176626035565_2048.jpg?v=1708100909', 'variant_ids': []}, {'id': 40428804243677, 'alt': None, 'position': 5, 'product_id': 8366289092829, 'created_at': '2024-02-16T08:28:29-08:00', 'updated_at': '2024-02-16T08:28:30-08:00', 'admin_graphql_api_id': 'gid://shopify/ProductImage/40428804243677', 'width': 2048, 'height': 2048, 'src': 'https://cdn.shopify.com/s/files/1/0685/3509/1421/files/2454656836635282462_2048.jpg?v=1708100910', 'variant_ids': []}], 'image': {'id': 40428804014301, 'alt': None, 'position': 1, 'product_id': 8366289092829, 'created_at': '2024-02-16T08:28:23-08:00', 'updated_at': '2024-02-16T08:28:25-08:00', 'admin_graphql_api_id': 'gid://shopify/ProductImage/40428804014301', 'width': 2048, 'height': 2048, 'src': 'https://cdn.shopify.com/s/files/1/0685/3509/1421/files/12059844997513231533_2048.jpg?v=1708100905', 'variant_ids': [44566476390621, 44566476456157, 44566476521693, 44566476587229, 44566476652765]}}\n",
      "{'id': 8366289125597, 'title': 'Memphis Vs Smu. 07 Jan, 2024', 'body_html': 'AI image representing the basketball game 62 to 59 between Memphis and SMU, played at  07 Jan, 2024Memphis Tigers basketball shirt SMU Mustangs basketball shirt\\n||Memphis|| ||SMU||ROUND: ||None||', 'vendor': 'Printify', 'product_type': 'Sweatshirt', 'created_at': '2024-02-16T08:25:47-08:00', 'handle': 'memphis-vs-smu-07-jan-2025', 'updated_at': '2024-02-16T08:25:50-08:00', 'published_at': '2024-02-16T08:25:50-08:00', 'template_suffix': None, 'published_scope': 'web', 'tags': 'basketball, college, madness, march, marchmadness, Memphis, Memphisbasketball, SMUSMU, sports', 'status': 'active', 'admin_graphql_api_id': 'gid://shopify/Product/8366289125597', 'variants': [{'id': 44566476685533, 'product_id': 8366289125597, 'title': 'S / Sport Grey', 'price': '35.99', 'sku': '30729043877796925931', 'position': 1, 'inventory_policy': 'deny', 'compare_at_price': None, 'fulfillment_service': 'printify', 'inventory_management': None, 'option1': 'S', 'option2': 'Sport Grey', 'option3': None, 'created_at': '2024-02-16T08:25:47-08:00', 'updated_at': '2024-02-16T08:25:47-08:00', 'taxable': True, 'barcode': None, 'grams': 100, 'weight': 0.2205, 'weight_unit': 'lb', 'inventory_item_id': 46663249133789, 'inventory_quantity': 0, 'old_inventory_quantity': 0, 'requires_shipping': True, 'admin_graphql_api_id': 'gid://shopify/ProductVariant/44566476685533', 'image_id': None}, {'id': 44566476718301, 'product_id': 8366289125597, 'title': 'S / White', 'price': '35.99', 'sku': '25676667383158783170', 'position': 2, 'inventory_policy': 'deny', 'compare_at_price': None, 'fulfillment_service': 'printify', 'inventory_management': None, 'option1': 'S', 'option2': 'White', 'option3': None, 'created_at': '2024-02-16T08:25:47-08:00', 'updated_at': '2024-02-16T08:25:47-08:00', 'taxable': True, 'barcode': None, 'grams': 100, 'weight': 0.2205, 'weight_unit': 'lb', 'inventory_item_id': 46663249166557, 'inventory_quantity': 0, 'old_inventory_quantity': 0, 'requires_shipping': True, 'admin_graphql_api_id': 'gid://shopify/ProductVariant/44566476718301', 'image_id': None}, {'id': 44566476751069, 'product_id': 8366289125597, 'title': 'M / Sport Grey', 'price': '35.99', 'sku': '68753103271264633532', 'position': 3, 'inventory_policy': 'deny', 'compare_at_price': None, 'fulfillment_service': 'printify', 'inventory_management': None, 'option1': 'M', 'option2': 'Sport Grey', 'option3': None, 'created_at': '2024-02-16T08:25:47-08:00', 'updated_at': '2024-02-16T08:25:47-08:00', 'taxable': True, 'barcode': None, 'grams': 100, 'weight': 0.2205, 'weight_unit': 'lb', 'inventory_item_id': 46663249199325, 'inventory_quantity': 0, 'old_inventory_quantity': 0, 'requires_shipping': True, 'admin_graphql_api_id': 'gid://shopify/ProductVariant/44566476751069', 'image_id': None}, {'id': 44566476783837, 'product_id': 8366289125597, 'title': 'M / White', 'price': '35.99', 'sku': '16892210190928249794', 'position': 4, 'inventory_policy': 'deny', 'compare_at_price': None, 'fulfillment_service': 'printify', 'inventory_management': None, 'option1': 'M', 'option2': 'White', 'option3': None, 'created_at': '2024-02-16T08:25:47-08:00', 'updated_at': '2024-02-16T08:25:47-08:00', 'taxable': True, 'barcode': None, 'grams': 100, 'weight': 0.2205, 'weight_unit': 'lb', 'inventory_item_id': 46663249232093, 'inventory_quantity': 0, 'old_inventory_quantity': 0, 'requires_shipping': True, 'admin_graphql_api_id': 'gid://shopify/ProductVariant/44566476783837', 'image_id': None}, {'id': 44566476816605, 'product_id': 8366289125597, 'title': 'L / Sport Grey', 'price': '35.99', 'sku': '58809165314024809048', 'position': 5, 'inventory_policy': 'deny', 'compare_at_price': None, 'fulfillment_service': 'printify', 'inventory_management': None, 'option1': 'L', 'option2': 'Sport Grey', 'option3': None, 'created_at': '2024-02-16T08:25:47-08:00', 'updated_at': '2024-02-16T08:25:47-08:00', 'taxable': True, 'barcode': None, 'grams': 100, 'weight': 0.2205, 'weight_unit': 'lb', 'inventory_item_id': 46663249264861, 'inventory_quantity': 0, 'old_inventory_quantity': 0, 'requires_shipping': True, 'admin_graphql_api_id': 'gid://shopify/ProductVariant/44566476816605', 'image_id': None}, {'id': 44566476849373, 'product_id': 8366289125597, 'title': 'L / White', 'price': '35.99', 'sku': '19953330825978646191', 'position': 6, 'inventory_policy': 'deny', 'compare_at_price': None, 'fulfillment_service': 'printify', 'inventory_management': None, 'option1': 'L', 'option2': 'White', 'option3': None, 'created_at': '2024-02-16T08:25:47-08:00', 'updated_at': '2024-02-16T08:25:47-08:00', 'taxable': True, 'barcode': None, 'grams': 100, 'weight': 0.2205, 'weight_unit': 'lb', 'inventory_item_id': 46663249297629, 'inventory_quantity': 0, 'old_inventory_quantity': 0, 'requires_shipping': True, 'admin_graphql_api_id': 'gid://shopify/ProductVariant/44566476849373', 'image_id': None}, {'id': 44566476882141, 'product_id': 8366289125597, 'title': 'XL / Sport Grey', 'price': '35.99', 'sku': '23137937790697042584', 'position': 7, 'inventory_policy': 'deny', 'compare_at_price': None, 'fulfillment_service': 'printify', 'inventory_management': None, 'option1': 'XL', 'option2': 'Sport Grey', 'option3': None, 'created_at': '2024-02-16T08:25:47-08:00', 'updated_at': '2024-02-16T08:25:47-08:00', 'taxable': True, 'barcode': None, 'grams': 100, 'weight': 0.2205, 'weight_unit': 'lb', 'inventory_item_id': 46663249330397, 'inventory_quantity': 0, 'old_inventory_quantity': 0, 'requires_shipping': True, 'admin_graphql_api_id': 'gid://shopify/ProductVariant/44566476882141', 'image_id': None}, {'id': 44566476914909, 'product_id': 8366289125597, 'title': 'XL / White', 'price': '35.99', 'sku': '10130357534996791100', 'position': 8, 'inventory_policy': 'deny', 'compare_at_price': None, 'fulfillment_service': 'printify', 'inventory_management': None, 'option1': 'XL', 'option2': 'White', 'option3': None, 'created_at': '2024-02-16T08:25:47-08:00', 'updated_at': '2024-02-16T08:25:47-08:00', 'taxable': True, 'barcode': None, 'grams': 100, 'weight': 0.2205, 'weight_unit': 'lb', 'inventory_item_id': 46663249363165, 'inventory_quantity': 0, 'old_inventory_quantity': 0, 'requires_shipping': True, 'admin_graphql_api_id': 'gid://shopify/ProductVariant/44566476914909', 'image_id': None}, {'id': 44566476947677, 'product_id': 8366289125597, 'title': '2XL / Sport Grey', 'price': '35.99', 'sku': '28818954881285285164', 'position': 9, 'inventory_policy': 'deny', 'compare_at_price': None, 'fulfillment_service': 'printify', 'inventory_management': None, 'option1': '2XL', 'option2': 'Sport Grey', 'option3': None, 'created_at': '2024-02-16T08:25:47-08:00', 'updated_at': '2024-02-16T08:25:47-08:00', 'taxable': True, 'barcode': None, 'grams': 100, 'weight': 0.2205, 'weight_unit': 'lb', 'inventory_item_id': 46663249395933, 'inventory_quantity': 0, 'old_inventory_quantity': 0, 'requires_shipping': True, 'admin_graphql_api_id': 'gid://shopify/ProductVariant/44566476947677', 'image_id': None}, {'id': 44566476980445, 'product_id': 8366289125597, 'title': '2XL / White', 'price': '35.99', 'sku': '33730427169741944392', 'position': 10, 'inventory_policy': 'deny', 'compare_at_price': None, 'fulfillment_service': 'printify', 'inventory_management': None, 'option1': '2XL', 'option2': 'White', 'option3': None, 'created_at': '2024-02-16T08:25:47-08:00', 'updated_at': '2024-02-16T08:25:47-08:00', 'taxable': True, 'barcode': None, 'grams': 100, 'weight': 0.2205, 'weight_unit': 'lb', 'inventory_item_id': 46663249428701, 'inventory_quantity': 0, 'old_inventory_quantity': 0, 'requires_shipping': True, 'admin_graphql_api_id': 'gid://shopify/ProductVariant/44566476980445', 'image_id': None}], 'options': [{'id': 10589771399389, 'product_id': 8366289125597, 'name': 'Size', 'position': 1, 'values': ['S', 'M', 'L', 'XL', '2XL']}, {'id': 10589771432157, 'product_id': 8366289125597, 'name': 'Color', 'position': 2, 'values': ['Sport Grey', 'White']}], 'images': [], 'image': None}\n"
     ]
    }
   ],
   "source": [
    "for p in products:\n",
    "    if 'memphis' in p['title'].lower():\n",
    "        print(p)"
   ]
  },
  {
   "cell_type": "code",
   "execution_count": 66,
   "metadata": {},
   "outputs": [],
   "source": [
    "url = f\"https://{shop_config['cbb']['shop_name']}.myshopify.com/admin/api/2021-07/custom_collections.json\"\n",
    "\n",
    "# Make the API request to get the list of collections\n",
    "response = requests.get(url, headers=headers)"
   ]
  },
  {
   "cell_type": "code",
   "execution_count": 67,
   "metadata": {},
   "outputs": [
    {
     "data": {
      "text/plain": [
       "[]"
      ]
     },
     "execution_count": 67,
     "metadata": {},
     "output_type": "execute_result"
    }
   ],
   "source": [
    "response.json()['custom_collections']"
   ]
  },
  {
   "cell_type": "code",
   "execution_count": 20,
   "metadata": {},
   "outputs": [
    {
     "data": {
      "text/plain": [
       "datetime.date(2024, 2, 14)"
      ]
     },
     "execution_count": 20,
     "metadata": {},
     "output_type": "execute_result"
    }
   ],
   "source": [
    "dt.date.today()"
   ]
  },
  {
   "cell_type": "code",
   "execution_count": 21,
   "metadata": {},
   "outputs": [
    {
     "data": {
      "text/html": [
       "<div>\n",
       "<style scoped>\n",
       "    .dataframe tbody tr th:only-of-type {\n",
       "        vertical-align: middle;\n",
       "    }\n",
       "\n",
       "    .dataframe tbody tr th {\n",
       "        vertical-align: top;\n",
       "    }\n",
       "\n",
       "    .dataframe thead th {\n",
       "        text-align: right;\n",
       "    }\n",
       "</style>\n",
       "<table border=\"1\" class=\"dataframe\">\n",
       "  <thead>\n",
       "    <tr style=\"text-align: right;\">\n",
       "      <th></th>\n",
       "      <th>date_</th>\n",
       "      <th>team1</th>\n",
       "      <th>team1Rank</th>\n",
       "      <th>team1Score</th>\n",
       "      <th>team2</th>\n",
       "      <th>team2Rank</th>\n",
       "      <th>team2Score</th>\n",
       "      <th>Desc</th>\n",
       "    </tr>\n",
       "  </thead>\n",
       "  <tbody>\n",
       "  </tbody>\n",
       "</table>\n",
       "</div>"
      ],
      "text/plain": [
       "Empty DataFrame\n",
       "Columns: [date_, team1, team1Rank, team1Score, team2, team2Rank, team2Score, Desc]\n",
       "Index: []"
      ]
     },
     "execution_count": 21,
     "metadata": {},
     "output_type": "execute_result"
    }
   ],
   "source": [
    "hf.get_day_bball_games(dt.date.today())"
   ]
  },
  {
   "cell_type": "code",
   "execution_count": 68,
   "metadata": {},
   "outputs": [
    {
     "name": "stdout",
     "output_type": "stream",
     "text": [
      "Unexpected exception formatting exception. Falling back to standard exception\n"
     ]
    },
    {
     "name": "stderr",
     "output_type": "stream",
     "text": [
      "Traceback (most recent call last):\n",
      "  File \"/Users/loganmckerlich/Desktop/DS_portoflio.nosync/shirts/.venv/lib/python3.10/site-packages/IPython/core/interactiveshell.py\", line 3553, in run_code\n",
      "    exec(code_obj, self.user_global_ns, self.user_ns)\n",
      "  File \"/var/folders/f9/0p17y2hx2qs4nywszths57k80000gn/T/ipykernel_41567/4073923154.py\", line 1, in <module>\n",
      "    teams = cfbd_loader.get_team_info()\n",
      "  File \"/Users/loganmckerlich/Desktop/DS_portoflio.nosync/shirts/helpers/cfbd.py\", line 69, in get_team_info\n",
      "    division,\n",
      "  File \"/Users/loganmckerlich/Desktop/DS_portoflio.nosync/shirts/helpers/cfbd.py\", line 26, in manual_adds\n",
      "  File \"/Users/loganmckerlich/Desktop/DS_portoflio.nosync/shirts/helpers/cfbd.py\", line 9, in read_yaml\n",
      "    def read_yaml(file_path):\n",
      "FileNotFoundError: [Errno 2] No such file or directory: 'data_quality.yml'\n",
      "\n",
      "During handling of the above exception, another exception occurred:\n",
      "\n",
      "Traceback (most recent call last):\n",
      "  File \"/Users/loganmckerlich/Desktop/DS_portoflio.nosync/shirts/.venv/lib/python3.10/site-packages/IPython/core/interactiveshell.py\", line 2144, in showtraceback\n",
      "    stb = self.InteractiveTB.structured_traceback(\n",
      "  File \"/Users/loganmckerlich/Desktop/DS_portoflio.nosync/shirts/.venv/lib/python3.10/site-packages/IPython/core/ultratb.py\", line 1435, in structured_traceback\n",
      "    return FormattedTB.structured_traceback(\n",
      "  File \"/Users/loganmckerlich/Desktop/DS_portoflio.nosync/shirts/.venv/lib/python3.10/site-packages/IPython/core/ultratb.py\", line 1326, in structured_traceback\n",
      "    return VerboseTB.structured_traceback(\n",
      "  File \"/Users/loganmckerlich/Desktop/DS_portoflio.nosync/shirts/.venv/lib/python3.10/site-packages/IPython/core/ultratb.py\", line 1173, in structured_traceback\n",
      "    formatted_exception = self.format_exception_as_a_whole(etype, evalue, etb, number_of_lines_of_context,\n",
      "  File \"/Users/loganmckerlich/Desktop/DS_portoflio.nosync/shirts/.venv/lib/python3.10/site-packages/IPython/core/ultratb.py\", line 1088, in format_exception_as_a_whole\n",
      "    frames.append(self.format_record(record))\n",
      "  File \"/Users/loganmckerlich/Desktop/DS_portoflio.nosync/shirts/.venv/lib/python3.10/site-packages/IPython/core/ultratb.py\", line 970, in format_record\n",
      "    frame_info.lines, Colors, self.has_colors, lvals\n",
      "  File \"/Users/loganmckerlich/Desktop/DS_portoflio.nosync/shirts/.venv/lib/python3.10/site-packages/IPython/core/ultratb.py\", line 792, in lines\n",
      "    return self._sd.lines\n",
      "  File \"/Users/loganmckerlich/Desktop/DS_portoflio.nosync/shirts/.venv/lib/python3.10/site-packages/stack_data/utils.py\", line 145, in cached_property_wrapper\n",
      "    value = obj.__dict__[self.func.__name__] = self.func(obj)\n",
      "  File \"/Users/loganmckerlich/Desktop/DS_portoflio.nosync/shirts/.venv/lib/python3.10/site-packages/stack_data/core.py\", line 734, in lines\n",
      "    pieces = self.included_pieces\n",
      "  File \"/Users/loganmckerlich/Desktop/DS_portoflio.nosync/shirts/.venv/lib/python3.10/site-packages/stack_data/utils.py\", line 145, in cached_property_wrapper\n",
      "    value = obj.__dict__[self.func.__name__] = self.func(obj)\n",
      "  File \"/Users/loganmckerlich/Desktop/DS_portoflio.nosync/shirts/.venv/lib/python3.10/site-packages/stack_data/core.py\", line 681, in included_pieces\n",
      "    pos = scope_pieces.index(self.executing_piece)\n",
      "  File \"/Users/loganmckerlich/Desktop/DS_portoflio.nosync/shirts/.venv/lib/python3.10/site-packages/stack_data/utils.py\", line 145, in cached_property_wrapper\n",
      "    value = obj.__dict__[self.func.__name__] = self.func(obj)\n",
      "  File \"/Users/loganmckerlich/Desktop/DS_portoflio.nosync/shirts/.venv/lib/python3.10/site-packages/stack_data/core.py\", line 660, in executing_piece\n",
      "    return only(\n",
      "  File \"/Users/loganmckerlich/Desktop/DS_portoflio.nosync/shirts/.venv/lib/python3.10/site-packages/executing/executing.py\", line 116, in only\n",
      "    raise NotOneValueFound('Expected one value, found 0')\n",
      "executing.executing.NotOneValueFound: Expected one value, found 0\n"
     ]
    }
   ],
   "source": [
    "teams = cfbd_loader.get_team_info()"
   ]
  },
  {
   "cell_type": "code",
   "execution_count": 74,
   "metadata": {},
   "outputs": [
    {
     "data": {
      "text/plain": [
       "True"
      ]
     },
     "execution_count": 74,
     "metadata": {},
     "output_type": "execute_result"
    }
   ],
   "source": [
    "teams.logos.values[0] is np.nan"
   ]
  },
  {
   "cell_type": "code",
   "execution_count": 32,
   "metadata": {},
   "outputs": [],
   "source": [
    "import math"
   ]
  },
  {
   "cell_type": "code",
   "execution_count": 83,
   "metadata": {},
   "outputs": [
    {
     "data": {
      "text/plain": [
       "'http://a.espncdn.com/i/teamlogos/ncaa/500/153.png'"
      ]
     },
     "execution_count": 83,
     "metadata": {},
     "output_type": "execute_result"
    }
   ],
   "source": [
    "teams.loc[teams.abrev=='UNC'].logos.values[0]"
   ]
  },
  {
   "cell_type": "code",
   "execution_count": 45,
   "metadata": {},
   "outputs": [
    {
     "data": {
      "text/plain": [
       "float"
      ]
     },
     "execution_count": 45,
     "metadata": {},
     "output_type": "execute_result"
    }
   ],
   "source": [
    "type(mascot)"
   ]
  },
  {
   "cell_type": "code",
   "execution_count": 42,
   "metadata": {},
   "outputs": [
    {
     "ename": "TypeError",
     "evalue": "must be real number, not str",
     "output_type": "error",
     "traceback": [
      "\u001b[0;31m---------------------------------------------------------------------------\u001b[0m",
      "\u001b[0;31mTypeError\u001b[0m                                 Traceback (most recent call last)",
      "Cell \u001b[0;32mIn[42], line 1\u001b[0m\n\u001b[0;32m----> 1\u001b[0m \u001b[38;5;28;01mif\u001b[39;00m (mascot \u001b[38;5;129;01mis\u001b[39;00m \u001b[38;5;28;01mNone\u001b[39;00m) \u001b[38;5;129;01mor\u001b[39;00m (\u001b[43mmath\u001b[49m\u001b[38;5;241;43m.\u001b[39;49m\u001b[43misnan\u001b[49m\u001b[43m(\u001b[49m\u001b[43mmascot\u001b[49m\u001b[43m)\u001b[49m):\n\u001b[1;32m      2\u001b[0m     \u001b[38;5;28mprint\u001b[39m(\u001b[38;5;124m'\u001b[39m\u001b[38;5;124mnan\u001b[39m\u001b[38;5;124m'\u001b[39m)\n",
      "\u001b[0;31mTypeError\u001b[0m: must be real number, not str"
     ]
    }
   ],
   "source": [
    "if (mascot is None) or (math.isnan(mascot)):\n",
    "    print('nan')"
   ]
  },
  {
   "cell_type": "code",
   "execution_count": 15,
   "metadata": {},
   "outputs": [
    {
     "ename": "NotImplementedError",
     "evalue": "iLocation based boolean indexing on an integer type is not available",
     "output_type": "error",
     "traceback": [
      "\u001b[0;31m---------------------------------------------------------------------------\u001b[0m",
      "\u001b[0;31mNotImplementedError\u001b[0m                       Traceback (most recent call last)",
      "Cell \u001b[0;32mIn[15], line 1\u001b[0m\n\u001b[0;32m----> 1\u001b[0m \u001b[43mteams\u001b[49m\u001b[38;5;241;43m.\u001b[39;49m\u001b[43miloc\u001b[49m\u001b[43m[\u001b[49m\u001b[43mteams\u001b[49m\u001b[38;5;241;43m.\u001b[39;49m\u001b[43mname\u001b[49m\u001b[38;5;241;43m==\u001b[39;49m\u001b[38;5;124;43m'\u001b[39;49m\u001b[38;5;124;43mGreen Bay\u001b[39;49m\u001b[38;5;124;43m'\u001b[39;49m\u001b[43m]\u001b[49m\n",
      "File \u001b[0;32m~/Desktop/DS_portoflio.nosync/shirts/.venv/lib/python3.10/site-packages/pandas/core/indexing.py:1153\u001b[0m, in \u001b[0;36m_LocationIndexer.__getitem__\u001b[0;34m(self, key)\u001b[0m\n\u001b[1;32m   1150\u001b[0m axis \u001b[38;5;241m=\u001b[39m \u001b[38;5;28mself\u001b[39m\u001b[38;5;241m.\u001b[39maxis \u001b[38;5;129;01mor\u001b[39;00m \u001b[38;5;241m0\u001b[39m\n\u001b[1;32m   1152\u001b[0m maybe_callable \u001b[38;5;241m=\u001b[39m com\u001b[38;5;241m.\u001b[39mapply_if_callable(key, \u001b[38;5;28mself\u001b[39m\u001b[38;5;241m.\u001b[39mobj)\n\u001b[0;32m-> 1153\u001b[0m \u001b[38;5;28;01mreturn\u001b[39;00m \u001b[38;5;28;43mself\u001b[39;49m\u001b[38;5;241;43m.\u001b[39;49m\u001b[43m_getitem_axis\u001b[49m\u001b[43m(\u001b[49m\u001b[43mmaybe_callable\u001b[49m\u001b[43m,\u001b[49m\u001b[43m \u001b[49m\u001b[43maxis\u001b[49m\u001b[38;5;241;43m=\u001b[39;49m\u001b[43maxis\u001b[49m\u001b[43m)\u001b[49m\n",
      "File \u001b[0;32m~/Desktop/DS_portoflio.nosync/shirts/.venv/lib/python3.10/site-packages/pandas/core/indexing.py:1700\u001b[0m, in \u001b[0;36m_iLocIndexer._getitem_axis\u001b[0;34m(self, key, axis)\u001b[0m\n\u001b[1;32m   1697\u001b[0m     key \u001b[38;5;241m=\u001b[39m np\u001b[38;5;241m.\u001b[39masarray(key)\n\u001b[1;32m   1699\u001b[0m \u001b[38;5;28;01mif\u001b[39;00m com\u001b[38;5;241m.\u001b[39mis_bool_indexer(key):\n\u001b[0;32m-> 1700\u001b[0m     \u001b[38;5;28;43mself\u001b[39;49m\u001b[38;5;241;43m.\u001b[39;49m\u001b[43m_validate_key\u001b[49m\u001b[43m(\u001b[49m\u001b[43mkey\u001b[49m\u001b[43m,\u001b[49m\u001b[43m \u001b[49m\u001b[43maxis\u001b[49m\u001b[43m)\u001b[49m\n\u001b[1;32m   1701\u001b[0m     \u001b[38;5;28;01mreturn\u001b[39;00m \u001b[38;5;28mself\u001b[39m\u001b[38;5;241m.\u001b[39m_getbool_axis(key, axis\u001b[38;5;241m=\u001b[39maxis)\n\u001b[1;32m   1703\u001b[0m \u001b[38;5;66;03m# a list of integers\u001b[39;00m\n",
      "File \u001b[0;32m~/Desktop/DS_portoflio.nosync/shirts/.venv/lib/python3.10/site-packages/pandas/core/indexing.py:1540\u001b[0m, in \u001b[0;36m_iLocIndexer._validate_key\u001b[0;34m(self, key, axis)\u001b[0m\n\u001b[1;32m   1538\u001b[0m \u001b[38;5;28;01mif\u001b[39;00m \u001b[38;5;28mhasattr\u001b[39m(key, \u001b[38;5;124m\"\u001b[39m\u001b[38;5;124mindex\u001b[39m\u001b[38;5;124m\"\u001b[39m) \u001b[38;5;129;01mand\u001b[39;00m \u001b[38;5;28misinstance\u001b[39m(key\u001b[38;5;241m.\u001b[39mindex, Index):\n\u001b[1;32m   1539\u001b[0m     \u001b[38;5;28;01mif\u001b[39;00m key\u001b[38;5;241m.\u001b[39mindex\u001b[38;5;241m.\u001b[39minferred_type \u001b[38;5;241m==\u001b[39m \u001b[38;5;124m\"\u001b[39m\u001b[38;5;124minteger\u001b[39m\u001b[38;5;124m\"\u001b[39m:\n\u001b[0;32m-> 1540\u001b[0m         \u001b[38;5;28;01mraise\u001b[39;00m \u001b[38;5;167;01mNotImplementedError\u001b[39;00m(\n\u001b[1;32m   1541\u001b[0m             \u001b[38;5;124m\"\u001b[39m\u001b[38;5;124miLocation based boolean \u001b[39m\u001b[38;5;124m\"\u001b[39m\n\u001b[1;32m   1542\u001b[0m             \u001b[38;5;124m\"\u001b[39m\u001b[38;5;124mindexing on an integer type \u001b[39m\u001b[38;5;124m\"\u001b[39m\n\u001b[1;32m   1543\u001b[0m             \u001b[38;5;124m\"\u001b[39m\u001b[38;5;124mis not available\u001b[39m\u001b[38;5;124m\"\u001b[39m\n\u001b[1;32m   1544\u001b[0m         )\n\u001b[1;32m   1545\u001b[0m     \u001b[38;5;28;01mraise\u001b[39;00m \u001b[38;5;167;01mValueError\u001b[39;00m(\n\u001b[1;32m   1546\u001b[0m         \u001b[38;5;124m\"\u001b[39m\u001b[38;5;124miLocation based boolean indexing cannot use \u001b[39m\u001b[38;5;124m\"\u001b[39m\n\u001b[1;32m   1547\u001b[0m         \u001b[38;5;124m\"\u001b[39m\u001b[38;5;124man indexable as a mask\u001b[39m\u001b[38;5;124m\"\u001b[39m\n\u001b[1;32m   1548\u001b[0m     )\n\u001b[1;32m   1549\u001b[0m \u001b[38;5;28;01mreturn\u001b[39;00m\n",
      "\u001b[0;31mNotImplementedError\u001b[0m: iLocation based boolean indexing on an integer type is not available"
     ]
    }
   ],
   "source": [
    "teams.iloc[teams.name=='Green Bay']"
   ]
  },
  {
   "cell_type": "code",
   "execution_count": 3,
   "metadata": {},
   "outputs": [],
   "source": [
    "with open(\"info/2024_qualifiers.yml\", \"r\") as f:\n",
    "    tournament_qualifiers_2023 = yaml.safe_load(f)"
   ]
  },
  {
   "cell_type": "code",
   "execution_count": 4,
   "metadata": {},
   "outputs": [],
   "source": [
    "teams['joiner'] = teams.name.apply(lambda x:unidecode(x).lower())"
   ]
  },
  {
   "cell_type": "code",
   "execution_count": 6,
   "metadata": {},
   "outputs": [
    {
     "name": "stdout",
     "output_type": "stream",
     "text": [
      "missing: Appalachian St.\n",
      "missing: Mississippi St.\n",
      "missing: Indiana St.\n",
      "missing: Morehead St.\n",
      "missing: So. Dakota St.\n",
      "missing: Boise St.\n",
      "missing: Colorado St.\n",
      "missing: Sam Houston St.\n"
     ]
    }
   ],
   "source": [
    "for t in tournament_qualifiers_2023:\n",
    "    t2 = unidecode(t).lower().replace('e.','east').replace('so.','south')\n",
    "    foo = teams.loc[teams.joiner == t2]\n",
    "    if len(foo) == 0:\n",
    "        print(f'missing: {t}')\n",
    "    elif (foo.mascot.values[0] == None) or (foo.color.values[0] == '#FFFFFF') or (foo.logos.values[0] == None):\n",
    "        print(f'incomplete: {t}')"
   ]
  },
  {
   "cell_type": "code",
   "execution_count": 88,
   "metadata": {},
   "outputs": [
    {
     "data": {
      "text/html": [
       "<div>\n",
       "<style scoped>\n",
       "    .dataframe tbody tr th:only-of-type {\n",
       "        vertical-align: middle;\n",
       "    }\n",
       "\n",
       "    .dataframe tbody tr th {\n",
       "        vertical-align: top;\n",
       "    }\n",
       "\n",
       "    .dataframe thead th {\n",
       "        text-align: right;\n",
       "    }\n",
       "</style>\n",
       "<table border=\"1\" class=\"dataframe\">\n",
       "  <thead>\n",
       "    <tr style=\"text-align: right;\">\n",
       "      <th></th>\n",
       "      <th>name</th>\n",
       "      <th>abrev</th>\n",
       "      <th>alt_color</th>\n",
       "      <th>color</th>\n",
       "      <th>division</th>\n",
       "      <th>id</th>\n",
       "      <th>logos</th>\n",
       "      <th>long_name</th>\n",
       "      <th>mascot</th>\n",
       "      <th>team_id</th>\n",
       "      <th>joiner</th>\n",
       "    </tr>\n",
       "  </thead>\n",
       "  <tbody>\n",
       "    <tr>\n",
       "      <th>1521</th>\n",
       "      <td>TCU</td>\n",
       "      <td>TCU</td>\n",
       "      <td>#f1f2f3</td>\n",
       "      <td>#3C377D</td>\n",
       "      <td>fbs</td>\n",
       "      <td>2628.0</td>\n",
       "      <td>http://a.espncdn.com/i/teamlogos/ncaa/500/2628...</td>\n",
       "      <td>None</td>\n",
       "      <td>Horned Frogs</td>\n",
       "      <td>NaN</td>\n",
       "      <td>tcu</td>\n",
       "    </tr>\n",
       "  </tbody>\n",
       "</table>\n",
       "</div>"
      ],
      "text/plain": [
       "     name abrev alt_color    color division      id  \\\n",
       "1521  TCU   TCU   #f1f2f3  #3C377D      fbs  2628.0   \n",
       "\n",
       "                                                  logos long_name  \\\n",
       "1521  http://a.espncdn.com/i/teamlogos/ncaa/500/2628...      None   \n",
       "\n",
       "            mascot team_id joiner  \n",
       "1521  Horned Frogs     NaN    tcu  "
      ]
     },
     "execution_count": 88,
     "metadata": {},
     "output_type": "execute_result"
    }
   ],
   "source": [
    "teams.loc[teams.name.apply(lambda x:x[0:3]) == \"TCU\"]\n",
    "# teams.loc[teams.name == 'Pitt']"
   ]
  },
  {
   "cell_type": "code",
   "execution_count": null,
   "metadata": {},
   "outputs": [],
   "source": []
  },
  {
   "cell_type": "code",
   "execution_count": 13,
   "metadata": {},
   "outputs": [],
   "source": [
    "def cbb_cfb_exceptions(df):\n",
    "    \"\"\"\n",
    "    there are some that dont match up from one source to the other, findd and try to fix\n",
    "    \"\"\"\n",
    "    changes = {'Miami (FL)':'Miami'}\n",
    "\n",
    "    df = df.replace({\"team1\": changes})\n",
    "    df = df.replace({\"team2\": changes})\n",
    "    return df\n"
   ]
  },
  {
   "cell_type": "code",
   "execution_count": 16,
   "metadata": {},
   "outputs": [],
   "source": [
    "# testing parenthesis in PIL\n",
    "import PIL\n",
    "from PIL import Image, ImageFont, ImageDraw\n",
    "\n",
    "im1=Image.open('art/cover3.jpeg')\n",
    "\n",
    "# Drawing the text on the picture\n",
    "font = ImageFont.truetype('fonts/Freshman.ttf', 100)\n",
    "draw = ImageDraw.Draw(im1)\n",
    "draw.text((50, 200), 'test(1)', (255,0,255), font=font)\n",
    "\n",
    "# Save the image with a new name\n",
    "im1.show()"
   ]
  },
  {
   "cell_type": "code",
   "execution_count": 2,
   "metadata": {},
   "outputs": [],
   "source": [
    "bb = hf.get_day_bball_games(date_=pd.to_datetime('2023-04-01'))"
   ]
  },
  {
   "cell_type": "code",
   "execution_count": 3,
   "metadata": {},
   "outputs": [
    {
     "data": {
      "text/html": [
       "<div>\n",
       "<style scoped>\n",
       "    .dataframe tbody tr th:only-of-type {\n",
       "        vertical-align: middle;\n",
       "    }\n",
       "\n",
       "    .dataframe tbody tr th {\n",
       "        vertical-align: top;\n",
       "    }\n",
       "\n",
       "    .dataframe thead th {\n",
       "        text-align: right;\n",
       "    }\n",
       "</style>\n",
       "<table border=\"1\" class=\"dataframe\">\n",
       "  <thead>\n",
       "    <tr style=\"text-align: right;\">\n",
       "      <th></th>\n",
       "      <th>date_</th>\n",
       "      <th>team1</th>\n",
       "      <th>team1Rank</th>\n",
       "      <th>team1Score</th>\n",
       "      <th>team2</th>\n",
       "      <th>team2Rank</th>\n",
       "      <th>team2Score</th>\n",
       "      <th>Desc</th>\n",
       "    </tr>\n",
       "  </thead>\n",
       "  <tbody>\n",
       "    <tr>\n",
       "      <th>0</th>\n",
       "      <td>2023-04-01</td>\n",
       "      <td>UConn</td>\n",
       "      <td>(4)</td>\n",
       "      <td>72</td>\n",
       "      <td>Miami (FL)</td>\n",
       "      <td>(5)</td>\n",
       "      <td>59</td>\n",
       "      <td>NCAA Men's Tournament, National - National Sem...</td>\n",
       "    </tr>\n",
       "    <tr>\n",
       "      <th>1</th>\n",
       "      <td>2023-04-01</td>\n",
       "      <td>San Diego State</td>\n",
       "      <td>(5)</td>\n",
       "      <td>72</td>\n",
       "      <td>Florida Atlantic</td>\n",
       "      <td>(9)</td>\n",
       "      <td>71</td>\n",
       "      <td>NCAA Men's Tournament, National - National Sem...</td>\n",
       "    </tr>\n",
       "  </tbody>\n",
       "</table>\n",
       "</div>"
      ],
      "text/plain": [
       "       date_            team1 team1Rank  team1Score             team2  \\\n",
       "0 2023-04-01            UConn       (4)          72        Miami (FL)   \n",
       "1 2023-04-01  San Diego State       (5)          72  Florida Atlantic   \n",
       "\n",
       "  team2Rank  team2Score                                               Desc  \n",
       "0       (5)          59  NCAA Men's Tournament, National - National Sem...  \n",
       "1       (9)          71  NCAA Men's Tournament, National - National Sem...  "
      ]
     },
     "execution_count": 3,
     "metadata": {},
     "output_type": "execute_result"
    }
   ],
   "source": [
    "bb"
   ]
  },
  {
   "cell_type": "code",
   "execution_count": 14,
   "metadata": {},
   "outputs": [
    {
     "data": {
      "text/html": [
       "<div>\n",
       "<style scoped>\n",
       "    .dataframe tbody tr th:only-of-type {\n",
       "        vertical-align: middle;\n",
       "    }\n",
       "\n",
       "    .dataframe tbody tr th {\n",
       "        vertical-align: top;\n",
       "    }\n",
       "\n",
       "    .dataframe thead th {\n",
       "        text-align: right;\n",
       "    }\n",
       "</style>\n",
       "<table border=\"1\" class=\"dataframe\">\n",
       "  <thead>\n",
       "    <tr style=\"text-align: right;\">\n",
       "      <th></th>\n",
       "      <th>date_</th>\n",
       "      <th>team1</th>\n",
       "      <th>team1Rank</th>\n",
       "      <th>team1Score</th>\n",
       "      <th>team2</th>\n",
       "      <th>team2Rank</th>\n",
       "      <th>team2Score</th>\n",
       "      <th>Desc</th>\n",
       "    </tr>\n",
       "  </thead>\n",
       "  <tbody>\n",
       "    <tr>\n",
       "      <th>0</th>\n",
       "      <td>2023-04-01</td>\n",
       "      <td>UConn</td>\n",
       "      <td>(4)</td>\n",
       "      <td>72</td>\n",
       "      <td>Miami</td>\n",
       "      <td>(5)</td>\n",
       "      <td>59</td>\n",
       "      <td>NCAA Men's Tournament, National - National Sem...</td>\n",
       "    </tr>\n",
       "    <tr>\n",
       "      <th>1</th>\n",
       "      <td>2023-04-01</td>\n",
       "      <td>San Diego State</td>\n",
       "      <td>(5)</td>\n",
       "      <td>72</td>\n",
       "      <td>Florida Atlantic</td>\n",
       "      <td>(9)</td>\n",
       "      <td>71</td>\n",
       "      <td>NCAA Men's Tournament, National - National Sem...</td>\n",
       "    </tr>\n",
       "  </tbody>\n",
       "</table>\n",
       "</div>"
      ],
      "text/plain": [
       "       date_            team1 team1Rank  team1Score             team2  \\\n",
       "0 2023-04-01            UConn       (4)          72             Miami   \n",
       "1 2023-04-01  San Diego State       (5)          72  Florida Atlantic   \n",
       "\n",
       "  team2Rank  team2Score                                               Desc  \n",
       "0       (5)          59  NCAA Men's Tournament, National - National Sem...  \n",
       "1       (9)          71  NCAA Men's Tournament, National - National Sem...  "
      ]
     },
     "execution_count": 14,
     "metadata": {},
     "output_type": "execute_result"
    }
   ],
   "source": [
    "cbb_cfb_exceptions(bb)"
   ]
  },
  {
   "cell_type": "code",
   "execution_count": 32,
   "metadata": {},
   "outputs": [],
   "source": [
    "big_body = \"\"\"\n",
    "{\n",
    "  product(id:\"gid://shopify/Product/prod_id\") {\n",
    "    title\n",
    "    media(first:5) {\n",
    "      edges {\n",
    "        node {\n",
    "          ... fieldsForMediaTypes\n",
    "        }\n",
    "      }\n",
    "    }\n",
    "  }\n",
    "}\n",
    "\n",
    "fragment fieldsForMediaTypes on Media {\n",
    "  alt\n",
    "  mediaContentType\n",
    "  preview {\n",
    "    image {\n",
    "      id\n",
    "      altText\n",
    "      url\n",
    "    }\n",
    "  }\n",
    "  status\n",
    "  ... on Video {\n",
    "    id\n",
    "    sources {\n",
    "      format\n",
    "      height\n",
    "      mimeType\n",
    "      url\n",
    "      width\n",
    "    }\n",
    "    originalSource {\n",
    "      format\n",
    "      height\n",
    "      mimeType\n",
    "      url\n",
    "      width\n",
    "    }\n",
    "  }\n",
    "  ... on ExternalVideo {\n",
    "    id\n",
    "    host\n",
    "    embeddedUrl\n",
    "  }\n",
    "  ... on Model3d {\n",
    "    sources {\n",
    "      format\n",
    "      mimeType\n",
    "      url\n",
    "    }\n",
    "    originalSource {\n",
    "      format\n",
    "      mimeType\n",
    "      url\n",
    "    }\n",
    "  }\n",
    "  ... on MediaImage {\n",
    "    id\n",
    "    image {\n",
    "      altText\n",
    "      url\n",
    "    }\n",
    "  }\n",
    "}\n",
    "\"\"\"\n",
    "\n",
    "big_body2 = \"\"\"\n",
    "{\n",
    "  product(id:\"gid://shopify/Product/prod_id\") {\n",
    "    title\n",
    "    media(first:10) {\n",
    "      edges {\n",
    "        node {\n",
    "        }\n",
    "      }\n",
    "    }\n",
    "  }\n",
    "}\n",
    "\"\"\"\n",
    "mid_body=\"\"\"{\n",
    "\"query\": \"mutation productReorderMedia($id: ID!, $moves: [MoveInput!]!) { productReorderMedia(id: $id, moves: $moves) { job { id } } }\",\n",
    " \"variables\": {\n",
    "    \"id\": \"gid://shopify/Product/prod_id\",\n",
    "    \"moves\": [\n",
    "      {\n",
    "        \"id\": \"image0\",\n",
    "        \"newPosition\": \"2\"\n",
    "      },\n",
    "      {\n",
    "        \"id\": \"image2\",\n",
    "        \"newPosition\": \"0\"\n",
    "      }\n",
    "    ]\n",
    "  }\n",
    "}\"\"\"\n"
   ]
  },
  {
   "cell_type": "code",
   "execution_count": 4,
   "metadata": {},
   "outputs": [],
   "source": [
    "headers_shopify = {\n",
    "            \"X-Shopify-Access-Token\": shop_config[\"shopify_access\"],\n",
    "            \"Content-Type\": \"application/json\",\n",
    "        }"
   ]
  },
  {
   "cell_type": "code",
   "execution_count": 29,
   "metadata": {},
   "outputs": [],
   "source": [
    "def recursive_get_prods(since_id=0,all_products=[]):\n",
    "    url = f\"https://{shop_config['cbb']['shop_name']}.myshopify.com/admin/api/2023-01/products.json?since_id={since_id}\"\n",
    "    response = requests.get(url=url,headers = headers_shopify)\n",
    "    products = json.loads(response.text)['products']\n",
    "    print(response.status_code)\n",
    "    if len(products)==0:\n",
    "        return all_products\n",
    "    else:\n",
    "        # new products were found, there could be more in the next iteration\n",
    "        all_products.extend(products)\n",
    "        return recursive_get_prods(since_id=products[-1][\"id\"],all_products=all_products)"
   ]
  },
  {
   "cell_type": "code",
   "execution_count": 72,
   "metadata": {},
   "outputs": [
    {
     "name": "stdout",
     "output_type": "stream",
     "text": [
      "200\n",
      "200\n"
     ]
    }
   ],
   "source": [
    "all_prods = recursive_get_prods(since_id=0,all_products=[])"
   ]
  },
  {
   "cell_type": "code",
   "execution_count": 100,
   "metadata": {},
   "outputs": [
    {
     "data": {
      "text/plain": [
       "-828.2219444444445"
      ]
     },
     "execution_count": 100,
     "metadata": {},
     "output_type": "execute_result"
    }
   ],
   "source": [
    "dif = (pd.to_datetime('2023-12-25')- dt.datetime.now())\n",
    "seconds_in_day = 24 * 60 * 60\n",
    "dif_s = (int(dif.days) * int(seconds_in_day))+ dif.seconds\n",
    "hours = dif_s/(60*60)\n",
    "hours"
   ]
  },
  {
   "cell_type": "code",
   "execution_count": 74,
   "metadata": {},
   "outputs": [
    {
     "data": {
      "text/plain": [
       "{'id': 8350548558045,\n",
       " 'title': 'Tester',\n",
       " 'body_html': 'The unisex heavy cotton tee is the basic staple of any wardrobe. It is the foundation upon which casual fashion grows. All it needs is a personalized design to elevate things to profitability. The specially spun fibers provide a smooth surface for premium printing vividity and sharpness. No side seams mean there are no itchy interruptions under the arms. The shoulders have tape for improved durability.<br><p>.: Made with medium fabric (5.3 oz/yd² (180 g/m²)) consisting of 100% cotton for year-round comfort that is sustainable and highly durable. <br>.: The classic fit of this shirt ensures a comfy, relaxed wear while the crew neckline adds that neat, timeless look that can blend into any occasion, casual or semi-formal.<br>.: The tear-away label means a scratch-free experience with no irritation or discomfort whatsoever.<br>.: Made using 100% US cotton that is ethically grown and harvested. Gildan is also a proud member of the US Cotton Trust Protocol ensuring ethical and sustainable means of production. This blank tee is certified by Oeko-Tex for safety and quality assurance.</p>',\n",
       " 'vendor': 'Printify',\n",
       " 'product_type': 'T-Shirt',\n",
       " 'created_at': '2024-01-28T12:05:42-08:00',\n",
       " 'handle': 'tester',\n",
       " 'updated_at': '2024-01-28T12:05:46-08:00',\n",
       " 'published_at': '2024-01-28T12:05:45-08:00',\n",
       " 'template_suffix': None,\n",
       " 'published_scope': 'web',\n",
       " 'tags': \"Crew neck, DTG, Men's Clothing, Neck Labels, Regular fit, T-shirts, Unisex, Women's Clothing\",\n",
       " 'status': 'active',\n",
       " 'admin_graphql_api_id': 'gid://shopify/Product/8350548558045',\n",
       " 'variants': [{'id': 44510879613149,\n",
       "   'product_id': 8350548558045,\n",
       "   'title': 'White / S',\n",
       "   'price': '14.45',\n",
       "   'sku': '22251123775625709629',\n",
       "   'position': 1,\n",
       "   'inventory_policy': 'deny',\n",
       "   'compare_at_price': None,\n",
       "   'fulfillment_service': 'printify',\n",
       "   'inventory_management': None,\n",
       "   'option1': 'White',\n",
       "   'option2': 'S',\n",
       "   'option3': None,\n",
       "   'created_at': '2024-01-28T12:05:42-08:00',\n",
       "   'updated_at': '2024-01-28T12:05:43-08:00',\n",
       "   'taxable': True,\n",
       "   'barcode': None,\n",
       "   'grams': 100,\n",
       "   'image_id': None,\n",
       "   'weight': 0.2205,\n",
       "   'weight_unit': 'lb',\n",
       "   'inventory_item_id': 46607639642333,\n",
       "   'inventory_quantity': 0,\n",
       "   'old_inventory_quantity': 0,\n",
       "   'requires_shipping': True,\n",
       "   'admin_graphql_api_id': 'gid://shopify/ProductVariant/44510879613149'},\n",
       "  {'id': 44510879645917,\n",
       "   'product_id': 8350548558045,\n",
       "   'title': 'White / M',\n",
       "   'price': '14.45',\n",
       "   'sku': '91006738003748097368',\n",
       "   'position': 2,\n",
       "   'inventory_policy': 'deny',\n",
       "   'compare_at_price': None,\n",
       "   'fulfillment_service': 'printify',\n",
       "   'inventory_management': None,\n",
       "   'option1': 'White',\n",
       "   'option2': 'M',\n",
       "   'option3': None,\n",
       "   'created_at': '2024-01-28T12:05:42-08:00',\n",
       "   'updated_at': '2024-01-28T12:05:43-08:00',\n",
       "   'taxable': True,\n",
       "   'barcode': None,\n",
       "   'grams': 100,\n",
       "   'image_id': None,\n",
       "   'weight': 0.2205,\n",
       "   'weight_unit': 'lb',\n",
       "   'inventory_item_id': 46607639675101,\n",
       "   'inventory_quantity': 0,\n",
       "   'old_inventory_quantity': 0,\n",
       "   'requires_shipping': True,\n",
       "   'admin_graphql_api_id': 'gid://shopify/ProductVariant/44510879645917'},\n",
       "  {'id': 44510879678685,\n",
       "   'product_id': 8350548558045,\n",
       "   'title': 'White / L',\n",
       "   'price': '14.45',\n",
       "   'sku': '20588278471953886333',\n",
       "   'position': 3,\n",
       "   'inventory_policy': 'deny',\n",
       "   'compare_at_price': None,\n",
       "   'fulfillment_service': 'printify',\n",
       "   'inventory_management': None,\n",
       "   'option1': 'White',\n",
       "   'option2': 'L',\n",
       "   'option3': None,\n",
       "   'created_at': '2024-01-28T12:05:43-08:00',\n",
       "   'updated_at': '2024-01-28T12:05:43-08:00',\n",
       "   'taxable': True,\n",
       "   'barcode': None,\n",
       "   'grams': 100,\n",
       "   'image_id': None,\n",
       "   'weight': 0.2205,\n",
       "   'weight_unit': 'lb',\n",
       "   'inventory_item_id': 46607639707869,\n",
       "   'inventory_quantity': 0,\n",
       "   'old_inventory_quantity': 0,\n",
       "   'requires_shipping': True,\n",
       "   'admin_graphql_api_id': 'gid://shopify/ProductVariant/44510879678685'},\n",
       "  {'id': 44510879711453,\n",
       "   'product_id': 8350548558045,\n",
       "   'title': 'White / XL',\n",
       "   'price': '14.45',\n",
       "   'sku': '30414081094548547688',\n",
       "   'position': 4,\n",
       "   'inventory_policy': 'deny',\n",
       "   'compare_at_price': None,\n",
       "   'fulfillment_service': 'printify',\n",
       "   'inventory_management': None,\n",
       "   'option1': 'White',\n",
       "   'option2': 'XL',\n",
       "   'option3': None,\n",
       "   'created_at': '2024-01-28T12:05:43-08:00',\n",
       "   'updated_at': '2024-01-28T12:05:43-08:00',\n",
       "   'taxable': True,\n",
       "   'barcode': None,\n",
       "   'grams': 100,\n",
       "   'image_id': None,\n",
       "   'weight': 0.2205,\n",
       "   'weight_unit': 'lb',\n",
       "   'inventory_item_id': 46607639740637,\n",
       "   'inventory_quantity': 0,\n",
       "   'old_inventory_quantity': 0,\n",
       "   'requires_shipping': True,\n",
       "   'admin_graphql_api_id': 'gid://shopify/ProductVariant/44510879711453'},\n",
       "  {'id': 44510879744221,\n",
       "   'product_id': 8350548558045,\n",
       "   'title': 'White / 2XL',\n",
       "   'price': '17.12',\n",
       "   'sku': '11032218245626634249',\n",
       "   'position': 5,\n",
       "   'inventory_policy': 'deny',\n",
       "   'compare_at_price': None,\n",
       "   'fulfillment_service': 'printify',\n",
       "   'inventory_management': None,\n",
       "   'option1': 'White',\n",
       "   'option2': '2XL',\n",
       "   'option3': None,\n",
       "   'created_at': '2024-01-28T12:05:43-08:00',\n",
       "   'updated_at': '2024-01-28T12:05:43-08:00',\n",
       "   'taxable': True,\n",
       "   'barcode': None,\n",
       "   'grams': 100,\n",
       "   'image_id': None,\n",
       "   'weight': 0.2205,\n",
       "   'weight_unit': 'lb',\n",
       "   'inventory_item_id': 46607639773405,\n",
       "   'inventory_quantity': 0,\n",
       "   'old_inventory_quantity': 0,\n",
       "   'requires_shipping': True,\n",
       "   'admin_graphql_api_id': 'gid://shopify/ProductVariant/44510879744221'},\n",
       "  {'id': 44510879776989,\n",
       "   'product_id': 8350548558045,\n",
       "   'title': 'White / 3XL',\n",
       "   'price': '18.85',\n",
       "   'sku': '69117880015951312293',\n",
       "   'position': 6,\n",
       "   'inventory_policy': 'deny',\n",
       "   'compare_at_price': None,\n",
       "   'fulfillment_service': 'printify',\n",
       "   'inventory_management': None,\n",
       "   'option1': 'White',\n",
       "   'option2': '3XL',\n",
       "   'option3': None,\n",
       "   'created_at': '2024-01-28T12:05:43-08:00',\n",
       "   'updated_at': '2024-01-28T12:05:43-08:00',\n",
       "   'taxable': True,\n",
       "   'barcode': None,\n",
       "   'grams': 100,\n",
       "   'image_id': None,\n",
       "   'weight': 0.2205,\n",
       "   'weight_unit': 'lb',\n",
       "   'inventory_item_id': 46607639806173,\n",
       "   'inventory_quantity': 0,\n",
       "   'old_inventory_quantity': 0,\n",
       "   'requires_shipping': True,\n",
       "   'admin_graphql_api_id': 'gid://shopify/ProductVariant/44510879776989'},\n",
       "  {'id': 44510879809757,\n",
       "   'product_id': 8350548558045,\n",
       "   'title': 'White / 4XL',\n",
       "   'price': '20.00',\n",
       "   'sku': '83880584548612444181',\n",
       "   'position': 7,\n",
       "   'inventory_policy': 'deny',\n",
       "   'compare_at_price': None,\n",
       "   'fulfillment_service': 'printify',\n",
       "   'inventory_management': None,\n",
       "   'option1': 'White',\n",
       "   'option2': '4XL',\n",
       "   'option3': None,\n",
       "   'created_at': '2024-01-28T12:05:43-08:00',\n",
       "   'updated_at': '2024-01-28T12:05:43-08:00',\n",
       "   'taxable': True,\n",
       "   'barcode': None,\n",
       "   'grams': 100,\n",
       "   'image_id': None,\n",
       "   'weight': 0.2205,\n",
       "   'weight_unit': 'lb',\n",
       "   'inventory_item_id': 46607639838941,\n",
       "   'inventory_quantity': 0,\n",
       "   'old_inventory_quantity': 0,\n",
       "   'requires_shipping': True,\n",
       "   'admin_graphql_api_id': 'gid://shopify/ProductVariant/44510879809757'},\n",
       "  {'id': 44510879842525,\n",
       "   'product_id': 8350548558045,\n",
       "   'title': 'White / 5XL',\n",
       "   'price': '20.00',\n",
       "   'sku': '20652160339776448717',\n",
       "   'position': 8,\n",
       "   'inventory_policy': 'deny',\n",
       "   'compare_at_price': None,\n",
       "   'fulfillment_service': 'printify',\n",
       "   'inventory_management': None,\n",
       "   'option1': 'White',\n",
       "   'option2': '5XL',\n",
       "   'option3': None,\n",
       "   'created_at': '2024-01-28T12:05:43-08:00',\n",
       "   'updated_at': '2024-01-28T12:05:43-08:00',\n",
       "   'taxable': True,\n",
       "   'barcode': None,\n",
       "   'grams': 100,\n",
       "   'image_id': None,\n",
       "   'weight': 0.2205,\n",
       "   'weight_unit': 'lb',\n",
       "   'inventory_item_id': 46607639871709,\n",
       "   'inventory_quantity': 0,\n",
       "   'old_inventory_quantity': 0,\n",
       "   'requires_shipping': True,\n",
       "   'admin_graphql_api_id': 'gid://shopify/ProductVariant/44510879842525'}],\n",
       " 'options': [{'id': 10570936975581,\n",
       "   'product_id': 8350548558045,\n",
       "   'name': 'Color',\n",
       "   'position': 1,\n",
       "   'values': ['White']},\n",
       "  {'id': 10570937008349,\n",
       "   'product_id': 8350548558045,\n",
       "   'name': 'Size',\n",
       "   'position': 2,\n",
       "   'values': ['S', 'M', 'L', 'XL', '2XL', '3XL', '4XL', '5XL']}],\n",
       " 'images': [],\n",
       " 'image': None}"
      ]
     },
     "execution_count": 74,
     "metadata": {},
     "output_type": "execute_result"
    }
   ],
   "source": [
    "all_prods[-1]"
   ]
  },
  {
   "cell_type": "code",
   "execution_count": 71,
   "metadata": {},
   "outputs": [
    {
     "data": {
      "text/plain": [
       "datetime.date(2024, 1, 27)"
      ]
     },
     "execution_count": 71,
     "metadata": {},
     "output_type": "execute_result"
    }
   ],
   "source": [
    "pd.to_datetime(all_prods[0]['published_at']).date()"
   ]
  },
  {
   "cell_type": "code",
   "execution_count": 70,
   "metadata": {},
   "outputs": [
    {
     "data": {
      "text/plain": [
       "datetime.date(2024, 1, 28)"
      ]
     },
     "execution_count": 70,
     "metadata": {},
     "output_type": "execute_result"
    }
   ],
   "source": [
    "pd.to_datetime(all_prods[0]['updated_at']).date()"
   ]
  },
  {
   "cell_type": "code",
   "execution_count": 33,
   "metadata": {},
   "outputs": [
    {
     "name": "stdout",
     "output_type": "stream",
     "text": [
      "{\"data\":{\"productReorderMedia\":{\"job\":{\"id\":\"gid://shopify/Job/12072c7d-6726-42d8-aee8-1e437d7afba8\"}}},\"extensions\":{\"cost\":{\"requestedQueryCost\":10,\"actualQueryCost\":10,\"throttleStatus\":{\"maximumAvailable\":2000.0,\"currentlyAvailable\":1990,\"restoreRate\":100.0}}}}\n",
      "{\"data\":{\"productReorderMedia\":{\"job\":{\"id\":\"gid://shopify/Job/db922f82-fa2e-4df9-bf75-a902ab03e02c\"}}},\"extensions\":{\"cost\":{\"requestedQueryCost\":10,\"actualQueryCost\":10,\"throttleStatus\":{\"maximumAvailable\":2000.0,\"currentlyAvailable\":1990,\"restoreRate\":100.0}}}}\n",
      "{\"data\":{\"productReorderMedia\":{\"job\":{\"id\":\"gid://shopify/Job/b8169912-e01d-46e5-9fc8-2278201cabad\"}}},\"extensions\":{\"cost\":{\"requestedQueryCost\":10,\"actualQueryCost\":10,\"throttleStatus\":{\"maximumAvailable\":2000.0,\"currentlyAvailable\":1990,\"restoreRate\":100.0}}}}\n",
      "{\"data\":{\"productReorderMedia\":{\"job\":{\"id\":\"gid://shopify/Job/053c3dee-fe07-4488-b916-b87f617824b6\"}}},\"extensions\":{\"cost\":{\"requestedQueryCost\":10,\"actualQueryCost\":10,\"throttleStatus\":{\"maximumAvailable\":2000.0,\"currentlyAvailable\":1990,\"restoreRate\":100.0}}}}\n",
      "{\"data\":{\"productReorderMedia\":{\"job\":{\"id\":\"gid://shopify/Job/be868094-832d-414d-9950-6b877b6328fd\"}}},\"extensions\":{\"cost\":{\"requestedQueryCost\":10,\"actualQueryCost\":10,\"throttleStatus\":{\"maximumAvailable\":2000.0,\"currentlyAvailable\":1990,\"restoreRate\":100.0}}}}\n",
      "{\"data\":{\"productReorderMedia\":{\"job\":{\"id\":\"gid://shopify/Job/479a7371-1c9a-4db6-a142-8e8376943ed9\"}}},\"extensions\":{\"cost\":{\"requestedQueryCost\":10,\"actualQueryCost\":10,\"throttleStatus\":{\"maximumAvailable\":2000.0,\"currentlyAvailable\":1990,\"restoreRate\":100.0}}}}\n",
      "{\"data\":{\"productReorderMedia\":{\"job\":{\"id\":\"gid://shopify/Job/c7793ca9-c69a-4feb-8639-b90d6027023b\"}}},\"extensions\":{\"cost\":{\"requestedQueryCost\":10,\"actualQueryCost\":10,\"throttleStatus\":{\"maximumAvailable\":2000.0,\"currentlyAvailable\":1990,\"restoreRate\":100.0}}}}\n"
     ]
    }
   ],
   "source": [
    "for prod in all_prods:\n",
    "    prod_id = prod['id']\n",
    "    prod_gql = prod['admin_graphql_api_id']\n",
    "    body = big_body.replace('prod_id',str(prod_id))\n",
    "    # now that I have the images I can reorder them\n",
    "    url = f\"https://{shop_config['cbb']['shop_name']}.myshopify.com/admin/api/2024-01/graphql.json\"\n",
    "    # from this response i can get my images\n",
    "    response = requests.post(url=url,headers = headers_shopify, json = {\"query\":body})\n",
    "\n",
    "    images = json.loads(response.text)['data']['product']['media']['edges']\n",
    "    image0 = images[0]['node']['id']\n",
    "    image2 = images[2]['node']['id']\n",
    "\n",
    "    # image0 = prod['images'][0]['admin_graphql_api_id']\n",
    "    # image2 = prod['images'][2]['admin_graphql_api_id']\n",
    "\n",
    "    query = \"\"\"\n",
    "    mutation productReorderMedia($id: ID!,\n",
    "    $moves: [MoveInput!]!) {\n",
    "      productReorderMedia(id: $id, moves:\n",
    "      $moves) {\n",
    "        job {\n",
    "        id\n",
    "        }\n",
    "      }\n",
    "    }\"\"\"\n",
    "\n",
    "\n",
    "    # plug my images and id into this and it should update\n",
    "    variables = {\n",
    "        \"id\": f\"{prod_gql}\",\n",
    "        \"moves\": [\n",
    "            {\n",
    "            \"id\": f\"{image0}\",\n",
    "            \"newPosition\": \"2\"\n",
    "            },\n",
    "            {\n",
    "            \"id\": f\"{image2}\",\n",
    "            \"newPosition\": \"0\"\n",
    "            }\n",
    "        ]\n",
    "        }\n",
    "    response2 = requests.post(url=url, json={'query': query , 'variables': variables}, headers= headers_shopify)\n",
    "\n",
    "\n",
    "\n",
    "    if response2.status_code == 200:\n",
    "        print(response2.text)"
   ]
  },
  {
   "cell_type": "code",
   "execution_count": 63,
   "metadata": {},
   "outputs": [
    {
     "name": "stdout",
     "output_type": "stream",
     "text": [
      "{\"data\":{\"productReorderMedia\":{\"job\":{\"id\":\"gid://shopify/Job/fb232bf9-a9d2-4885-9074-d8e8064504d4\",\"done\":false},\"mediaUserErrors\":[]}},\"extensions\":{\"cost\":{\"requestedQueryCost\":10,\"actualQueryCost\":10,\"throttleStatus\":{\"maximumAvailable\":2000.0,\"currentlyAvailable\":1990,\"restoreRate\":100.0}}}}\n",
      "{\"data\":{\"productReorderMedia\":{\"job\":{\"id\":\"gid://shopify/Job/1c9d9ef7-9b58-4946-91ae-f9bf20bfa119\",\"done\":false},\"mediaUserErrors\":[]}},\"extensions\":{\"cost\":{\"requestedQueryCost\":10,\"actualQueryCost\":10,\"throttleStatus\":{\"maximumAvailable\":2000.0,\"currentlyAvailable\":1990,\"restoreRate\":100.0}}}}\n",
      "{\"data\":{\"productReorderMedia\":{\"job\":{\"id\":\"gid://shopify/Job/56c2df0a-6dd6-45cd-8f9d-de203eed7bc5\",\"done\":false},\"mediaUserErrors\":[]}},\"extensions\":{\"cost\":{\"requestedQueryCost\":10,\"actualQueryCost\":10,\"throttleStatus\":{\"maximumAvailable\":2000.0,\"currentlyAvailable\":1990,\"restoreRate\":100.0}}}}\n",
      "{\"data\":{\"productReorderMedia\":{\"job\":{\"id\":\"gid://shopify/Job/a45a4e4c-70bf-4c53-a0c4-8cdb6d519156\",\"done\":false},\"mediaUserErrors\":[]}},\"extensions\":{\"cost\":{\"requestedQueryCost\":10,\"actualQueryCost\":10,\"throttleStatus\":{\"maximumAvailable\":2000.0,\"currentlyAvailable\":1990,\"restoreRate\":100.0}}}}\n",
      "{\"data\":{\"productReorderMedia\":{\"job\":{\"id\":\"gid://shopify/Job/a0b68efd-094c-4331-857e-815274d84197\",\"done\":false},\"mediaUserErrors\":[]}},\"extensions\":{\"cost\":{\"requestedQueryCost\":10,\"actualQueryCost\":10,\"throttleStatus\":{\"maximumAvailable\":2000.0,\"currentlyAvailable\":1990,\"restoreRate\":100.0}}}}\n",
      "{\"data\":{\"productReorderMedia\":{\"job\":{\"id\":\"gid://shopify/Job/1bcde2d2-0629-4730-80ad-edbe3b849394\",\"done\":false},\"mediaUserErrors\":[]}},\"extensions\":{\"cost\":{\"requestedQueryCost\":10,\"actualQueryCost\":10,\"throttleStatus\":{\"maximumAvailable\":2000.0,\"currentlyAvailable\":1990,\"restoreRate\":100.0}}}}\n",
      "{\"data\":{\"productReorderMedia\":{\"job\":{\"id\":\"gid://shopify/Job/7343d46c-1715-4bea-8e26-952d097eae14\",\"done\":false},\"mediaUserErrors\":[]}},\"extensions\":{\"cost\":{\"requestedQueryCost\":10,\"actualQueryCost\":10,\"throttleStatus\":{\"maximumAvailable\":2000.0,\"currentlyAvailable\":1990,\"restoreRate\":100.0}}}}\n"
     ]
    }
   ],
   "source": [
    "for prod in all_prods:\n",
    "  prod_id = prod['id']\n",
    "  prod_gql = prod['admin_graphql_api_id']\n",
    "  body = big_body.replace('prod_id',str(prod_id))\n",
    "  # now that I have the images I can reorder them\n",
    "  url = f\"https://{shop_config['cbb']['shop_name']}.myshopify.com/admin/api/2024-01/graphql.json\"\n",
    "  # from this response i can get my images\n",
    "  response = requests.post(url=url,headers = headers_shopify, json = {\"query\":body})\n",
    "\n",
    "  images = json.loads(response.text)['data']['product']['media']['edges']\n",
    "  image0 = images[0]['node']['id']\n",
    "  image2 = images[2]['node']['id']\n",
    "\n",
    "  if image0 == image2:\n",
    "    print('images are same')\n",
    "  q=\"\"\"\n",
    "  mutation reorderProductMedia {\n",
    "    productReorderMedia(\n",
    "      id: \"gidp\",\n",
    "      moves: [\n",
    "      {\n",
    "        id: \"gid0\",\n",
    "        newPosition: \"2\"\n",
    "      },\n",
    "      {\n",
    "        id: \"gid2\",\n",
    "        newPosition: \"0\"\n",
    "      }\n",
    "    ]) {\n",
    "      job {\n",
    "        id\n",
    "        done\n",
    "      }\n",
    "      mediaUserErrors {\n",
    "        code\n",
    "        field\n",
    "        message\n",
    "      }\n",
    "    }\n",
    "  }\n",
    "  \"\"\".replace('gidp',prod_gql).replace('gid0',image0).replace('gid2',image2)\n",
    "\n",
    "  # print(q)\n",
    "  graphql_url =f\"https://{shop_config['cbb']['shop_name']}.myshopify.com/admin/api/2023-04/graphql.json\"\n",
    "\n",
    "  response = requests.post(graphql_url, headers=headers_shopify, json={'query': q})\n",
    "  print(response.text)\n",
    "\n"
   ]
  },
  {
   "cell_type": "code",
   "execution_count": 59,
   "metadata": {},
   "outputs": [],
   "source": [
    "check_q='''{\n",
    "\"query { job(id: \"gid://shopify/Job/87147bdd-eda8-4a1b-bd2c-63507e1ef074\") { id done } }\"\n",
    "}'''\n",
    "check_url = f\"https://{shop_config['cbb']['shop_name']}.myshopify.com/admin/api/2024-01/graphql.json\"\n",
    "check_response = requests.post(graphql_url, headers=headers_shopify, json={'query': check_q})"
   ]
  },
  {
   "cell_type": "code",
   "execution_count": 55,
   "metadata": {},
   "outputs": [
    {
     "data": {
      "text/plain": [
       "'{\"data\":{\"productReorderMedia\":{\"job\":{\"id\":\"gid://shopify/Job/78298459-6ec4-421a-a0c8-42c1fe5572e8\",\"done\":false},\"mediaUserErrors\":[]}},\"extensions\":{\"cost\":{\"requestedQueryCost\":10,\"actualQueryCost\":10,\"throttleStatus\":{\"maximumAvailable\":2000.0,\"currentlyAvailable\":1990,\"restoreRate\":100.0}}}}'"
      ]
     },
     "execution_count": 55,
     "metadata": {},
     "output_type": "execute_result"
    }
   ],
   "source": [
    "response.text"
   ]
  }
 ],
 "metadata": {
  "kernelspec": {
   "display_name": ".venv",
   "language": "python",
   "name": "python3"
  },
  "language_info": {
   "codemirror_mode": {
    "name": "ipython",
    "version": 3
   },
   "file_extension": ".py",
   "mimetype": "text/x-python",
   "name": "python",
   "nbconvert_exporter": "python",
   "pygments_lexer": "ipython3",
   "version": "3.10.4"
  }
 },
 "nbformat": 4,
 "nbformat_minor": 2
}
