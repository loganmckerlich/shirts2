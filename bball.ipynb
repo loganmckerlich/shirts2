{
 "cells": [
  {
   "cell_type": "code",
   "execution_count": 8,
   "metadata": {},
   "outputs": [],
   "source": [
    "from bs4 import BeautifulSoup\n",
    "import requests\n",
    "import datetime as dt\n",
    "from PIL import Image\n",
    "import helpers as hf\n",
    "import yaml\n",
    "from unidecode import unidecode\n",
    "import pandas as pd\n",
    "from PIL import Image, ImageOps, ImageDraw, ImageFont\n",
    "\n",
    "with open(\"design_config.yml\", \"r\") as f:\n",
    "    design_config = yaml.safe_load(f)\n",
    "\n",
    "design_config,shop_config = hf.get_config('rand')\n",
    "cfbd_loader = hf.cfbp_handler(design_config['cfbd_api'])"
   ]
  },
  {
   "cell_type": "code",
   "execution_count": 9,
   "metadata": {},
   "outputs": [],
   "source": [
    "dg = hf.get_day_bball_games(pd.to_datetime('2023-03-25'))\n",
    "team_info = cfbd_loader.get_team_info()\n",
    "game = dg.iloc[0]\n"
   ]
  },
  {
   "cell_type": "code",
   "execution_count": 10,
   "metadata": {},
   "outputs": [
    {
     "data": {
      "text/html": [
       "<div>\n",
       "<style scoped>\n",
       "    .dataframe tbody tr th:only-of-type {\n",
       "        vertical-align: middle;\n",
       "    }\n",
       "\n",
       "    .dataframe tbody tr th {\n",
       "        vertical-align: top;\n",
       "    }\n",
       "\n",
       "    .dataframe thead th {\n",
       "        text-align: right;\n",
       "    }\n",
       "</style>\n",
       "<table border=\"1\" class=\"dataframe\">\n",
       "  <thead>\n",
       "    <tr style=\"text-align: right;\">\n",
       "      <th></th>\n",
       "      <th>id</th>\n",
       "      <th>name</th>\n",
       "      <th>abrev</th>\n",
       "      <th>color</th>\n",
       "      <th>alt_color</th>\n",
       "      <th>mascot</th>\n",
       "      <th>logos</th>\n",
       "      <th>division</th>\n",
       "      <th>long_name</th>\n",
       "    </tr>\n",
       "  </thead>\n",
       "  <tbody>\n",
       "    <tr>\n",
       "      <th>1819</th>\n",
       "      <td>NaN</td>\n",
       "      <td>Gonzaga</td>\n",
       "      <td>GU</td>\n",
       "      <td>#041E42</td>\n",
       "      <td>None</td>\n",
       "      <td>Bulldogs</td>\n",
       "      <td>https://en.wikipedia.org/wiki/Gonzaga_Bulldogs...</td>\n",
       "      <td>None</td>\n",
       "      <td>None</td>\n",
       "    </tr>\n",
       "    <tr>\n",
       "      <th>1818</th>\n",
       "      <td>NaN</td>\n",
       "      <td>Uconn</td>\n",
       "      <td>UCONN</td>\n",
       "      <td>#000E2F</td>\n",
       "      <td>None</td>\n",
       "      <td>Huskies</td>\n",
       "      <td>https://1000logos.net/wp-content/uploads/2017/...</td>\n",
       "      <td>None</td>\n",
       "      <td>None</td>\n",
       "    </tr>\n",
       "  </tbody>\n",
       "</table>\n",
       "</div>"
      ],
      "text/plain": [
       "      id     name  abrev    color alt_color    mascot  \\\n",
       "1819 NaN  Gonzaga     GU  #041E42      None  Bulldogs   \n",
       "1818 NaN    Uconn  UCONN  #000E2F      None   Huskies   \n",
       "\n",
       "                                                  logos division long_name  \n",
       "1819  https://en.wikipedia.org/wiki/Gonzaga_Bulldogs...     None      None  \n",
       "1818  https://1000logos.net/wp-content/uploads/2017/...     None      None  "
      ]
     },
     "execution_count": 10,
     "metadata": {},
     "output_type": "execute_result"
    }
   ],
   "source": [
    "team_info.loc[team_info.id.isna()]"
   ]
  },
  {
   "cell_type": "code",
   "execution_count": 11,
   "metadata": {},
   "outputs": [],
   "source": [
    "game_parsed = hf.parse_cbb_game(game,team_info)"
   ]
  },
  {
   "cell_type": "code",
   "execution_count": 12,
   "metadata": {},
   "outputs": [],
   "source": [
    "full_cf = hf.combine_configs(game_parsed,design_config)\n",
    "full_cf['dalle'] = ''"
   ]
  },
  {
   "cell_type": "code",
   "execution_count": 13,
   "metadata": {},
   "outputs": [
    {
     "data": {
      "text/html": [
       "<div>\n",
       "<style scoped>\n",
       "    .dataframe tbody tr th:only-of-type {\n",
       "        vertical-align: middle;\n",
       "    }\n",
       "\n",
       "    .dataframe tbody tr th {\n",
       "        vertical-align: top;\n",
       "    }\n",
       "\n",
       "    .dataframe thead th {\n",
       "        text-align: right;\n",
       "    }\n",
       "</style>\n",
       "<table border=\"1\" class=\"dataframe\">\n",
       "  <thead>\n",
       "    <tr style=\"text-align: right;\">\n",
       "      <th></th>\n",
       "      <th>id</th>\n",
       "      <th>name</th>\n",
       "      <th>abrev</th>\n",
       "      <th>color</th>\n",
       "      <th>alt_color</th>\n",
       "      <th>mascot</th>\n",
       "      <th>logos</th>\n",
       "      <th>division</th>\n",
       "      <th>long_name</th>\n",
       "      <th>joiner</th>\n",
       "    </tr>\n",
       "  </thead>\n",
       "  <tbody>\n",
       "    <tr>\n",
       "      <th>1216</th>\n",
       "      <td>1000027.0</td>\n",
       "      <td>Gonzaga</td>\n",
       "      <td>None</td>\n",
       "      <td>#FFFFFF</td>\n",
       "      <td>None</td>\n",
       "      <td>Bulldogs</td>\n",
       "      <td>https://github.com/klunn91/team-logos/blob/mas...</td>\n",
       "      <td>None</td>\n",
       "      <td>None</td>\n",
       "      <td>gonzaga</td>\n",
       "    </tr>\n",
       "    <tr>\n",
       "      <th>1819</th>\n",
       "      <td>NaN</td>\n",
       "      <td>Gonzaga</td>\n",
       "      <td>GU</td>\n",
       "      <td>#041E42</td>\n",
       "      <td>None</td>\n",
       "      <td>Bulldogs</td>\n",
       "      <td>https://en.wikipedia.org/wiki/Gonzaga_Bulldogs...</td>\n",
       "      <td>None</td>\n",
       "      <td>None</td>\n",
       "      <td>gonzaga</td>\n",
       "    </tr>\n",
       "  </tbody>\n",
       "</table>\n",
       "</div>"
      ],
      "text/plain": [
       "             id     name abrev    color alt_color    mascot  \\\n",
       "1216  1000027.0  Gonzaga  None  #FFFFFF      None  Bulldogs   \n",
       "1819        NaN  Gonzaga    GU  #041E42      None  Bulldogs   \n",
       "\n",
       "                                                  logos division long_name  \\\n",
       "1216  https://github.com/klunn91/team-logos/blob/mas...     None      None   \n",
       "1819  https://en.wikipedia.org/wiki/Gonzaga_Bulldogs...     None      None   \n",
       "\n",
       "       joiner  \n",
       "1216  gonzaga  \n",
       "1819  gonzaga  "
      ]
     },
     "execution_count": 13,
     "metadata": {},
     "output_type": "execute_result"
    }
   ],
   "source": [
    "team_info.loc[team_info.name=='Gonzaga']"
   ]
  },
  {
   "cell_type": "code",
   "execution_count": 14,
   "metadata": {},
   "outputs": [
    {
     "name": "stdout",
     "output_type": "stream",
     "text": [
      "Prompt: \n",
      "        Generate an image of the Kansas State Wildcats mascot fighting the Florida Atlantic Owls mascot.\n",
      "        It is a fierce battle centered around basketball. Depict the battle in a Dragon Ball Z Goku vs Saitama animation style.\n",
      "        \n",
      "using saved image because test mode\n"
     ]
    }
   ],
   "source": [
    "a,b = hf.build_cbb(full_cf)"
   ]
  }
 ],
 "metadata": {
  "kernelspec": {
   "display_name": ".venv",
   "language": "python",
   "name": "python3"
  },
  "language_info": {
   "codemirror_mode": {
    "name": "ipython",
    "version": 3
   },
   "file_extension": ".py",
   "mimetype": "text/x-python",
   "name": "python",
   "nbconvert_exporter": "python",
   "pygments_lexer": "ipython3",
   "version": "3.10.4"
  }
 },
 "nbformat": 4,
 "nbformat_minor": 2
}
