{
 "cells": [
  {
   "cell_type": "code",
   "execution_count": 3,
   "metadata": {},
   "outputs": [],
   "source": [
    "from bs4 import BeautifulSoup\n",
    "import requests\n",
    "import datetime as dt\n",
    "from PIL import Image\n",
    "import helpers as hf\n",
    "import yaml\n",
    "from unidecode import unidecode\n",
    "import pandas as pd\n",
    "from PIL import Image, ImageOps, ImageDraw, ImageFont\n",
    "import json\n",
    "\n",
    "\n",
    "with open(\"design_config.yml\", \"r\") as f:\n",
    "    design_config = yaml.safe_load(f)\n",
    "\n",
    "design_config,shop_config = hf.get_config('cbb')\n",
    "cfbd_loader = hf.cfbp_handler(design_config['cfbd_api'])"
   ]
  },
  {
   "cell_type": "code",
   "execution_count": 32,
   "metadata": {},
   "outputs": [],
   "source": [
    "big_body = \"\"\"\n",
    "{\n",
    "  product(id:\"gid://shopify/Product/prod_id\") {\n",
    "    title\n",
    "    media(first:5) {\n",
    "      edges {\n",
    "        node {\n",
    "          ... fieldsForMediaTypes\n",
    "        }\n",
    "      }\n",
    "    }\n",
    "  }\n",
    "}\n",
    "\n",
    "fragment fieldsForMediaTypes on Media {\n",
    "  alt\n",
    "  mediaContentType\n",
    "  preview {\n",
    "    image {\n",
    "      id\n",
    "      altText\n",
    "      url\n",
    "    }\n",
    "  }\n",
    "  status\n",
    "  ... on Video {\n",
    "    id\n",
    "    sources {\n",
    "      format\n",
    "      height\n",
    "      mimeType\n",
    "      url\n",
    "      width\n",
    "    }\n",
    "    originalSource {\n",
    "      format\n",
    "      height\n",
    "      mimeType\n",
    "      url\n",
    "      width\n",
    "    }\n",
    "  }\n",
    "  ... on ExternalVideo {\n",
    "    id\n",
    "    host\n",
    "    embeddedUrl\n",
    "  }\n",
    "  ... on Model3d {\n",
    "    sources {\n",
    "      format\n",
    "      mimeType\n",
    "      url\n",
    "    }\n",
    "    originalSource {\n",
    "      format\n",
    "      mimeType\n",
    "      url\n",
    "    }\n",
    "  }\n",
    "  ... on MediaImage {\n",
    "    id\n",
    "    image {\n",
    "      altText\n",
    "      url\n",
    "    }\n",
    "  }\n",
    "}\n",
    "\"\"\"\n",
    "\n",
    "big_body2 = \"\"\"\n",
    "{\n",
    "  product(id:\"gid://shopify/Product/prod_id\") {\n",
    "    title\n",
    "    media(first:10) {\n",
    "      edges {\n",
    "        node {\n",
    "        }\n",
    "      }\n",
    "    }\n",
    "  }\n",
    "}\n",
    "\"\"\"\n",
    "mid_body=\"\"\"{\n",
    "\"query\": \"mutation productReorderMedia($id: ID!, $moves: [MoveInput!]!) { productReorderMedia(id: $id, moves: $moves) { job { id } } }\",\n",
    " \"variables\": {\n",
    "    \"id\": \"gid://shopify/Product/prod_id\",\n",
    "    \"moves\": [\n",
    "      {\n",
    "        \"id\": \"image0\",\n",
    "        \"newPosition\": \"2\"\n",
    "      },\n",
    "      {\n",
    "        \"id\": \"image2\",\n",
    "        \"newPosition\": \"0\"\n",
    "      }\n",
    "    ]\n",
    "  }\n",
    "}\"\"\"\n"
   ]
  },
  {
   "cell_type": "code",
   "execution_count": 4,
   "metadata": {},
   "outputs": [],
   "source": [
    "headers_shopify = {\n",
    "            \"X-Shopify-Access-Token\": shop_config[\"shopify_access\"],\n",
    "            \"Content-Type\": \"application/json\",\n",
    "        }"
   ]
  },
  {
   "cell_type": "code",
   "execution_count": 29,
   "metadata": {},
   "outputs": [],
   "source": [
    "def recursive_get_prods(since_id=0,all_products=[]):\n",
    "    url = f\"https://{shop_config['cbb']['shop_name']}.myshopify.com/admin/api/2023-01/products.json?since_id={since_id}\"\n",
    "    response = requests.get(url=url,headers = headers_shopify)\n",
    "    products = json.loads(response.text)['products']\n",
    "    print(response.status_code)\n",
    "    if len(products)==0:\n",
    "        return all_products\n",
    "    else:\n",
    "        # new products were found, there could be more in the next iteration\n",
    "        all_products.extend(products)\n",
    "        return recursive_get_prods(since_id=products[-1][\"id\"],all_products=all_products)"
   ]
  },
  {
   "cell_type": "code",
   "execution_count": 30,
   "metadata": {},
   "outputs": [
    {
     "name": "stdout",
     "output_type": "stream",
     "text": [
      "200\n",
      "200\n"
     ]
    }
   ],
   "source": [
    "all_prods = recursive_get_prods(since_id=0,all_products=[])"
   ]
  },
  {
   "cell_type": "code",
   "execution_count": 33,
   "metadata": {},
   "outputs": [
    {
     "name": "stdout",
     "output_type": "stream",
     "text": [
      "{\"data\":{\"productReorderMedia\":{\"job\":{\"id\":\"gid://shopify/Job/12072c7d-6726-42d8-aee8-1e437d7afba8\"}}},\"extensions\":{\"cost\":{\"requestedQueryCost\":10,\"actualQueryCost\":10,\"throttleStatus\":{\"maximumAvailable\":2000.0,\"currentlyAvailable\":1990,\"restoreRate\":100.0}}}}\n",
      "{\"data\":{\"productReorderMedia\":{\"job\":{\"id\":\"gid://shopify/Job/db922f82-fa2e-4df9-bf75-a902ab03e02c\"}}},\"extensions\":{\"cost\":{\"requestedQueryCost\":10,\"actualQueryCost\":10,\"throttleStatus\":{\"maximumAvailable\":2000.0,\"currentlyAvailable\":1990,\"restoreRate\":100.0}}}}\n",
      "{\"data\":{\"productReorderMedia\":{\"job\":{\"id\":\"gid://shopify/Job/b8169912-e01d-46e5-9fc8-2278201cabad\"}}},\"extensions\":{\"cost\":{\"requestedQueryCost\":10,\"actualQueryCost\":10,\"throttleStatus\":{\"maximumAvailable\":2000.0,\"currentlyAvailable\":1990,\"restoreRate\":100.0}}}}\n",
      "{\"data\":{\"productReorderMedia\":{\"job\":{\"id\":\"gid://shopify/Job/053c3dee-fe07-4488-b916-b87f617824b6\"}}},\"extensions\":{\"cost\":{\"requestedQueryCost\":10,\"actualQueryCost\":10,\"throttleStatus\":{\"maximumAvailable\":2000.0,\"currentlyAvailable\":1990,\"restoreRate\":100.0}}}}\n",
      "{\"data\":{\"productReorderMedia\":{\"job\":{\"id\":\"gid://shopify/Job/be868094-832d-414d-9950-6b877b6328fd\"}}},\"extensions\":{\"cost\":{\"requestedQueryCost\":10,\"actualQueryCost\":10,\"throttleStatus\":{\"maximumAvailable\":2000.0,\"currentlyAvailable\":1990,\"restoreRate\":100.0}}}}\n",
      "{\"data\":{\"productReorderMedia\":{\"job\":{\"id\":\"gid://shopify/Job/479a7371-1c9a-4db6-a142-8e8376943ed9\"}}},\"extensions\":{\"cost\":{\"requestedQueryCost\":10,\"actualQueryCost\":10,\"throttleStatus\":{\"maximumAvailable\":2000.0,\"currentlyAvailable\":1990,\"restoreRate\":100.0}}}}\n",
      "{\"data\":{\"productReorderMedia\":{\"job\":{\"id\":\"gid://shopify/Job/c7793ca9-c69a-4feb-8639-b90d6027023b\"}}},\"extensions\":{\"cost\":{\"requestedQueryCost\":10,\"actualQueryCost\":10,\"throttleStatus\":{\"maximumAvailable\":2000.0,\"currentlyAvailable\":1990,\"restoreRate\":100.0}}}}\n"
     ]
    }
   ],
   "source": [
    "for prod in all_prods:\n",
    "    prod_id = prod['id']\n",
    "    prod_gql = prod['admin_graphql_api_id']\n",
    "    body = big_body.replace('prod_id',str(prod_id))\n",
    "    # now that I have the images I can reorder them\n",
    "    url = f\"https://{shop_config['cbb']['shop_name']}.myshopify.com/admin/api/2024-01/graphql.json\"\n",
    "    # from this response i can get my images\n",
    "    response = requests.post(url=url,headers = headers_shopify, json = {\"query\":body})\n",
    "\n",
    "    images = json.loads(response.text)['data']['product']['media']['edges']\n",
    "    image0 = images[0]['node']['id']\n",
    "    image2 = images[2]['node']['id']\n",
    "\n",
    "    # image0 = prod['images'][0]['admin_graphql_api_id']\n",
    "    # image2 = prod['images'][2]['admin_graphql_api_id']\n",
    "\n",
    "    query = \"\"\"\n",
    "    mutation productReorderMedia($id: ID!,\n",
    "    $moves: [MoveInput!]!) {\n",
    "      productReorderMedia(id: $id, moves:\n",
    "      $moves) {\n",
    "        job {\n",
    "        id\n",
    "        }\n",
    "      }\n",
    "    }\"\"\"\n",
    "\n",
    "\n",
    "    # plug my images and id into this and it should update\n",
    "    variables = {\n",
    "        \"id\": f\"{prod_gql}\",\n",
    "        \"moves\": [\n",
    "            {\n",
    "            \"id\": f\"{image0}\",\n",
    "            \"newPosition\": \"2\"\n",
    "            },\n",
    "            {\n",
    "            \"id\": f\"{image2}\",\n",
    "            \"newPosition\": \"0\"\n",
    "            }\n",
    "        ]\n",
    "        }\n",
    "    response2 = requests.post(url=url, json={'query': query , 'variables': variables}, headers= headers_shopify)\n",
    "\n",
    "\n",
    "\n",
    "    if response2.status_code == 200:\n",
    "        print(response2.text)"
   ]
  },
  {
   "cell_type": "code",
   "execution_count": 57,
   "metadata": {},
   "outputs": [
    {
     "name": "stdout",
     "output_type": "stream",
     "text": [
      "{\"data\":{\"productReorderMedia\":{\"job\":{\"id\":\"gid://shopify/Job/96b7ebc4-d1cd-4fa9-a1dd-992e67c6e9cf\",\"done\":false},\"mediaUserErrors\":[]}},\"extensions\":{\"cost\":{\"requestedQueryCost\":10,\"actualQueryCost\":10,\"throttleStatus\":{\"maximumAvailable\":2000.0,\"currentlyAvailable\":1990,\"restoreRate\":100.0}}}}\n",
      "{\"data\":{\"productReorderMedia\":{\"job\":{\"id\":\"gid://shopify/Job/a6cd6383-f63a-4e51-af6e-f66afd514664\",\"done\":false},\"mediaUserErrors\":[]}},\"extensions\":{\"cost\":{\"requestedQueryCost\":10,\"actualQueryCost\":10,\"throttleStatus\":{\"maximumAvailable\":2000.0,\"currentlyAvailable\":1990,\"restoreRate\":100.0}}}}\n",
      "{\"data\":{\"productReorderMedia\":{\"job\":{\"id\":\"gid://shopify/Job/8f15fc83-856d-4a4e-b0fd-039da32d091f\",\"done\":false},\"mediaUserErrors\":[]}},\"extensions\":{\"cost\":{\"requestedQueryCost\":10,\"actualQueryCost\":10,\"throttleStatus\":{\"maximumAvailable\":2000.0,\"currentlyAvailable\":1990,\"restoreRate\":100.0}}}}\n",
      "{\"data\":{\"productReorderMedia\":{\"job\":{\"id\":\"gid://shopify/Job/1feda553-0662-405c-a3c1-bdadcd4a7f8e\",\"done\":false},\"mediaUserErrors\":[]}},\"extensions\":{\"cost\":{\"requestedQueryCost\":10,\"actualQueryCost\":10,\"throttleStatus\":{\"maximumAvailable\":2000.0,\"currentlyAvailable\":1990,\"restoreRate\":100.0}}}}\n",
      "{\"data\":{\"productReorderMedia\":{\"job\":{\"id\":\"gid://shopify/Job/08851f95-0cde-4495-b20a-d98fb8ea431d\",\"done\":false},\"mediaUserErrors\":[]}},\"extensions\":{\"cost\":{\"requestedQueryCost\":10,\"actualQueryCost\":10,\"throttleStatus\":{\"maximumAvailable\":2000.0,\"currentlyAvailable\":1990,\"restoreRate\":100.0}}}}\n",
      "{\"data\":{\"productReorderMedia\":{\"job\":{\"id\":\"gid://shopify/Job/74a42f1f-6833-4fd5-a4f1-cb9bafd197f0\",\"done\":false},\"mediaUserErrors\":[]}},\"extensions\":{\"cost\":{\"requestedQueryCost\":10,\"actualQueryCost\":10,\"throttleStatus\":{\"maximumAvailable\":2000.0,\"currentlyAvailable\":1990,\"restoreRate\":100.0}}}}\n",
      "{\"data\":{\"productReorderMedia\":{\"job\":{\"id\":\"gid://shopify/Job/5bb4578f-149a-4350-baf3-5213bc464672\",\"done\":false},\"mediaUserErrors\":[]}},\"extensions\":{\"cost\":{\"requestedQueryCost\":10,\"actualQueryCost\":10,\"throttleStatus\":{\"maximumAvailable\":2000.0,\"currentlyAvailable\":1990,\"restoreRate\":100.0}}}}\n"
     ]
    }
   ],
   "source": [
    "for prod in all_prods:\n",
    "  prod_id = prod['id']\n",
    "  prod_gql = prod['admin_graphql_api_id']\n",
    "  body = big_body.replace('prod_id',str(prod_id))\n",
    "  # now that I have the images I can reorder them\n",
    "  url = f\"https://{shop_config['cbb']['shop_name']}.myshopify.com/admin/api/2024-01/graphql.json\"\n",
    "  # from this response i can get my images\n",
    "  response = requests.post(url=url,headers = headers_shopify, json = {\"query\":body})\n",
    "\n",
    "  images = json.loads(response.text)['data']['product']['media']['edges']\n",
    "  image0 = images[0]['node']['id']\n",
    "  image2 = images[2]['node']['id']\n",
    "\n",
    "  q=\"\"\"\n",
    "  mutation reorderProductMedia {\n",
    "    productReorderMedia(\n",
    "      id: \"gidp\",\n",
    "      moves: [\n",
    "      {\n",
    "        id: \"gid0\",\n",
    "        newPosition: \"2\"\n",
    "      },\n",
    "      {\n",
    "        id: \"gid2\",\n",
    "        newPosition: \"0\"\n",
    "      }\n",
    "    ]) {\n",
    "      job {\n",
    "        id\n",
    "        done\n",
    "      }\n",
    "      mediaUserErrors {\n",
    "        code\n",
    "        field\n",
    "        message\n",
    "      }\n",
    "    }\n",
    "  }\n",
    "  \"\"\".replace('gidp',prod_gql).replace('gid0',image0).replace('gid2',image0)\n",
    "\n",
    "\n",
    "  graphql_url =f\"https://{shop_config['cbb']['shop_name']}.myshopify.com/admin/api/2023-04/graphql.json\"\n",
    "\n",
    "  response = requests.post(graphql_url, headers=headers_shopify, json={'query': q})\n",
    "  print(response.text)\n",
    "\n"
   ]
  },
  {
   "cell_type": "code",
   "execution_count": 54,
   "metadata": {},
   "outputs": [],
   "source": [
    "check_q='''{\n",
    "\"query { job(id: \"gid://shopify/Job/87147bdd-eda8-4a1b-bd2c-63507e1ef074\") { id done } }\"\n",
    "}'''\n",
    "check_url = f\"https://{shop_config['cbb']['shop_name']}.myshopify.com/admin/api/2024-01/graphql.json\"\n",
    "check_response = requests.post(graphql_url, headers=headers_shopify, json={'query': check_q})"
   ]
  },
  {
   "cell_type": "code",
   "execution_count": 55,
   "metadata": {},
   "outputs": [
    {
     "data": {
      "text/plain": [
       "'{\"data\":{\"productReorderMedia\":{\"job\":{\"id\":\"gid://shopify/Job/78298459-6ec4-421a-a0c8-42c1fe5572e8\",\"done\":false},\"mediaUserErrors\":[]}},\"extensions\":{\"cost\":{\"requestedQueryCost\":10,\"actualQueryCost\":10,\"throttleStatus\":{\"maximumAvailable\":2000.0,\"currentlyAvailable\":1990,\"restoreRate\":100.0}}}}'"
      ]
     },
     "execution_count": 55,
     "metadata": {},
     "output_type": "execute_result"
    }
   ],
   "source": [
    "response.text"
   ]
  }
 ],
 "metadata": {
  "kernelspec": {
   "display_name": ".venv",
   "language": "python",
   "name": "python3"
  },
  "language_info": {
   "codemirror_mode": {
    "name": "ipython",
    "version": 3
   },
   "file_extension": ".py",
   "mimetype": "text/x-python",
   "name": "python",
   "nbconvert_exporter": "python",
   "pygments_lexer": "ipython3",
   "version": "3.10.4"
  }
 },
 "nbformat": 4,
 "nbformat_minor": 2
}
